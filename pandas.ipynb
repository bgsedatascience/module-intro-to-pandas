{
 "cells": [
  {
   "cell_type": "markdown",
   "metadata": {},
   "source": [
    "## Numpy: NUMerical PYthon \n",
    "\n",
    "This is Python's stack for scientific computing. The fundamental new data type is that of a **numpy array**, Python's matrix(tensor)-type object, which is used in the majority of Python's modules for Data Analysis, Statistics and Machine Learning  - for example in order to feed data into `sklearn` functions\n",
    "\n",
    "numpy arrays contain data all of the same type (*dtype*), numerical of many types or boolean\n",
    "\n",
    "The coordinates are known as axes"
   ]
  },
  {
   "cell_type": "code",
   "execution_count": null,
   "metadata": {},
   "outputs": [],
   "source": [
    "# import module \n",
    "import numpy as np"
   ]
  },
  {
   "cell_type": "markdown",
   "metadata": {},
   "source": [
    "To create an array we use the np.array() function"
   ]
  },
  {
   "cell_type": "code",
   "execution_count": null,
   "metadata": {},
   "outputs": [],
   "source": [
    "# creating an array\n",
    "a = np.array([[1, 2, 3, 4, 5, 6], \n",
    "              [42, 53, 43 ,62, 7, 4], \n",
    "              [-3, -1, -4 ,-8, -52, -4], \n",
    "              [10, 0, 4 , 1, 0, 1]])"
   ]
  },
  {
   "cell_type": "markdown",
   "metadata": {
    "slideshow": {
     "slide_type": "-"
    }
   },
   "source": [
    "We can access the elements in an array using multi-index notation, familiar in small variations in many computing environments and languages - with the usual Pythonic conventions, e.g., counting starts from 0, slicing a:b is inclusive:exclusive, negative indices, etc\n",
    "\n",
    "What do you think the following piece of code does? \n",
    "\n",
    "```python\n",
    "print(a[-2:,[2,4]])\n",
    "```"
   ]
  },
  {
   "cell_type": "markdown",
   "metadata": {},
   "source": [
    "### Array attributes\n",
    "\n",
    "The array data type has its own attributes. Some worth highlighting are:\n",
    "\n",
    "+ Shape\n",
    "```python\n",
    "arrayname.shape # returns the shape as tuple, e.g. (4,6)\n",
    "arrayname.reshape(arg) # returns a new array with the same data as those in arrayname but organized in different shape - read carefully defaults\n",
    "```\n",
    "+ Aggregations\n",
    "```python\n",
    "arrayname.function(arg) # e.g. function could be sum, max, min, etc. args can be used to specify operation over all elements, or for an axis, etc  - this is much more efficient than looping\n",
    "```\n",
    "+ Linear algebra\n",
    "```python\n",
    "arrayname.transpose(arg)  # transpose - even for multi-d arrays\n",
    "arrayname.diagonal(arg) # diagonal elements as array\n",
    "arrayname.dot(anotherarray) # dot product\n",
    "```\n"
   ]
  },
  {
   "cell_type": "markdown",
   "metadata": {},
   "source": [
    "## Array operations\n",
    "\n",
    "Remember that to concatenate two lists in Python, we could use the \"+\" operator. \n",
    "\n",
    "This is not the case in Numpy!\n",
    "\n",
    "Mathematical symbols take on mathematical meanings in Numpy. Thus, the \"+\" operator between two Numpy Arrays actually just attempts to add them together, elementwise."
   ]
  },
  {
   "cell_type": "code",
   "execution_count": null,
   "metadata": {},
   "outputs": [],
   "source": [
    "# Numpy array addition: \n",
    "\n",
    "a,b = np.array([1,2,3]), np.array([4,5,6])\n",
    "a + b"
   ]
  },
  {
   "cell_type": "code",
   "execution_count": null,
   "metadata": {},
   "outputs": [],
   "source": [
    "# Numpy array concatenation: \n",
    "\n",
    "np.concatenate([a,b])"
   ]
  },
  {
   "cell_type": "markdown",
   "metadata": {
    "slideshow": {
     "slide_type": "slide"
    }
   },
   "source": [
    "# Data analysis with Python\n",
    "\n",
    "PANDAS: Panel Data Structures \n",
    "\n",
    "This is the module in Python for doing rectangular-data management, analysis and plotting.\n",
    "\n",
    "The first set of tools are to read and write. "
   ]
  },
  {
   "cell_type": "markdown",
   "metadata": {
    "slideshow": {
     "slide_type": "slide"
    }
   },
   "source": [
    "## Loading data into Python \n",
    "\n",
    "<img src=\"io_tools.png\"> \n",
    "\n",
    "See [IO DOC](https://pandas.pydata.org/pandas-docs/stable/io.html) in Python for more information\n",
    "\n",
    "Lets load our first dataset (and load all we need to get working!)"
   ]
  },
  {
   "cell_type": "code",
   "execution_count": null,
   "metadata": {},
   "outputs": [],
   "source": [
    "import pandas as pd\n",
    "\n",
    "# load a dataframe from disk\n",
    "tips = pd.read_csv(\"tips.csv\")\n",
    "tips.head(5)"
   ]
  },
  {
   "cell_type": "markdown",
   "metadata": {
    "slideshow": {
     "slide_type": "slide"
    }
   },
   "source": [
    "## Series and DataFrame\n",
    "\n",
    "These are the two basic data formats in PANDAS, the equivalent of column and rectangular data structures, as in linear algebra (vector/matrix) but equipped with several attributes invaluable for data management and analysis\n",
    "\n",
    "In the *tips* example, the variable \"tips\" is a DataFrame, while any individual column would be a Series. \n",
    "\n"
   ]
  },
  {
   "cell_type": "markdown",
   "metadata": {
    "slideshow": {
     "slide_type": "slide"
    }
   },
   "source": [
    "## Series \n",
    "\n",
    "This is a 1-d data structure with *values* accessed via their index. \n",
    "\n",
    "Unlike in raw Python or Numpy, however, Series indices can be made up of either: \n",
    "+ *numbers*: which could be ordered and contiguous like a Python list, but don't have to be! \n",
    "+ *strings*: essentially labels, like the keys in a dictionary\n",
    "\n",
    "Although typically a series is obtained by reading a dataset from an external file or when doing operations on dataframes, we can still define one manually by specifying the values and the indices. \n",
    "\n",
    "Let's do this an get an insight into how it works"
   ]
  },
  {
   "cell_type": "code",
   "execution_count": null,
   "metadata": {},
   "outputs": [],
   "source": [
    "# here no indices are specified, there are defaults\n",
    "my_series = pd.Series([1, 15, -5, None, 4, 123, 0, 78, 0, 5, -4])"
   ]
  },
  {
   "cell_type": "code",
   "execution_count": null,
   "metadata": {},
   "outputs": [],
   "source": [
    "# Accessing a certain value via the index\n",
    "\n",
    "my_series[0]"
   ]
  },
  {
   "cell_type": "code",
   "execution_count": null,
   "metadata": {},
   "outputs": [],
   "source": [
    "# Note that there are a bunch of attributes.\n",
    "# .values returns a numpy ndarray of the values! \n",
    "\n",
    "my_series.values"
   ]
  },
  {
   "cell_type": "code",
   "execution_count": null,
   "metadata": {},
   "outputs": [],
   "source": [
    "# Take a look at the index. What type is it? \n",
    "# You convert itto a numpy ndarray by adding \".values\" again!\n",
    "\n",
    "my_series.index"
   ]
  },
  {
   "cell_type": "code",
   "execution_count": null,
   "metadata": {},
   "outputs": [],
   "source": [
    "# You can overwrite the index directly: \n",
    "\n",
    "my_series.index = [\"om\",\"ir\",\"os\",\"pap\",\"pas\",\"pil\",\"io\",\"po\",\"ulos\",\"is\",\"best\"]\n",
    "\n",
    "my_series"
   ]
  },
  {
   "cell_type": "markdown",
   "metadata": {},
   "source": [
    "## iloc\n",
    "\n",
    "Accessing values via the index can be very useful, but sometimes you want to access the values as though they were a Python list. In other words \"I want the first value!\", without having to know the name of the label. \n",
    "\n",
    "This can be achieved with .iloc: \n",
    "\n",
    "```python\n",
    "my_series.iloc[0]\n",
    "```"
   ]
  },
  {
   "cell_type": "code",
   "execution_count": null,
   "metadata": {},
   "outputs": [],
   "source": [
    "# Series that have string indices can also be accessed via a RangeIndex\n",
    "# (which is similar to the index of a regular Python list)\n",
    "\n",
    "my_series.iloc[0], my_series[\"om\"]"
   ]
  },
  {
   "cell_type": "code",
   "execution_count": null,
   "metadata": {},
   "outputs": [],
   "source": [
    "# Note that indices can get moved around, by sorting for example!\n",
    "# iloc gives you the element you would get if the Series\n",
    "# was a list and you were giving it the index:\n",
    "\n",
    "# This just resets the index to be as we found it originally\n",
    "my_series = my_series.reset_index(drop=True)\n",
    "\n",
    "x = my_series.sort_values()\n",
    "\n",
    "x[0], x.iloc[0]"
   ]
  },
  {
   "cell_type": "markdown",
   "metadata": {
    "slideshow": {
     "slide_type": "slide"
    }
   },
   "source": [
    "## Operations with series\n",
    "\n",
    "Because Series are Numpy arrays behind the scenes, we can compute element-wise functions on one series or several series at the same time. The result is another series with data type depending on the type of operations performed. \n",
    "\n",
    "For example, what do you think the following piece of code will do: "
   ]
  },
  {
   "cell_type": "code",
   "execution_count": null,
   "metadata": {
    "slideshow": {
     "slide_type": "slide"
    }
   },
   "outputs": [],
   "source": [
    "Series1 = pd.Series([1,3,5,7])\n",
    "Series2 = pd.Series([0,10,-1,6])\n",
    "\n",
    "Series3 = 2*Series1 + abs(Series2)\n",
    "\n",
    "Series4 = Series1 > Series2 \n",
    "\n",
    "# Take a look at the different Series objects!\n",
    "Series4"
   ]
  },
  {
   "cell_type": "markdown",
   "metadata": {
    "slideshow": {
     "slide_type": "slide"
    }
   },
   "source": [
    "## Data alignment \n",
    "\n",
    "What goes on in the previous examples is more subtle than it looks. How does Python know which elements from each series to join in the required operation together?  \n",
    "\n",
    "What happens is that the indices happened to be the same. So when we ask something like \n",
    "\n",
    "```python\n",
    "Series3 = Series1 + Series2 \n",
    "```\n",
    "\n",
    "Python looks for entries in each series with the same index and then does an elementwise summation that it stores in a like-wise index in Series 3. \n",
    "\n",
    "Consider instead the following example "
   ]
  },
  {
   "cell_type": "code",
   "execution_count": null,
   "metadata": {
    "slideshow": {
     "slide_type": "slide"
    }
   },
   "outputs": [],
   "source": [
    "Series1 = pd.Series([1,10],index=[\"om\",\"iros\"])\n",
    "Series2 = pd.Series([4,-1],index=[\"pap\",\"as\"])\n",
    "Series3 = Series1 + Series2\n",
    "Series3"
   ]
  },
  {
   "cell_type": "markdown",
   "metadata": {
    "slideshow": {
     "slide_type": "slide"
    }
   },
   "source": [
    "This aspect makes it very easy to work with series that we have sorted or manipulated otherwise; there is always the address to access a value. This helps prevent accidentally combining values we didn't mean to combine!"
   ]
  },
  {
   "cell_type": "markdown",
   "metadata": {
    "slideshow": {
     "slide_type": "slide"
    }
   },
   "source": [
    "## Basic information retrieval with series\n",
    "\n",
    "+ Accessing single elements\n",
    "+ Slicing; accessing a set of elements\n",
    "+ Filtering; selection by  boolean index\n",
    "\n",
    "Recalling that operations on Series returns Series, the big news here is that we can access values in a Series by specifying \n",
    "\n",
    "+ single index\n",
    "+ a slice (a:b for integers a,b) \n",
    "+ list (or Numpy Array or Series) of index labels\n",
    "+ a boolean Series (also called a _boolean mask_) \n",
    "\n",
    "Interesting: the result of any such retrieval (except for a single index) is a series itself!"
   ]
  },
  {
   "cell_type": "code",
   "execution_count": null,
   "metadata": {},
   "outputs": [],
   "source": [
    "# accesing by list of index labels\n",
    "\n",
    "my_series.index = [\"om\",\"ir\",\"os\",\"pap\",\"pas\",\"pil\",\"io\",\"po\",\"ulos\",\"is\",\"best\"]\n",
    "x = my_series[[\"om\",\"pap\"]]\n",
    "x"
   ]
  },
  {
   "cell_type": "code",
   "execution_count": null,
   "metadata": {},
   "outputs": [],
   "source": [
    "# getting a boolean-valued series by checking a condition\n",
    "\n",
    "choose = my_series == 0.0\n",
    "choose"
   ]
  },
  {
   "cell_type": "code",
   "execution_count": null,
   "metadata": {},
   "outputs": [],
   "source": [
    "# Notice the index of x is a SUBSET of the index of \"my_series\"\n",
    "# This can be useful when needing to relate values back to the original \"my_series\"!\n",
    "\n",
    "x = my_series[choose]\n",
    "x"
   ]
  },
  {
   "cell_type": "markdown",
   "metadata": {},
   "source": [
    "## Filtering via boolean masks\n",
    "\n",
    "We often use boolean masks to filter data in Pandas. Series that are of type \"bool\" thus take on special significance: we use them a lot!\n",
    "\n",
    "We also get special boolean algebra operators to use in Numpy/Pandas, distinct from the and/or/not you will use in regular Python: \n",
    "\n",
    "\n",
    "```python\n",
    "& # AND\n",
    "| # OR\n",
    "~ # NOT\n",
    "```"
   ]
  },
  {
   "cell_type": "code",
   "execution_count": null,
   "metadata": {},
   "outputs": [],
   "source": [
    "# Challenge: \n",
    "\n",
    "# Filter \"my_series\" to be all the elements that are NOT\n",
    "# equal to 0, using the \"choose\" boolean mask below: \n",
    "\n",
    "choose = my_series == 0.0\n",
    "my_series[my_series != 0]\n",
    "my_series[~choose]"
   ]
  },
  {
   "cell_type": "markdown",
   "metadata": {
    "slideshow": {
     "slide_type": "slide"
    }
   },
   "source": [
    "## Coding and managing missing values\n",
    "\n",
    "A series object in PANDAS can deal with maybe the most important type of data of all for data analysis: missing data! \n",
    "\n",
    "We already see very naturally how data management leads to missing data rather immediately. Recall the earlier attempt to sum up to Series\n",
    "\n",
    "```python\n",
    "Series3 = Series1+Series2\n",
    "print(Series3)\n",
    "as     NaN\n",
    "iros   NaN\n",
    "om     NaN\n",
    "pap    NaN\n",
    "dtype: float64\n",
    "```\n",
    "What happened there is that in the operation labels could not be matched, so pandas tried to sum a numeric value with a missing value, the result of which is a missing value!"
   ]
  },
  {
   "cell_type": "markdown",
   "metadata": {
    "slideshow": {
     "slide_type": "slide"
    }
   },
   "source": [
    "The way to manually specify in PANDAS that a value is missing is to use use None, as below: \n",
    "\n",
    "```python\n",
    "temp = pd.Series([1,None,2])\n",
    "print(temp)\n",
    "0    1.0\n",
    "1    NaN\n",
    "2    2.0\n",
    "dtype: float64\n",
    "```\n",
    "If the Series is numeric, Pandas will caste it to numpy.float64 type and convert the None values to Numpy NaN values (Not a Number). If the Series is of type \"object\" (arbitrary Python objects), it will keep the values as None.\n",
    "\n",
    "We can create *boolean masks* on the basis of such values. The way to identify NaN or None values in a Series is to use either of the equivalent two attributes\n",
    "\n",
    "```python\n",
    "seriesname.isna()\n",
    "seriesname.isnull()\n",
    "```\n",
    "\n",
    "Either returns a boolean-valued series that we can use then for selecting and operating on NaN or the rest of the values. The opposite also exists: \n",
    "\n",
    "```python\n",
    "seriesname.notna()\n",
    "seriesname.notnull()\n",
    "```\n"
   ]
  },
  {
   "cell_type": "code",
   "execution_count": null,
   "metadata": {},
   "outputs": [],
   "source": [
    "# Challenge: \n",
    "# Get a list of names, without the Null values!\n",
    "\n",
    "# The Pandas way: \n",
    "# 1. Create a boolean mask by using the .notna() method.\n",
    "# 2. Use the mask to subset the Series.\n",
    "\n",
    "names = pd.Series(['foo','bar',None,'baz','qux',None])\n",
    "names[names.notna()]"
   ]
  },
  {
   "cell_type": "markdown",
   "metadata": {
    "slideshow": {
     "slide_type": "slide"
    }
   },
   "source": [
    "## Highlighting some important series attributes & methods\n",
    "\n",
    "As usual one should explore the attributes of any python object one ends up working with. We have already accessed the seriesname.index and seriesname.value\n",
    "\n",
    "Some other (among many!) that are worth highlighting: \n",
    "\n",
    "+ .map\n",
    "+ .corr \n",
    "+ .describe\n",
    "+ .hist\n",
    "+ .plot\n",
    "+ .size\n",
    "+ .value_counts\n",
    "+ .sort_values"
   ]
  },
  {
   "cell_type": "code",
   "execution_count": null,
   "metadata": {},
   "outputs": [],
   "source": [
    "# Challenge: \n",
    "\n",
    "# Use the \"map\" method to create a new series with each element\n",
    "# lowercased. Create your own function to do the operation. \n",
    "# Missing values should stay missing!\n",
    "\n",
    "\n",
    "def lower(s):\n",
    "    # Your code here\n",
    "    # HINT: delete the \"pass\" when your done\n",
    "    # HINT2: handle None values!\n",
    "    try:\n",
    "        return s.lower()\n",
    "    except AttributeError:\n",
    "        return None\n",
    "\n",
    "names = pd.Series(['Foo', 'BAR', None, 'foo', None, 'bar', 'bAR', 'foo', None])\n",
    "names_lower = names.map(lower)"
   ]
  },
  {
   "cell_type": "code",
   "execution_count": null,
   "metadata": {},
   "outputs": [],
   "source": []
  },
  {
   "cell_type": "code",
   "execution_count": null,
   "metadata": {},
   "outputs": [],
   "source": [
    "# Challenge: \n",
    "\n",
    "# Using the series from above, now lowercased, count the occurences of each name\n",
    "# Hint: It's simple, just use .value_counts()!\n",
    "\n",
    "names_lower.value_counts()"
   ]
  },
  {
   "cell_type": "markdown",
   "metadata": {
    "slideshow": {
     "slide_type": "slide"
    }
   },
   "source": [
    "## Dataframes\n",
    "\n",
    "This is PANDAS model for rectangular data, operationally is like a dictionary of series; each column of the dataframe is a series object, and clearly comes with all the attributes/methods of a series\n",
    "\n",
    "An implication of the above is that within each column the data type is common; across columns of course this can change\n",
    "\n",
    "Let's see an example right away "
   ]
  },
  {
   "cell_type": "code",
   "execution_count": null,
   "metadata": {},
   "outputs": [],
   "source": [
    "tips = pd.read_csv(\"tips.csv\")\n",
    "tips.head(10) # the first method of our dataframe object! "
   ]
  },
  {
   "cell_type": "code",
   "execution_count": null,
   "metadata": {},
   "outputs": [],
   "source": [
    "# the other important attribute: name of rows and columns\n",
    "tips.index\n",
    "\n",
    "tips.columns"
   ]
  },
  {
   "cell_type": "markdown",
   "metadata": {
    "slideshow": {
     "slide_type": "slide"
    }
   },
   "source": [
    "## Accessing the series embedded within\n",
    "\n",
    "There are two way to access the information in the columns: \n",
    "+ One is to give the name of the column as `dataframename.columnname` \n",
    "   + This is not feasible when the name of the column coincides with an attribute or method of the dataframe, e.g. when a column is called \"size\"  \n",
    "+ Another is as dataframename[\"columnname\"]\n",
    "\n",
    "Any of these calls returns a series object with the same index as the dataframe and the values of the column\n",
    "\n",
    "We can then work with the extracted series as usual. Hence you can understand what happens below \n",
    "\n",
    "```python\n",
    "tips[\"size\"].corr(tips.tip)\n",
    "```"
   ]
  },
  {
   "cell_type": "markdown",
   "metadata": {
    "slideshow": {
     "slide_type": "slide"
    }
   },
   "source": [
    "In a similar fashion, we can access various columns at a time; we need to provide a list of column names in this case; the result is now a dataframe with the same index as the original and columns the chosen subset. We can then work with it using any of the dataframe attributes and methods we know. \n",
    "\n",
    "You can now guess what will happen below: \n",
    "\n",
    "```python\n",
    "tips[[\"tip\",\"size\",\"sex\"]].tip.corr(tips[\"size\"])\n",
    "\n",
    "```\n",
    "(not saying that this is a sensible code! just trying to make sure we understand the structure)"
   ]
  },
  {
   "cell_type": "markdown",
   "metadata": {
    "slideshow": {
     "slide_type": "slide"
    }
   },
   "source": [
    "## Accessing subsets of rows\n",
    "\n",
    "Now we are interested in a subset of rows. We can access rows by:\n",
    "+ list of index labels \n",
    "  ```python\n",
    "  dataframename.loc[ [index1, index2, ...] ]\n",
    "  ```\n",
    "+ list of integer index location (i-loc) \n",
    "  ```python\n",
    "  dataframename.iloc[ [integer1, integer2, ...] ]\n",
    "  ```\n",
    "The output is:\n",
    "+ a series, if a single column or row is chosen\n",
    "+ a dataframe, with index label the chosen index labels and the same column names as the dataframe\n",
    "\n",
    "In the case of .iloc we can also use slices, as for example\n",
    "```python\n",
    "dataframename.iloc[3:5]\n",
    "dataframename.iloc[3:5,:]\n",
    "dataframename.iloc[3:5,-2:]\n",
    "```\n",
    "\n",
    "Note: loc/iloc are also used to access a subset of rows AND columns at the same time. See examples below!"
   ]
  },
  {
   "cell_type": "code",
   "execution_count": null,
   "metadata": {},
   "outputs": [],
   "source": [
    "# Accessing rows AND columns!\n",
    "# Example of 2-dimension loc\n",
    "\n",
    "tips.loc[[1,3], ['sex', 'smoker']]"
   ]
  },
  {
   "cell_type": "code",
   "execution_count": null,
   "metadata": {},
   "outputs": [],
   "source": [
    "# Accessing rows AND columns!\n",
    "# Example of 2-dimensional iloc\n",
    "\n",
    "tips.iloc[[1,3], 2:]"
   ]
  },
  {
   "cell_type": "code",
   "execution_count": null,
   "metadata": {},
   "outputs": [],
   "source": [
    "# Challenge:\n",
    "\n",
    "# Using the tips dataframe, create a new one that contains the \n",
    "# information contained in all rows between the 20th (inclusive) \n",
    "# and the 45th (exclusive) and only the columns: tip, sex, day\n",
    "\n",
    "tips.loc[20:45,[\"tip\",\"sex\",\"day\"]]"
   ]
  },
  {
   "cell_type": "markdown",
   "metadata": {
    "slideshow": {
     "slide_type": "slide"
    }
   },
   "source": [
    "Note that certain operations are exchangeable: the 3rd element of column \"sex\" can be obtained with either of the following ways: \n",
    "```python\n",
    "tips.sex[2] #access col as series, then the 3rd element of that\n",
    "tips.loc[2,\"sex\"] #access the entry in dataframe by giving the index labels of row and col (recall here index labels coincide with numerical indices\n",
    "tips.loc[2][\"sex\"] #accessing the whole row as a series, then using the column name as index label\n",
    "```\n",
    "etc\n"
   ]
  },
  {
   "cell_type": "markdown",
   "metadata": {
    "slideshow": {
     "slide_type": "slide"
    }
   },
   "source": [
    "## Filtering\n",
    "\n",
    "As with series, we can use a boolean-valued series to index a dataframe provided the share the same index labels. The simplest instance of this is to use series produced as boolean masks of columns of the dataframe. The output of this *filtering* operation is a dataframe with subset of rows corresponding to the True values in the boolean mask. \n",
    "\n",
    "For example, for the tips data, what does the following produce? \n",
    "```python\n",
    "tips[tips.sex == \"Male\"] \n",
    "```\n",
    "\n",
    "Recall that the boolean operators are \n",
    "```python\n",
    "& # AND\n",
    "| # OR\n",
    "~ # NOT\n",
    "\n",
    "```"
   ]
  },
  {
   "cell_type": "markdown",
   "metadata": {
    "slideshow": {
     "slide_type": "slide"
    }
   },
   "source": [
    "## Statistics and computations\n",
    "\n",
    "dataframe comes with several attributes for computing column-wise statistics and summaries. We highlight some \n",
    "```python\n",
    ".boxplot # check out the \"by = \" option!\n",
    ".corrwith & .corr # within and across dataframes!\n",
    ".dot \n",
    ".mean/median/max/quantile/sum etc\n",
    ".sample \n",
    ".sort_values \n",
    "```"
   ]
  },
  {
   "cell_type": "code",
   "execution_count": null,
   "metadata": {},
   "outputs": [],
   "source": [
    "# Challenge:\n",
    "\n",
    "# Using the tips dataframe, calculate the correlation between\n",
    "# tip and size for only Male clients during Dinner. \n",
    "\n",
    "# HINT: Remember that \"size\" cannot be accessed via dot notation, as it's an \n",
    "# attribute of the series!\n",
    "tips[(tips.sex==\"Male\")&(tips.time==\"Dinner\")].corr().loc[\"size\",\"tip\"]"
   ]
  },
  {
   "cell_type": "markdown",
   "metadata": {
    "slideshow": {
     "slide_type": "slide"
    }
   },
   "source": [
    "## GroupBy\n",
    "\n",
    "This dataframe method groups the dataframe according to the values of a column, treating them as categorical values; it returns a groupby object!\n",
    "\n",
    "Groupby objects are useful, but can feel a bit opaque. Let's play around with them a bit: "
   ]
  },
  {
   "cell_type": "code",
   "execution_count": null,
   "metadata": {},
   "outputs": [],
   "source": [
    "# Group tips dataframe by size of table\n",
    "by_size = tips.groupby(\"size\")\n",
    "\n",
    "by_size"
   ]
  },
  {
   "cell_type": "code",
   "execution_count": null,
   "metadata": {},
   "outputs": [],
   "source": [
    "# If we coerce it to a list, we see something interesting: \n",
    "# It's basically a list of tuples! \n",
    "# The first element is the \"category\" variable, the second\n",
    "# is a datafame. \n",
    "\n",
    "list(by_size)"
   ]
  },
  {
   "cell_type": "code",
   "execution_count": null,
   "metadata": {},
   "outputs": [],
   "source": [
    "# We can iterate through the groupby just like we would a list of tuples!\n",
    "\n",
    "\n",
    "for sex,data in tips.groupby(\"sex\"):\n",
    "    print(sex)\n",
    "    print(data.mean())"
   ]
  },
  {
   "cell_type": "markdown",
   "metadata": {
    "slideshow": {
     "slide_type": "slide"
    }
   },
   "source": [
    "## Why do we groupby? \n",
    "\n",
    "We group by to perform _some_ operation on each group. To _map_ over the groups, applying a function to each element! \n",
    "\n",
    "Very often this function is itself an aggregation (reduction). We want to somehow aggregate each group into a value or set of values that _describe_ the group!\n",
    "\n",
    "How do we apply functions to each element of a groupby? We use a handy method called \".apply\"!"
   ]
  },
  {
   "cell_type": "code",
   "execution_count": null,
   "metadata": {},
   "outputs": [],
   "source": [
    "# Get the maximum bill by gender: \n",
    "\n",
    "def max_bill(df):\n",
    "    return df.total_bill.max()\n",
    "\n",
    "tips.groupby(\"sex\").apply(max_bill)"
   ]
  },
  {
   "cell_type": "code",
   "execution_count": null,
   "metadata": {},
   "outputs": [],
   "source": [
    "# Challenge: \n",
    "\n",
    "# Get the second largest bill by gender!\n",
    "# HINT: use sort_values and iloc!\n",
    "def sec_max_bill(df):\n",
    "    return df.total_bill.sort_values(ascending=False).iloc[1]\n",
    "tips.groupby(\"sex\").apply(sec_max_bill)"
   ]
  },
  {
   "cell_type": "markdown",
   "metadata": {},
   "source": [
    "## Built-in Aggregations in groupby\n",
    "\n",
    "Many aggregation functions that exist on Series and DataFrames (mean, max, min, etc.) can be called directly via the groupby object: \n",
    "\n",
    "```python\n",
    "tips.groupby(\"sex\").max()\n",
    "tips.groupby(\"sex\").mean()\n",
    "```"
   ]
  },
  {
   "cell_type": "code",
   "execution_count": null,
   "metadata": {},
   "outputs": [],
   "source": [
    "# Challenge: \n",
    "# What is the mean tip, per day, for male vs. female?\n",
    "\n",
    "\n",
    "def day_mean(df):\n",
    "    # Hint: you will need to group by \"day\"\n",
    "    # in this function, then get the mean tip. \n",
    "    return df.groupby(\"day\").tip.mean()\n",
    "\n",
    "\n",
    "tips.groupby(\"sex\").apply(day_mean)"
   ]
  },
  {
   "cell_type": "markdown",
   "metadata": {},
   "source": [
    "\n",
    "# Multiple Groupby!\n",
    "\n",
    "That groupby induction that we just performed, it's quite a common use-case! So there's an even easier way to do it in Pandas. \n",
    "\n",
    "We can group by more than one column! \n",
    "\n",
    "For example the task we accomplished above could also be derived as: \n",
    "\n",
    "```python\n",
    "tips.groupby([\"sex\",\"day\"]).tip.mean()\n",
    "```"
   ]
  },
  {
   "cell_type": "code",
   "execution_count": null,
   "metadata": {},
   "outputs": [],
   "source": [
    "# Take a look at the structure of the multiple groupby!\n",
    "\n",
    "list(tips.groupby([\"sex\", \"day\"]))"
   ]
  },
  {
   "cell_type": "markdown",
   "metadata": {
    "slideshow": {
     "slide_type": "slide"
    }
   },
   "source": [
    "## Combining dataframes\n",
    "\n",
    "There are many ways to combine various dataframes into a new one, extending in many ways what we already saw for operations on series. The main (among various) ways of doing this are: \n",
    "\n",
    "+ Concatenate: paste row-column-wise and taking action on NaNs\n",
    "    + This works more on the rectangular structure of the data \n",
    "+ Merge: combine dataframes using a common piece of information, e.g. a common column\n",
    "    + This works more as a database operation\n"
   ]
  },
  {
   "cell_type": "markdown",
   "metadata": {
    "slideshow": {
     "slide_type": "slide"
    }
   },
   "source": [
    "### Concatenate\n",
    "\n",
    "```python\n",
    "pd.concat([df1,df2,...] , axis = 0 , join = \"outer\", *keywds) \n",
    "```\n",
    "\n",
    "+ axis: 0 for pasting below, 1 for pasting on the side (order in list matters either way) \n",
    "\n",
    "What do you think will happen in the following case? \n",
    "\n",
    "```python\n",
    "df1 = pd.DataFrame({\"A\": pd.Series([1,2,3]), \"B\": pd.Series([4,5,6])})\n",
    "df2 = pd.DataFrame({\"A\": pd.Series([4]), \"C\": pd.Series([7])})\n",
    "df = pd.concat([df1,df2])\n",
    "print(df.loc[0])\n",
    "```\n",
    "\n",
    "The argument *join* can control the decisions to be taken in concatenating dataframes with key or index incompatibility. \n",
    "\n",
    "+ join: \"outer\" union, \"inner\" intersection \n",
    "\n",
    "What do you think will happen if we replace the concatenation step by: \n",
    "\n",
    "```python\n",
    "df = pd.concat([df1,df2], join = \"inner\")\n",
    "print(df.loc[0])\n",
    "```\n",
    "\n",
    "And what about this code? \n",
    "\n",
    "```python\n",
    "df1 = pd.DataFrame({\"A\": pd.Series([1,2,3]), \"B\": pd.Series([4,5,6])})\n",
    "df2 = pd.DataFrame({\"A\": pd.Series([4]), \"C\": pd.Series([7])})\n",
    "df = pd.concat([df1,df2],axis = 1,join = \"inner\")\n",
    "print(df[\"A\"])\n",
    "```\n",
    "\n",
    "\n"
   ]
  },
  {
   "cell_type": "markdown",
   "metadata": {
    "slideshow": {
     "slide_type": "slide"
    }
   },
   "source": [
    "### Merge\n",
    "\n",
    "The concept here is to connect two DataFrames on some common piece of information, e.g. a common column. The structure of the command is: \n",
    "\n",
    "```python\n",
    "pd.merge(leftdf, rightdf, how = \"inner\", on = , *keywds)  \n",
    "```\n",
    "\n",
    "+ \"on\" defines on what piece of information the DataFrames will merge, this can be a column name or a list thereof\n",
    "+ \"how\" is more versatile than \"join\" in pd.concat. There are four options:\n",
    "    + \"inner\": intersection of keys\n",
    "    + \"outer\": union of keys\n",
    "    + \"left\": use keys from left only\n",
    "    + \"right\": use keys from right only\n",
    "\n",
    "\n",
    "We revisit the previous construct and try now to merge instead. What do you think will happen below: (and what about the index labels now, compared to pd.concat??) \n",
    "\n",
    "```python\n",
    "df1 = pd.DataFrame({\"A\": pd.Series([1,2,3]), \"B\": pd.Series([4,5,6])})\n",
    "df2 = pd.DataFrame({\"A\": pd.Series([4]), \"C\": pd.Series([7])})\n",
    "df = pd.merge(df1,df2,on = \"A\", how = \"outer\")\n",
    "print(df)\n",
    "```\n",
    "and what will happen if \"how\" changes to each of the other options?"
   ]
  },
  {
   "cell_type": "markdown",
   "metadata": {},
   "source": [
    "## Working with non-rectangular data\n",
    "\n",
    "We mentioned in the beginning that Pandas is a library for working with rectangular data. \n",
    "\n",
    "What if your data is not rectangular? What does non-rectangular data look like? Very often our data might come in dictionaries. Imagine data about a \"tweet\". It might look like this: \n",
    "\n",
    "\n",
    "```python\n",
    "{\n",
    "    \"screenname\": \"nandanrao\",\n",
    "    \"id_str\": \"928374987\",\n",
    "    \"text\": \"Woah, pandas is so much fun #worldrocked #jawdrop #win\",\n",
    "    \"hashtags\": [\"worldrocked\", \"jawdrop\", \"win\"]\n",
    "}\n",
    "```\n",
    "\n",
    "How would you fit this into a rectangular data format? Do the \"hashtags\" cause a problem? "
   ]
  },
  {
   "cell_type": "code",
   "execution_count": null,
   "metadata": {},
   "outputs": [],
   "source": [
    "raw_tweets = [{ \"screenname\": \"nandanrao\",\n",
    "          \"id_str\": \"928374987\",\n",
    "          \"text\": \"Woah, pandas is so much fun #worldrocked #jawdrop #ml\",\n",
    "          \"hashtags\": [\"worldrocked\", \"jawdrop\", \"ml\"]},\n",
    "          {\"screenname\": \"om\",\n",
    "           \"id_str\": \"98214039\",\n",
    "           \"text\": \"I eat linear models for breakfast #datascience #ml #crossfit\",\n",
    "           \"hashtags\": [\"datascience\", \"ml\", \"crossfit\"]}]\n",
    "\n",
    "tweets = pd.DataFrame(raw_tweets)\n",
    "\n",
    "# What is the \"hashtag\" column made of? \n",
    "tweets"
   ]
  },
  {
   "cell_type": "markdown",
   "metadata": {},
   "source": [
    "## Merge keeps the data flat\n",
    "\n",
    "The correct way to use data such as this in pandas, data with nested lists, is to copy each tweet to multiple rows, one row for each hashtag. \n",
    "\n",
    "We can use \"merge\" to do this for us automatically if we put the data into two separate dataframes, one for the hashtags and one for the rest of the tweets. This is called \"normalized form\" and is often how you will find data if you get it from a SQL database: "
   ]
  },
  {
   "cell_type": "code",
   "execution_count": null,
   "metadata": {},
   "outputs": [],
   "source": [
    "tweets = pd.DataFrame(raw_tweets, columns = [\"screenname\", \"id_str\", \"text\"])\n",
    "tweets"
   ]
  },
  {
   "cell_type": "code",
   "execution_count": null,
   "metadata": {},
   "outputs": [],
   "source": [
    "tags_and_ids = [(t['id_str'], tag) \n",
    "                for t in raw_tweets \n",
    "                for tag in t['hashtags']]\n",
    "\n",
    "hashtags = pd.DataFrame(tags_and_ids, columns = ['id_str', 'hashtag'])\n",
    "\n",
    "hashtags"
   ]
  },
  {
   "cell_type": "code",
   "execution_count": null,
   "metadata": {},
   "outputs": [],
   "source": [
    "df = tweets.merge(hashtags, how='left')\n",
    "\n",
    "df"
   ]
  },
  {
   "cell_type": "markdown",
   "metadata": {},
   "source": [
    "## Programming project: Customer of the month\n",
    "\n",
    "\n",
    "- We have a list of prices for certain products given in the file \"supermarket_prices.csv\"\n",
    "- We have a list of transactions from certain customers in a period of a month given in \"supermarket_transactions.csv\"\n",
    "\n",
    "Calculate\n",
    "- How many items each client has purchased\n",
    "- How many items of each type each client has purchased\n",
    "- Calculate the total amount spent by each client\n",
    "- The company that provides the supermarket with bananas wishes to give a prize to the client that has spent the largest proportion of their spending on bananas. Who should win the prize? \n",
    "- A marketing company that works with the supermarket is interested to understand better the characteristics of the three people that have spent most of their spending on bananas. For each one of them report the other product that they have spent most of their remaining income on\n",
    "\n",
    "*Needless to say that eyeballing is OK for making sure your code makes sense, but will not result in full credits for the project. We want a fully automated code. To carry out the project successfully you need to use most the attributes and methods described earlier. The last one is a little tricky*"
   ]
  },
  {
   "cell_type": "code",
   "execution_count": 2,
   "metadata": {},
   "outputs": [
    {
     "data": {
      "text/html": [
       "<div>\n",
       "<style scoped>\n",
       "    .dataframe tbody tr th:only-of-type {\n",
       "        vertical-align: middle;\n",
       "    }\n",
       "\n",
       "    .dataframe tbody tr th {\n",
       "        vertical-align: top;\n",
       "    }\n",
       "\n",
       "    .dataframe thead th {\n",
       "        text-align: right;\n",
       "    }\n",
       "</style>\n",
       "<table border=\"1\" class=\"dataframe\">\n",
       "  <thead>\n",
       "    <tr style=\"text-align: right;\">\n",
       "      <th></th>\n",
       "      <th>Buyer</th>\n",
       "      <th>Product</th>\n",
       "      <th>Quantity</th>\n",
       "    </tr>\n",
       "  </thead>\n",
       "  <tbody>\n",
       "    <tr>\n",
       "      <td>0</td>\n",
       "      <td>Jackson</td>\n",
       "      <td>apple</td>\n",
       "      <td>4</td>\n",
       "    </tr>\n",
       "    <tr>\n",
       "      <td>1</td>\n",
       "      <td>Jackson</td>\n",
       "      <td>apple</td>\n",
       "      <td>9</td>\n",
       "    </tr>\n",
       "    <tr>\n",
       "      <td>2</td>\n",
       "      <td>John</td>\n",
       "      <td>orange</td>\n",
       "      <td>9</td>\n",
       "    </tr>\n",
       "    <tr>\n",
       "      <td>3</td>\n",
       "      <td>John</td>\n",
       "      <td>potato</td>\n",
       "      <td>10</td>\n",
       "    </tr>\n",
       "    <tr>\n",
       "      <td>4</td>\n",
       "      <td>Tom</td>\n",
       "      <td>tomato</td>\n",
       "      <td>4</td>\n",
       "    </tr>\n",
       "  </tbody>\n",
       "</table>\n",
       "</div>"
      ],
      "text/plain": [
       "     Buyer Product  Quantity\n",
       "0  Jackson   apple         4\n",
       "1  Jackson   apple         9\n",
       "2     John  orange         9\n",
       "3     John  potato        10\n",
       "4      Tom  tomato         4"
      ]
     },
     "execution_count": 2,
     "metadata": {},
     "output_type": "execute_result"
    }
   ],
   "source": [
    "import pandas as pd\n",
    "supermarket_prices = pd.read_csv(\"supermarket_prices.csv\")\n",
    "supermarket_transactions = pd.read_csv(\"supermarket_transactions.csv\")\n",
    "supermarket_transactions.head()"
   ]
  },
  {
   "cell_type": "code",
   "execution_count": 3,
   "metadata": {},
   "outputs": [
    {
     "data": {
      "text/html": [
       "<div>\n",
       "<style scoped>\n",
       "    .dataframe tbody tr th:only-of-type {\n",
       "        vertical-align: middle;\n",
       "    }\n",
       "\n",
       "    .dataframe tbody tr th {\n",
       "        vertical-align: top;\n",
       "    }\n",
       "\n",
       "    .dataframe thead th {\n",
       "        text-align: right;\n",
       "    }\n",
       "</style>\n",
       "<table border=\"1\" class=\"dataframe\">\n",
       "  <thead>\n",
       "    <tr style=\"text-align: right;\">\n",
       "      <th></th>\n",
       "      <th>Quantity</th>\n",
       "    </tr>\n",
       "    <tr>\n",
       "      <th>Buyer</th>\n",
       "      <th></th>\n",
       "    </tr>\n",
       "  </thead>\n",
       "  <tbody>\n",
       "    <tr>\n",
       "      <td>Emma</td>\n",
       "      <td>81</td>\n",
       "    </tr>\n",
       "    <tr>\n",
       "      <td>Jackson</td>\n",
       "      <td>70</td>\n",
       "    </tr>\n",
       "    <tr>\n",
       "      <td>John</td>\n",
       "      <td>122</td>\n",
       "    </tr>\n",
       "    <tr>\n",
       "      <td>Liam</td>\n",
       "      <td>81</td>\n",
       "    </tr>\n",
       "    <tr>\n",
       "      <td>Lucas</td>\n",
       "      <td>62</td>\n",
       "    </tr>\n",
       "    <tr>\n",
       "      <td>Sandra</td>\n",
       "      <td>78</td>\n",
       "    </tr>\n",
       "    <tr>\n",
       "      <td>Sophia</td>\n",
       "      <td>61</td>\n",
       "    </tr>\n",
       "    <tr>\n",
       "      <td>Tom</td>\n",
       "      <td>49</td>\n",
       "    </tr>\n",
       "  </tbody>\n",
       "</table>\n",
       "</div>"
      ],
      "text/plain": [
       "         Quantity\n",
       "Buyer            \n",
       "Emma           81\n",
       "Jackson        70\n",
       "John          122\n",
       "Liam           81\n",
       "Lucas          62\n",
       "Sandra         78\n",
       "Sophia         61\n",
       "Tom            49"
      ]
     },
     "execution_count": 3,
     "metadata": {},
     "output_type": "execute_result"
    }
   ],
   "source": [
    "#How many items each client has purchased\n",
    "supermarket_transactions.groupby('Buyer').sum()"
   ]
  },
  {
   "cell_type": "code",
   "execution_count": 4,
   "metadata": {},
   "outputs": [
    {
     "data": {
      "text/html": [
       "<div>\n",
       "<style scoped>\n",
       "    .dataframe tbody tr th:only-of-type {\n",
       "        vertical-align: middle;\n",
       "    }\n",
       "\n",
       "    .dataframe tbody tr th {\n",
       "        vertical-align: top;\n",
       "    }\n",
       "\n",
       "    .dataframe thead th {\n",
       "        text-align: right;\n",
       "    }\n",
       "</style>\n",
       "<table border=\"1\" class=\"dataframe\">\n",
       "  <thead>\n",
       "    <tr style=\"text-align: right;\">\n",
       "      <th></th>\n",
       "      <th></th>\n",
       "      <th>Quantity</th>\n",
       "    </tr>\n",
       "    <tr>\n",
       "      <th>Buyer</th>\n",
       "      <th>Product</th>\n",
       "      <th></th>\n",
       "    </tr>\n",
       "  </thead>\n",
       "  <tbody>\n",
       "    <tr>\n",
       "      <td rowspan=\"4\" valign=\"top\">Emma</td>\n",
       "      <td>apple</td>\n",
       "      <td>25</td>\n",
       "    </tr>\n",
       "    <tr>\n",
       "      <td>banana</td>\n",
       "      <td>26</td>\n",
       "    </tr>\n",
       "    <tr>\n",
       "      <td>potato</td>\n",
       "      <td>14</td>\n",
       "    </tr>\n",
       "    <tr>\n",
       "      <td>tomato</td>\n",
       "      <td>16</td>\n",
       "    </tr>\n",
       "    <tr>\n",
       "      <td rowspan=\"4\" valign=\"top\">Jackson</td>\n",
       "      <td>apple</td>\n",
       "      <td>18</td>\n",
       "    </tr>\n",
       "    <tr>\n",
       "      <td>orange</td>\n",
       "      <td>28</td>\n",
       "    </tr>\n",
       "    <tr>\n",
       "      <td>potato</td>\n",
       "      <td>8</td>\n",
       "    </tr>\n",
       "    <tr>\n",
       "      <td>tomato</td>\n",
       "      <td>16</td>\n",
       "    </tr>\n",
       "    <tr>\n",
       "      <td rowspan=\"5\" valign=\"top\">John</td>\n",
       "      <td>apple</td>\n",
       "      <td>7</td>\n",
       "    </tr>\n",
       "    <tr>\n",
       "      <td>banana</td>\n",
       "      <td>28</td>\n",
       "    </tr>\n",
       "    <tr>\n",
       "      <td>orange</td>\n",
       "      <td>46</td>\n",
       "    </tr>\n",
       "    <tr>\n",
       "      <td>potato</td>\n",
       "      <td>18</td>\n",
       "    </tr>\n",
       "    <tr>\n",
       "      <td>tomato</td>\n",
       "      <td>23</td>\n",
       "    </tr>\n",
       "    <tr>\n",
       "      <td rowspan=\"5\" valign=\"top\">Liam</td>\n",
       "      <td>apple</td>\n",
       "      <td>21</td>\n",
       "    </tr>\n",
       "    <tr>\n",
       "      <td>banana</td>\n",
       "      <td>16</td>\n",
       "    </tr>\n",
       "    <tr>\n",
       "      <td>orange</td>\n",
       "      <td>16</td>\n",
       "    </tr>\n",
       "    <tr>\n",
       "      <td>potato</td>\n",
       "      <td>21</td>\n",
       "    </tr>\n",
       "    <tr>\n",
       "      <td>tomato</td>\n",
       "      <td>7</td>\n",
       "    </tr>\n",
       "    <tr>\n",
       "      <td rowspan=\"5\" valign=\"top\">Lucas</td>\n",
       "      <td>apple</td>\n",
       "      <td>14</td>\n",
       "    </tr>\n",
       "    <tr>\n",
       "      <td>banana</td>\n",
       "      <td>3</td>\n",
       "    </tr>\n",
       "    <tr>\n",
       "      <td>orange</td>\n",
       "      <td>17</td>\n",
       "    </tr>\n",
       "    <tr>\n",
       "      <td>potato</td>\n",
       "      <td>9</td>\n",
       "    </tr>\n",
       "    <tr>\n",
       "      <td>tomato</td>\n",
       "      <td>19</td>\n",
       "    </tr>\n",
       "    <tr>\n",
       "      <td rowspan=\"4\" valign=\"top\">Sandra</td>\n",
       "      <td>banana</td>\n",
       "      <td>2</td>\n",
       "    </tr>\n",
       "    <tr>\n",
       "      <td>orange</td>\n",
       "      <td>37</td>\n",
       "    </tr>\n",
       "    <tr>\n",
       "      <td>potato</td>\n",
       "      <td>38</td>\n",
       "    </tr>\n",
       "    <tr>\n",
       "      <td>tomato</td>\n",
       "      <td>1</td>\n",
       "    </tr>\n",
       "    <tr>\n",
       "      <td rowspan=\"5\" valign=\"top\">Sophia</td>\n",
       "      <td>apple</td>\n",
       "      <td>14</td>\n",
       "    </tr>\n",
       "    <tr>\n",
       "      <td>banana</td>\n",
       "      <td>13</td>\n",
       "    </tr>\n",
       "    <tr>\n",
       "      <td>orange</td>\n",
       "      <td>7</td>\n",
       "    </tr>\n",
       "    <tr>\n",
       "      <td>potato</td>\n",
       "      <td>14</td>\n",
       "    </tr>\n",
       "    <tr>\n",
       "      <td>tomato</td>\n",
       "      <td>13</td>\n",
       "    </tr>\n",
       "    <tr>\n",
       "      <td rowspan=\"4\" valign=\"top\">Tom</td>\n",
       "      <td>apple</td>\n",
       "      <td>18</td>\n",
       "    </tr>\n",
       "    <tr>\n",
       "      <td>banana</td>\n",
       "      <td>6</td>\n",
       "    </tr>\n",
       "    <tr>\n",
       "      <td>potato</td>\n",
       "      <td>16</td>\n",
       "    </tr>\n",
       "    <tr>\n",
       "      <td>tomato</td>\n",
       "      <td>9</td>\n",
       "    </tr>\n",
       "  </tbody>\n",
       "</table>\n",
       "</div>"
      ],
      "text/plain": [
       "                 Quantity\n",
       "Buyer   Product          \n",
       "Emma    apple          25\n",
       "        banana         26\n",
       "        potato         14\n",
       "        tomato         16\n",
       "Jackson apple          18\n",
       "        orange         28\n",
       "        potato          8\n",
       "        tomato         16\n",
       "John    apple           7\n",
       "        banana         28\n",
       "        orange         46\n",
       "        potato         18\n",
       "        tomato         23\n",
       "Liam    apple          21\n",
       "        banana         16\n",
       "        orange         16\n",
       "        potato         21\n",
       "        tomato          7\n",
       "Lucas   apple          14\n",
       "        banana          3\n",
       "        orange         17\n",
       "        potato          9\n",
       "        tomato         19\n",
       "Sandra  banana          2\n",
       "        orange         37\n",
       "        potato         38\n",
       "        tomato          1\n",
       "Sophia  apple          14\n",
       "        banana         13\n",
       "        orange          7\n",
       "        potato         14\n",
       "        tomato         13\n",
       "Tom     apple          18\n",
       "        banana          6\n",
       "        potato         16\n",
       "        tomato          9"
      ]
     },
     "execution_count": 4,
     "metadata": {},
     "output_type": "execute_result"
    }
   ],
   "source": [
    "#How many items of each type each client has purchased\n",
    "by_client_type = supermarket_transactions.groupby(['Buyer','Product']).sum()\n",
    "by_client_type"
   ]
  },
  {
   "cell_type": "code",
   "execution_count": 5,
   "metadata": {},
   "outputs": [
    {
     "data": {
      "text/html": [
       "<div>\n",
       "<style scoped>\n",
       "    .dataframe tbody tr th:only-of-type {\n",
       "        vertical-align: middle;\n",
       "    }\n",
       "\n",
       "    .dataframe tbody tr th {\n",
       "        vertical-align: top;\n",
       "    }\n",
       "\n",
       "    .dataframe thead th {\n",
       "        text-align: right;\n",
       "    }\n",
       "</style>\n",
       "<table border=\"1\" class=\"dataframe\">\n",
       "  <thead>\n",
       "    <tr style=\"text-align: right;\">\n",
       "      <th></th>\n",
       "      <th>total_spent</th>\n",
       "    </tr>\n",
       "    <tr>\n",
       "      <th>Buyer</th>\n",
       "      <th></th>\n",
       "    </tr>\n",
       "  </thead>\n",
       "  <tbody>\n",
       "    <tr>\n",
       "      <td>Emma</td>\n",
       "      <td>246.4</td>\n",
       "    </tr>\n",
       "    <tr>\n",
       "      <td>Jackson</td>\n",
       "      <td>202.8</td>\n",
       "    </tr>\n",
       "    <tr>\n",
       "      <td>John</td>\n",
       "      <td>461.3</td>\n",
       "    </tr>\n",
       "    <tr>\n",
       "      <td>Liam</td>\n",
       "      <td>263.3</td>\n",
       "    </tr>\n",
       "    <tr>\n",
       "      <td>Lucas</td>\n",
       "      <td>176.0</td>\n",
       "    </tr>\n",
       "    <tr>\n",
       "      <td>Sandra</td>\n",
       "      <td>300.8</td>\n",
       "    </tr>\n",
       "    <tr>\n",
       "      <td>Sophia</td>\n",
       "      <td>189.4</td>\n",
       "    </tr>\n",
       "    <tr>\n",
       "      <td>Tom</td>\n",
       "      <td>126.1</td>\n",
       "    </tr>\n",
       "  </tbody>\n",
       "</table>\n",
       "</div>"
      ],
      "text/plain": [
       "         total_spent\n",
       "Buyer               \n",
       "Emma           246.4\n",
       "Jackson        202.8\n",
       "John           461.3\n",
       "Liam           263.3\n",
       "Lucas          176.0\n",
       "Sandra         300.8\n",
       "Sophia         189.4\n",
       "Tom            126.1"
      ]
     },
     "execution_count": 5,
     "metadata": {},
     "output_type": "execute_result"
    }
   ],
   "source": [
    "#Calculate the total amount spent by each client\n",
    "merged_tables = pd.merge(supermarket_transactions, supermarket_prices, on = 'Product', how = 'outer')\n",
    "merged_tables['total_spent'] = merged_tables.Quantity*merged_tables.Price\n",
    "client_spent = merged_tables[['Buyer','total_spent']].groupby(['Buyer']).sum()\n",
    "client_spent"
   ]
  },
  {
   "cell_type": "code",
   "execution_count": 6,
   "metadata": {},
   "outputs": [
    {
     "data": {
      "text/plain": [
       "'Emma'"
      ]
     },
     "execution_count": 6,
     "metadata": {},
     "output_type": "execute_result"
    }
   ],
   "source": [
    "#The company that provides the supermarket with bananas wishes to give a prize to the client that \n",
    "#has spent the largest proportion of their spending on bananas. Who should win the prize?\n",
    "\n",
    "merged_banana = merged_tables[merged_tables.Product=='banana']\n",
    "spent_banana = merged_banana[['Buyer','total_spent']].groupby('Buyer').sum()\n",
    "spent_banana_total = pd.merge(spent_banana,client_spent, on = 'Buyer', how = 'inner')\n",
    "spent_banana_total['prop_banana'] = spent_banana_total['total_spent_x']/spent_banana_total['total_spent_y']\n",
    "spent_banana_total.prop_banana.idxmax()"
   ]
  },
  {
   "cell_type": "code",
   "execution_count": 51,
   "metadata": {},
   "outputs": [
    {
     "data": {
      "text/html": [
       "<div>\n",
       "<style scoped>\n",
       "    .dataframe tbody tr th:only-of-type {\n",
       "        vertical-align: middle;\n",
       "    }\n",
       "\n",
       "    .dataframe tbody tr th {\n",
       "        vertical-align: top;\n",
       "    }\n",
       "\n",
       "    .dataframe thead th {\n",
       "        text-align: right;\n",
       "    }\n",
       "</style>\n",
       "<table border=\"1\" class=\"dataframe\">\n",
       "  <thead>\n",
       "    <tr style=\"text-align: right;\">\n",
       "      <th></th>\n",
       "      <th>Buyer</th>\n",
       "      <th>Product</th>\n",
       "      <th>prop</th>\n",
       "    </tr>\n",
       "  </thead>\n",
       "  <tbody>\n",
       "    <tr>\n",
       "      <td>2</td>\n",
       "      <td>John</td>\n",
       "      <td>orange</td>\n",
       "      <td>0.428788</td>\n",
       "    </tr>\n",
       "    <tr>\n",
       "      <td>8</td>\n",
       "      <td>Liam</td>\n",
       "      <td>potato</td>\n",
       "      <td>0.271174</td>\n",
       "    </tr>\n",
       "    <tr>\n",
       "      <td>13</td>\n",
       "      <td>Sophia</td>\n",
       "      <td>potato</td>\n",
       "      <td>0.251320</td>\n",
       "    </tr>\n",
       "  </tbody>\n",
       "</table>\n",
       "</div>"
      ],
      "text/plain": [
       "     Buyer Product      prop\n",
       "2     John  orange  0.428788\n",
       "8     Liam  potato  0.271174\n",
       "13  Sophia  potato  0.251320"
      ]
     },
     "execution_count": 51,
     "metadata": {},
     "output_type": "execute_result"
    }
   ],
   "source": [
    "#A marketing company that works with the supermarket is interested to understand better the \n",
    "#characteristics of the three people that have spent most of their spending on bananas. \n",
    "#For each one of them report the other product that they have spent most of their remaining income on.\n",
    "top_three = spent_banana_total.prop_banana.sort_values()[-4:-1].index.values\n",
    "spending = pd.DataFrame()\n",
    "for person in top_three:\n",
    "    spending = pd.concat([spending, merged_tables[merged_tables.Buyer == person]],axis=0)    \n",
    "spent_buyer_prod = spending.groupby(['Buyer','Product']).sum().reset_index()[['Buyer','Product','total_spent']]\n",
    "total_buyer_prod = pd.merge(spent_buyer_prod,client_spent,on='Buyer',how='left')\n",
    "total_buyer_prod['prop'] = total_buyer_prod.total_spent_x/total_buyer_prod.total_spent_y\n",
    "prop_no_banana = total_buyer_prod[['Buyer','Product','prop']][total_buyer_prod.Product!='banana']\n",
    "prop_no_banana.loc[prop_no_banana.groupby('Buyer').idxmax().iloc[:,0],:]"
   ]
  }
 ],
 "metadata": {
  "celltoolbar": "Slideshow",
  "kernelspec": {
   "display_name": "Python 3",
   "language": "python",
   "name": "python3"
  },
  "language_info": {
   "codemirror_mode": {
    "name": "ipython",
    "version": 3
   },
   "file_extension": ".py",
   "mimetype": "text/x-python",
   "name": "python",
   "nbconvert_exporter": "python",
   "pygments_lexer": "ipython3",
   "version": "3.7.3"
  }
 },
 "nbformat": 4,
 "nbformat_minor": 2
}
