{
 "cells": [
  {
   "cell_type": "markdown",
   "metadata": {},
   "source": [
    "## Numpy: NUMerical PYthon \n",
    "\n",
    "This is Python's stack for scientific computing. The fundamental new data type is that of a **numpy array**, Python's matrix(tensor)-type object, which is used in the majority of Python's modules for Data Analysis, Statistics and Machine Learning  - for example in order to feed data into `sklearn` functions\n",
    "\n",
    "numpy arrays contain data all of the same type (*dtype*), numerical of many types or boolean\n",
    "\n",
    "The coordinates are known as axes"
   ]
  },
  {
   "cell_type": "code",
   "execution_count": 1,
   "metadata": {},
   "outputs": [],
   "source": [
    "# import module \n",
    "import numpy as np"
   ]
  },
  {
   "cell_type": "markdown",
   "metadata": {},
   "source": [
    "To create an array we use the np.array() function"
   ]
  },
  {
   "cell_type": "code",
   "execution_count": 2,
   "metadata": {},
   "outputs": [],
   "source": [
    "# creating an array\n",
    "a = np.array([[1, 2, 3, 4, 5, 6], \n",
    "              [42, 53, 43 ,62, 7, 4], \n",
    "              [-3, -1, -4 ,-8, -52, -4], \n",
    "              [10, 0, 4 , 1, 0, 1]])"
   ]
  },
  {
   "cell_type": "markdown",
   "metadata": {},
   "source": [
    "We can access the elements in an array using multi-index notation, familiar in small variations in many computing environments and languages - with the usual Pythonic conventions, e.g., counting starts from 0, slicing a:b is inclusive:exclusive, negative indices, etc\n",
    "\n",
    "What do you think the following piece of code does? \n",
    "\n",
    "```python\n",
    "print(a[-2:,[2,4]])\n",
    "```"
   ]
  },
  {
   "cell_type": "markdown",
   "metadata": {},
   "source": [
    "### Array attributes\n",
    "\n",
    "The array data type has its own attributes. Some worth highlighting are:\n",
    "\n",
    "+ Shape\n",
    "```python\n",
    "arrayname.shape # returns the shape as tuple, e.g. (4,6)\n",
    "arrayname.reshape(arg) # returns a new array with the same data as those in arrayname but organized in different shape - read carefully defaults\n",
    "```\n",
    "+ Aggregations\n",
    "```python\n",
    "arrayname.function(arg) # e.g. function could be sum, max, min, etc. args can be used to specify operation over all elements, or for an axis, etc  - this is much more efficient than looping\n",
    "```\n",
    "+ Linear algebra\n",
    "```python\n",
    "arrayname.transpose(arg)  # transpose - even for multi-d arrays\n",
    "arrayname.diagonal(arg) # diagonal elements as array\n",
    "arrayname.dot(anotherarray) # dot product\n",
    "```\n"
   ]
  },
  {
   "cell_type": "markdown",
   "metadata": {},
   "source": [
    "## Array operations\n",
    "\n",
    "Remember that to concatenate two lists in Python, we could use the \"+\" operator. \n",
    "\n",
    "This is not the case in Numpy!\n",
    "\n",
    "Mathematical symbols take on mathematical meanings in Numpy. Thus, the \"+\" operator between two Numpy Arrays actually just attempts to add them together, elementwise."
   ]
  },
  {
   "cell_type": "code",
   "execution_count": 3,
   "metadata": {},
   "outputs": [
    {
     "data": {
      "text/plain": [
       "array([5, 7, 9])"
      ]
     },
     "execution_count": 3,
     "metadata": {},
     "output_type": "execute_result"
    }
   ],
   "source": [
    "# Numpy array addition: \n",
    "\n",
    "a,b = np.array([1,2,3]), np.array([4,5,6])\n",
    "a + b"
   ]
  },
  {
   "cell_type": "code",
   "execution_count": 4,
   "metadata": {},
   "outputs": [
    {
     "data": {
      "text/plain": [
       "array([1, 2, 3, 4, 5, 6])"
      ]
     },
     "execution_count": 4,
     "metadata": {},
     "output_type": "execute_result"
    }
   ],
   "source": [
    "# Numpy array concatenation: \n",
    "\n",
    "np.concatenate([a,b])"
   ]
  },
  {
   "cell_type": "markdown",
   "metadata": {
    "slideshow": {
     "slide_type": "slide"
    }
   },
   "source": [
    "# Data analysis with Python\n",
    "\n",
    "PANDAS: Panel Data Structures \n",
    "\n",
    "This is the module in Python for doing rectangular-data management, analysis and plotting.\n",
    "\n",
    "The first set of tools are to read and write. "
   ]
  },
  {
   "cell_type": "markdown",
   "metadata": {
    "slideshow": {
     "slide_type": "slide"
    }
   },
   "source": [
    "## Loading data into Python \n",
    "\n",
    "<img src=\"io_tools.png\"> \n",
    "\n",
    "See [IO DOC](https://pandas.pydata.org/pandas-docs/stable/io.html) in Python for more information\n",
    "\n",
    "Lets load our first dataset (and load all we need to get working!)"
   ]
  },
  {
   "cell_type": "code",
   "execution_count": 6,
   "metadata": {},
   "outputs": [
    {
     "data": {
      "text/html": [
       "<div>\n",
       "<style scoped>\n",
       "    .dataframe tbody tr th:only-of-type {\n",
       "        vertical-align: middle;\n",
       "    }\n",
       "\n",
       "    .dataframe tbody tr th {\n",
       "        vertical-align: top;\n",
       "    }\n",
       "\n",
       "    .dataframe thead th {\n",
       "        text-align: right;\n",
       "    }\n",
       "</style>\n",
       "<table border=\"1\" class=\"dataframe\">\n",
       "  <thead>\n",
       "    <tr style=\"text-align: right;\">\n",
       "      <th></th>\n",
       "      <th>total_bill</th>\n",
       "      <th>tip</th>\n",
       "      <th>sex</th>\n",
       "      <th>smoker</th>\n",
       "      <th>day</th>\n",
       "      <th>time</th>\n",
       "      <th>size</th>\n",
       "    </tr>\n",
       "  </thead>\n",
       "  <tbody>\n",
       "    <tr>\n",
       "      <td>0</td>\n",
       "      <td>16.99</td>\n",
       "      <td>1.01</td>\n",
       "      <td>Female</td>\n",
       "      <td>No</td>\n",
       "      <td>Sun</td>\n",
       "      <td>Dinner</td>\n",
       "      <td>2</td>\n",
       "    </tr>\n",
       "    <tr>\n",
       "      <td>1</td>\n",
       "      <td>10.34</td>\n",
       "      <td>1.66</td>\n",
       "      <td>Male</td>\n",
       "      <td>No</td>\n",
       "      <td>Sun</td>\n",
       "      <td>Dinner</td>\n",
       "      <td>3</td>\n",
       "    </tr>\n",
       "    <tr>\n",
       "      <td>2</td>\n",
       "      <td>21.01</td>\n",
       "      <td>3.50</td>\n",
       "      <td>Male</td>\n",
       "      <td>No</td>\n",
       "      <td>Sun</td>\n",
       "      <td>Dinner</td>\n",
       "      <td>3</td>\n",
       "    </tr>\n",
       "    <tr>\n",
       "      <td>3</td>\n",
       "      <td>23.68</td>\n",
       "      <td>3.31</td>\n",
       "      <td>Male</td>\n",
       "      <td>No</td>\n",
       "      <td>Sun</td>\n",
       "      <td>Dinner</td>\n",
       "      <td>2</td>\n",
       "    </tr>\n",
       "    <tr>\n",
       "      <td>4</td>\n",
       "      <td>24.59</td>\n",
       "      <td>3.61</td>\n",
       "      <td>Female</td>\n",
       "      <td>No</td>\n",
       "      <td>Sun</td>\n",
       "      <td>Dinner</td>\n",
       "      <td>4</td>\n",
       "    </tr>\n",
       "  </tbody>\n",
       "</table>\n",
       "</div>"
      ],
      "text/plain": [
       "   total_bill   tip     sex smoker  day    time  size\n",
       "0       16.99  1.01  Female     No  Sun  Dinner     2\n",
       "1       10.34  1.66    Male     No  Sun  Dinner     3\n",
       "2       21.01  3.50    Male     No  Sun  Dinner     3\n",
       "3       23.68  3.31    Male     No  Sun  Dinner     2\n",
       "4       24.59  3.61  Female     No  Sun  Dinner     4"
      ]
     },
     "execution_count": 6,
     "metadata": {},
     "output_type": "execute_result"
    }
   ],
   "source": [
    "import pandas as pd\n",
    "\n",
    "# load a dataframe from disk\n",
    "tips = pd.read_csv(\"tips.csv\")\n",
    "tips.head(5)"
   ]
  },
  {
   "cell_type": "code",
   "execution_count": 8,
   "metadata": {},
   "outputs": [
    {
     "data": {
      "text/plain": [
       "pandas.core.series.Series"
      ]
     },
     "execution_count": 8,
     "metadata": {},
     "output_type": "execute_result"
    }
   ],
   "source": [
    "type(tips)\n",
    "\n",
    "type(tips.tip)"
   ]
  },
  {
   "cell_type": "markdown",
   "metadata": {
    "slideshow": {
     "slide_type": "slide"
    }
   },
   "source": [
    "## Series and DataFrame\n",
    "\n",
    "These are the two basic data formats in PANDAS, the equivalent of column and rectangular data structures, as in linear algebra (vector/matrix) but equipped with several attributes invaluable for data management and analysis\n",
    "\n",
    "In the *tips* example, the variable \"tips\" is a DataFrame, while any individual column would be a Series. \n",
    "\n"
   ]
  },
  {
   "cell_type": "markdown",
   "metadata": {
    "slideshow": {
     "slide_type": "slide"
    }
   },
   "source": [
    "## Series \n",
    "\n",
    "This is a 1-d data structure with *values* accessed via their index. \n",
    "\n",
    "Unlike in raw Python or Numpy, however, Series indices can be made up of either: \n",
    "+ *numbers*: which could be ordered and contiguous like a Python list, but don't have to be! \n",
    "+ *strings*: essentially labels, like the keys in a dictionary\n",
    "\n",
    "Although typically a series is obtained by reading a dataset from an external file or when doing operations on dataframes, we can still define one manually by specifying the values and the indices. \n",
    "\n",
    "Let's do this an get an insight into how it works"
   ]
  },
  {
   "cell_type": "code",
   "execution_count": 34,
   "metadata": {},
   "outputs": [],
   "source": [
    "# here no indices are specified, there are defaults\n",
    "my_series = pd.Series([1, 15, -5, None, 4, 123, 0, 78, 0, 5, -4])"
   ]
  },
  {
   "cell_type": "code",
   "execution_count": 35,
   "metadata": {},
   "outputs": [
    {
     "data": {
      "text/plain": [
       "1.0"
      ]
     },
     "execution_count": 35,
     "metadata": {},
     "output_type": "execute_result"
    }
   ],
   "source": [
    "# Accessing a certain value via the index\n",
    "\n",
    "my_series[0]"
   ]
  },
  {
   "cell_type": "code",
   "execution_count": 12,
   "metadata": {},
   "outputs": [
    {
     "data": {
      "text/plain": [
       "array([  1.,  15.,  -5.,  nan,   4., 123.,   0.,  78.,   0.,   5.,  -4.])"
      ]
     },
     "execution_count": 12,
     "metadata": {},
     "output_type": "execute_result"
    }
   ],
   "source": [
    "# Note that there are a bunch of attributes.\n",
    "# .values returns a numpy ndarray of the values! \n",
    "\n",
    "my_series.values"
   ]
  },
  {
   "cell_type": "code",
   "execution_count": 16,
   "metadata": {},
   "outputs": [
    {
     "data": {
      "text/plain": [
       "RangeIndex(start=0, stop=11, step=1)"
      ]
     },
     "execution_count": 16,
     "metadata": {},
     "output_type": "execute_result"
    }
   ],
   "source": [
    "# Take a look at the index. What type is it? \n",
    "# You convert itto a numpy ndarray by adding \".values\" again!\n",
    "\n",
    "my_series.index\n",
    "\n",
    "#type(my_series.index)\n",
    "\n",
    "#np.arange([1,2,3])"
   ]
  },
  {
   "cell_type": "code",
   "execution_count": 17,
   "metadata": {},
   "outputs": [
    {
     "data": {
      "text/plain": [
       "om        1.0\n",
       "ir       15.0\n",
       "os       -5.0\n",
       "pap       NaN\n",
       "pas       4.0\n",
       "pil     123.0\n",
       "io        0.0\n",
       "po       78.0\n",
       "ulos      0.0\n",
       "is        5.0\n",
       "best     -4.0\n",
       "dtype: float64"
      ]
     },
     "execution_count": 17,
     "metadata": {},
     "output_type": "execute_result"
    }
   ],
   "source": [
    "# You can overwrite the index directly: \n",
    "\n",
    "my_series.index = [\"om\",\"ir\",\"os\",\"pap\",\"pas\",\"pil\",\"io\",\"po\",\"ulos\",\"is\",\"best\"]\n",
    "\n",
    "my_series"
   ]
  },
  {
   "cell_type": "markdown",
   "metadata": {},
   "source": [
    "## iloc\n",
    "\n",
    "Accessing values via the index can be very useful, but sometimes you want to access the values as though they were a Python list. In other words \"I want the first value!\", without having to know the name of the label. \n",
    "\n",
    "This can be achieved with .iloc: \n",
    "\n",
    "```python\n",
    "my_series.iloc[0]\n",
    "```"
   ]
  },
  {
   "cell_type": "code",
   "execution_count": 18,
   "metadata": {},
   "outputs": [
    {
     "data": {
      "text/plain": [
       "(1.0, 1.0)"
      ]
     },
     "execution_count": 18,
     "metadata": {},
     "output_type": "execute_result"
    }
   ],
   "source": [
    "# Series that have string indices can also be accessed via a RangeIndex\n",
    "# (which is similar to the index of a regular Python list)\n",
    "\n",
    "my_series.iloc[0], my_series[\"om\"]"
   ]
  },
  {
   "cell_type": "code",
   "execution_count": 21,
   "metadata": {},
   "outputs": [
    {
     "data": {
      "text/plain": [
       "(1.0, -5.0)"
      ]
     },
     "execution_count": 21,
     "metadata": {},
     "output_type": "execute_result"
    }
   ],
   "source": [
    "# Note that indices can get moved around, by sorting for example!\n",
    "# iloc gives you the element you would get if the Series\n",
    "# was a list and you were giving it the index:\n",
    "\n",
    "# This just resets the index to be as we found it originally\n",
    "my_series = my_series.reset_index(drop=True)\n",
    "\n",
    "x = my_series.sort_values()\n",
    "\n",
    "x\n",
    "\n",
    "x[0], x.iloc[0] # iloc returns the first item in the column, not the value with index 0"
   ]
  },
  {
   "cell_type": "markdown",
   "metadata": {
    "slideshow": {
     "slide_type": "slide"
    }
   },
   "source": [
    "## Operations with series\n",
    "\n",
    "Because Series are Numpy arrays behind the scenes, we can compute element-wise functions on one series or several series at the same time. The result is another series with data type depending on the type of operations performed. \n",
    "\n",
    "For example, what do you think the following piece of code will do: "
   ]
  },
  {
   "cell_type": "code",
   "execution_count": 23,
   "metadata": {
    "slideshow": {
     "slide_type": "slide"
    }
   },
   "outputs": [
    {
     "name": "stdout",
     "output_type": "stream",
     "text": [
      "0     True\n",
      "1    False\n",
      "2     True\n",
      "3     True\n",
      "dtype: bool\n"
     ]
    }
   ],
   "source": [
    "Series1 = pd.Series([1,3,5,7])\n",
    "Series2 = pd.Series([0,10,-1,6])\n",
    "\n",
    "Series3 = 2*Series1 + abs(Series2)\n",
    "\n",
    "Series4 = Series1 > Series2 \n",
    "\n",
    "print(Series4)\n",
    "# Take a look at the different Series objects!"
   ]
  },
  {
   "cell_type": "markdown",
   "metadata": {
    "slideshow": {
     "slide_type": "slide"
    }
   },
   "source": [
    "## Data alignment \n",
    "\n",
    "What goes on in the previous examples is more subtle than it looks. How does Python know which elements from each series to join in the required operation together?  \n",
    "\n",
    "What happens is that the indices happened to be the same. So when we ask something like \n",
    "\n",
    "```python\n",
    "Series3 = Series1 + Series2 \n",
    "```\n",
    "\n",
    "Python looks for entries in each series with the same index and then does an elementwise summation that it stores in a like-wise index in Series 3. \n",
    "\n",
    "Consider instead the following example "
   ]
  },
  {
   "cell_type": "code",
   "execution_count": 28,
   "metadata": {
    "slideshow": {
     "slide_type": "slide"
    }
   },
   "outputs": [
    {
     "data": {
      "text/plain": [
       "nan"
      ]
     },
     "execution_count": 28,
     "metadata": {},
     "output_type": "execute_result"
    }
   ],
   "source": [
    "Series1 = pd.Series([1,10],index=[\"om\",\"iros\"])\n",
    "Series2 = pd.Series([4,-1],index=[\"pap\",\"as\"])\n",
    "Series3 = Series1 + Series2\n",
    "\n",
    "#Series2['om']\n",
    "Series3.iloc[0]/5"
   ]
  },
  {
   "cell_type": "markdown",
   "metadata": {
    "slideshow": {
     "slide_type": "slide"
    }
   },
   "source": [
    "This aspect makes it very easy to work with series that we have sorted or manipulated otherwise; there is always the address to access a value. This helps prevent accidentally combining values we didn't mean to combine!"
   ]
  },
  {
   "cell_type": "code",
   "execution_count": 33,
   "metadata": {},
   "outputs": [
    {
     "data": {
      "text/plain": [
       "foo    1\n",
       "fog    2\n",
       "dtype: int64"
      ]
     },
     "execution_count": 33,
     "metadata": {},
     "output_type": "execute_result"
    }
   ],
   "source": [
    "my_series=pd.Series([1,2,3],index=['foo','bar','baz'])\n",
    "\n",
    "my_series=pd.Series({'foo':1,'fog':2})\n",
    "\n",
    "my_series"
   ]
  },
  {
   "cell_type": "markdown",
   "metadata": {
    "slideshow": {
     "slide_type": "slide"
    }
   },
   "source": [
    "## Basic information retrieval with series\n",
    "\n",
    "+ Accessing single elements\n",
    "+ Slicing; accessing a set of elements\n",
    "+ Filtering; selection by  boolean index\n",
    "\n",
    "Recalling that operations on Series returns Series, the big news here is that we can access values in a Series by specifying \n",
    "\n",
    "+ single index\n",
    "+ a slice (a:b for integers a,b) \n",
    "+ list (or Numpy Array or Series) of index labels\n",
    "+ a boolean Series (also called a _boolean mask_) \n",
    "\n",
    "Interesting: the result of any such retrieval (except for a single index) is a series itself!"
   ]
  },
  {
   "cell_type": "code",
   "execution_count": 37,
   "metadata": {},
   "outputs": [
    {
     "data": {
      "text/plain": [
       "om     1.0\n",
       "pap    NaN\n",
       "dtype: float64"
      ]
     },
     "execution_count": 37,
     "metadata": {},
     "output_type": "execute_result"
    }
   ],
   "source": [
    "# accesing by list of index labels\n",
    "\n",
    "my_series.index = [\"om\",\"ir\",\"os\",\"pap\",\"pas\",\"pil\",\"io\",\"po\",\"ulos\",\"is\",\"best\"]\n",
    "x = my_series[[\"om\",\"pap\"]]\n",
    "\n",
    "x"
   ]
  },
  {
   "cell_type": "code",
   "execution_count": 38,
   "metadata": {},
   "outputs": [
    {
     "data": {
      "text/plain": [
       "om      False\n",
       "ir      False\n",
       "os      False\n",
       "pap     False\n",
       "pas     False\n",
       "pil     False\n",
       "io       True\n",
       "po      False\n",
       "ulos     True\n",
       "is      False\n",
       "best    False\n",
       "dtype: bool"
      ]
     },
     "execution_count": 38,
     "metadata": {},
     "output_type": "execute_result"
    }
   ],
   "source": [
    "# getting a boolean-valued series by checking a condition\n",
    "\n",
    "choose = my_series == 0.0\n",
    "choose"
   ]
  },
  {
   "cell_type": "code",
   "execution_count": 41,
   "metadata": {},
   "outputs": [
    {
     "name": "stdout",
     "output_type": "stream",
     "text": [
      "io      0.0\n",
      "ulos    0.0\n",
      "dtype: float64\n",
      "io      0.0\n",
      "ulos    0.0\n",
      "dtype: float64\n"
     ]
    }
   ],
   "source": [
    "# Notice the index of x is a SUBSET of the index of \"my_series\"\n",
    "# This can be useful when needing to relate values back to the original \"my_series\"!\n",
    "\n",
    "x = my_series[choose]\n",
    "\n",
    "y=my_series[my_series==0]\n",
    "\n",
    "print(y)\n",
    "print(x)"
   ]
  },
  {
   "cell_type": "markdown",
   "metadata": {},
   "source": [
    "## Filtering via boolean masks\n",
    "\n",
    "We often use boolean masks to filter data in Pandas. Series that are of type \"bool\" thus take on special significance: we use them a lot!\n",
    "\n",
    "We also get special boolean algebra operators to use in Numpy/Pandas, distinct from the and/or/not you will use in regular Python: \n",
    "\n",
    "\n",
    "```python\n",
    "& # AND\n",
    "| # OR\n",
    "~ # NOT\n",
    "```"
   ]
  },
  {
   "cell_type": "code",
   "execution_count": 46,
   "metadata": {},
   "outputs": [
    {
     "data": {
      "text/plain": [
       "om     1.0\n",
       "pas    4.0\n",
       "is     5.0\n",
       "dtype: float64"
      ]
     },
     "execution_count": 46,
     "metadata": {},
     "output_type": "execute_result"
    }
   ],
   "source": [
    "# Challenge: \n",
    "\n",
    "# Filter \"my_series\" to be all the elements that are NOT\n",
    "# equal to 0, using the \"choose\" boolean mask below: \n",
    "\n",
    "choose = my_series == 0.0\n",
    "\n",
    "x=my_series[~choose]\n",
    "\n",
    "x\n",
    "\n",
    "my_series[(my_series<10.)& (my_series>0.)]\n"
   ]
  },
  {
   "cell_type": "markdown",
   "metadata": {
    "slideshow": {
     "slide_type": "slide"
    }
   },
   "source": [
    "## Coding and managing missing values\n",
    "\n",
    "A series object in PANDAS can deal with maybe the most important type of data of all for data analysis: missing data! \n",
    "\n",
    "We already see very naturally how data management leads to missing data rather immediately. Recall the earlier attempt to sum up to Series\n",
    "\n",
    "```python\n",
    "Series3 = Series1+Series2\n",
    "print(Series3)\n",
    "as     NaN\n",
    "iros   NaN\n",
    "om     NaN\n",
    "pap    NaN\n",
    "dtype: float64\n",
    "```\n",
    "What happened there is that in the operation labels could not be matched, so pandas tried to sum a numeric value with a missing value, the result of which is a missing value!"
   ]
  },
  {
   "cell_type": "markdown",
   "metadata": {
    "slideshow": {
     "slide_type": "slide"
    }
   },
   "source": [
    "The way to manually specify in PANDAS that a value is missing is to use use None, as below: \n",
    "\n",
    "```python\n",
    "temp = pd.Series([1,None,2])\n",
    "print(temp)\n",
    "0    1.0\n",
    "1    NaN\n",
    "2    2.0\n",
    "dtype: float64\n",
    "```\n",
    "If the Series is numeric, Pandas will caste it to numpy.float64 type and convert the None values to Numpy NaN values (Not a Number). If the Series is of type \"object\" (arbitrary Python objects), it will keep the values as None.\n",
    "\n",
    "We can create *boolean masks* on the basis of such values. The way to identify NaN or None values in a Series is to use either of the equivalent two attributes\n",
    "\n",
    "```python\n",
    "seriesname.isna()\n",
    "seriesname.isnull()\n",
    "```\n",
    "\n",
    "Either returns a boolean-valued series that we can use then for selecting and operating on NaN or the rest of the values. The opposite also exists: \n",
    "\n",
    "```python\n",
    "seriesname.notna()\n",
    "seriesname.notnull()\n",
    "```\n"
   ]
  },
  {
   "cell_type": "code",
   "execution_count": 47,
   "metadata": {},
   "outputs": [
    {
     "data": {
      "text/plain": [
       "0    foo\n",
       "1    bar\n",
       "3    baz\n",
       "4    qux\n",
       "dtype: object"
      ]
     },
     "execution_count": 47,
     "metadata": {},
     "output_type": "execute_result"
    }
   ],
   "source": [
    "# Challenge: \n",
    "# Get a list of names, without the Null values!\n",
    "\n",
    "# The Pandas way: \n",
    "# 1. Create a boolean mask by using the .notna() method.\n",
    "# 2. Use the mask to subset the Series.\n",
    "\n",
    "names = pd.Series(['foo','bar',None,'baz','qux',None])\n",
    "\n",
    "mask=names.notna()\n",
    "\n",
    "names[mask]\n"
   ]
  },
  {
   "cell_type": "markdown",
   "metadata": {
    "slideshow": {
     "slide_type": "slide"
    }
   },
   "source": [
    "## Highlighting some important series attributes & methods\n",
    "\n",
    "As usual one should explore the attributes of any python object one ends up working with. We have already accessed the seriesname.index and seriesname.value\n",
    "\n",
    "Some other (among many!) that are worth highlighting: \n",
    "\n",
    "+ .map\n",
    "+ .corr \n",
    "+ .describe\n",
    "+ .hist\n",
    "+ .plot\n",
    "+ .size\n",
    "+ .value_counts\n",
    "+ .sort_values"
   ]
  },
  {
   "cell_type": "code",
   "execution_count": 57,
   "metadata": {},
   "outputs": [
    {
     "name": "stdout",
     "output_type": "stream",
     "text": [
      "foo\n",
      "bar\n",
      "None\n",
      "foo\n",
      "None\n",
      "bar\n",
      "bar\n",
      "foo\n",
      "None\n"
     ]
    },
    {
     "data": {
      "text/plain": [
       "0     foo\n",
       "1     bar\n",
       "2    None\n",
       "3     foo\n",
       "4    None\n",
       "5     bar\n",
       "6     bar\n",
       "7     foo\n",
       "8    None\n",
       "dtype: object"
      ]
     },
     "execution_count": 57,
     "metadata": {},
     "output_type": "execute_result"
    }
   ],
   "source": [
    "# Challenge: \n",
    "\n",
    "# Use the \"map\" method to create a new series with each element\n",
    "# lowercased. Create your own function to do the operation. \n",
    "# Missing values should stay missing!\n",
    "\n",
    "\n",
    "def lower(s):\n",
    "    \n",
    "    return s.map(lambda x:x.lower(), na_action='ignore')\n",
    "\n",
    "\n",
    "# Easier to test\n",
    "def lower(s):\n",
    "    try:\n",
    "        return s.lower()\n",
    "    except AttributeError:\n",
    "        return None\n",
    "    \n",
    "\n",
    "\n",
    "names = pd.Series(['Foo', 'BAR', None, 'foo', None, 'bar', 'bAR', 'foo', None])\n",
    "\n",
    "lower(names)\n",
    "names.map(lower)\n",
    "\n",
    "for i in names:\n",
    "    print(lower(i))\n",
    "    \n",
    "pd.Series([lower(n) for n in names])"
   ]
  },
  {
   "cell_type": "code",
   "execution_count": 65,
   "metadata": {},
   "outputs": [
    {
     "data": {
      "text/plain": [
       "array([0.33333333])"
      ]
     },
     "execution_count": 65,
     "metadata": {},
     "output_type": "execute_result"
    }
   ],
   "source": [
    "# Challenge: \n",
    "\n",
    "# Using the series from above, now lowercased, count the occurences of each name\n",
    "# Hint: It's simple, just use .value_counts()!\n",
    "\n",
    "names.map(lower).value_counts(dropna=False)\n",
    "\n",
    "names.map(lower).isna().sum()/names.shape\n",
    "\n",
    "type(names.shape)\n"
   ]
  },
  {
   "cell_type": "markdown",
   "metadata": {
    "slideshow": {
     "slide_type": "slide"
    }
   },
   "source": [
    "## Dataframes\n",
    "\n",
    "This is PANDAS model for rectangular data, operationally is like a dictionary of series; each column of the dataframe is a series object, and clearly comes with all the attributes/methods of a series\n",
    "\n",
    "An implication of the above is that within each column the data type is common; across columns of course this can change\n",
    "\n",
    "Let's see an example right away "
   ]
  },
  {
   "cell_type": "code",
   "execution_count": 66,
   "metadata": {},
   "outputs": [
    {
     "data": {
      "text/html": [
       "<div>\n",
       "<style scoped>\n",
       "    .dataframe tbody tr th:only-of-type {\n",
       "        vertical-align: middle;\n",
       "    }\n",
       "\n",
       "    .dataframe tbody tr th {\n",
       "        vertical-align: top;\n",
       "    }\n",
       "\n",
       "    .dataframe thead th {\n",
       "        text-align: right;\n",
       "    }\n",
       "</style>\n",
       "<table border=\"1\" class=\"dataframe\">\n",
       "  <thead>\n",
       "    <tr style=\"text-align: right;\">\n",
       "      <th></th>\n",
       "      <th>total_bill</th>\n",
       "      <th>tip</th>\n",
       "      <th>sex</th>\n",
       "      <th>smoker</th>\n",
       "      <th>day</th>\n",
       "      <th>time</th>\n",
       "      <th>size</th>\n",
       "    </tr>\n",
       "  </thead>\n",
       "  <tbody>\n",
       "    <tr>\n",
       "      <td>0</td>\n",
       "      <td>16.99</td>\n",
       "      <td>1.01</td>\n",
       "      <td>Female</td>\n",
       "      <td>No</td>\n",
       "      <td>Sun</td>\n",
       "      <td>Dinner</td>\n",
       "      <td>2</td>\n",
       "    </tr>\n",
       "    <tr>\n",
       "      <td>1</td>\n",
       "      <td>10.34</td>\n",
       "      <td>1.66</td>\n",
       "      <td>Male</td>\n",
       "      <td>No</td>\n",
       "      <td>Sun</td>\n",
       "      <td>Dinner</td>\n",
       "      <td>3</td>\n",
       "    </tr>\n",
       "    <tr>\n",
       "      <td>2</td>\n",
       "      <td>21.01</td>\n",
       "      <td>3.50</td>\n",
       "      <td>Male</td>\n",
       "      <td>No</td>\n",
       "      <td>Sun</td>\n",
       "      <td>Dinner</td>\n",
       "      <td>3</td>\n",
       "    </tr>\n",
       "    <tr>\n",
       "      <td>3</td>\n",
       "      <td>23.68</td>\n",
       "      <td>3.31</td>\n",
       "      <td>Male</td>\n",
       "      <td>No</td>\n",
       "      <td>Sun</td>\n",
       "      <td>Dinner</td>\n",
       "      <td>2</td>\n",
       "    </tr>\n",
       "    <tr>\n",
       "      <td>4</td>\n",
       "      <td>24.59</td>\n",
       "      <td>3.61</td>\n",
       "      <td>Female</td>\n",
       "      <td>No</td>\n",
       "      <td>Sun</td>\n",
       "      <td>Dinner</td>\n",
       "      <td>4</td>\n",
       "    </tr>\n",
       "    <tr>\n",
       "      <td>5</td>\n",
       "      <td>25.29</td>\n",
       "      <td>4.71</td>\n",
       "      <td>Male</td>\n",
       "      <td>No</td>\n",
       "      <td>Sun</td>\n",
       "      <td>Dinner</td>\n",
       "      <td>4</td>\n",
       "    </tr>\n",
       "    <tr>\n",
       "      <td>6</td>\n",
       "      <td>8.77</td>\n",
       "      <td>2.00</td>\n",
       "      <td>Male</td>\n",
       "      <td>No</td>\n",
       "      <td>Sun</td>\n",
       "      <td>Dinner</td>\n",
       "      <td>2</td>\n",
       "    </tr>\n",
       "    <tr>\n",
       "      <td>7</td>\n",
       "      <td>26.88</td>\n",
       "      <td>3.12</td>\n",
       "      <td>Male</td>\n",
       "      <td>No</td>\n",
       "      <td>Sun</td>\n",
       "      <td>Dinner</td>\n",
       "      <td>4</td>\n",
       "    </tr>\n",
       "    <tr>\n",
       "      <td>8</td>\n",
       "      <td>15.04</td>\n",
       "      <td>1.96</td>\n",
       "      <td>Male</td>\n",
       "      <td>No</td>\n",
       "      <td>Sun</td>\n",
       "      <td>Dinner</td>\n",
       "      <td>2</td>\n",
       "    </tr>\n",
       "    <tr>\n",
       "      <td>9</td>\n",
       "      <td>14.78</td>\n",
       "      <td>3.23</td>\n",
       "      <td>Male</td>\n",
       "      <td>No</td>\n",
       "      <td>Sun</td>\n",
       "      <td>Dinner</td>\n",
       "      <td>2</td>\n",
       "    </tr>\n",
       "  </tbody>\n",
       "</table>\n",
       "</div>"
      ],
      "text/plain": [
       "   total_bill   tip     sex smoker  day    time  size\n",
       "0       16.99  1.01  Female     No  Sun  Dinner     2\n",
       "1       10.34  1.66    Male     No  Sun  Dinner     3\n",
       "2       21.01  3.50    Male     No  Sun  Dinner     3\n",
       "3       23.68  3.31    Male     No  Sun  Dinner     2\n",
       "4       24.59  3.61  Female     No  Sun  Dinner     4\n",
       "5       25.29  4.71    Male     No  Sun  Dinner     4\n",
       "6        8.77  2.00    Male     No  Sun  Dinner     2\n",
       "7       26.88  3.12    Male     No  Sun  Dinner     4\n",
       "8       15.04  1.96    Male     No  Sun  Dinner     2\n",
       "9       14.78  3.23    Male     No  Sun  Dinner     2"
      ]
     },
     "execution_count": 66,
     "metadata": {},
     "output_type": "execute_result"
    }
   ],
   "source": [
    "tips = pd.read_csv(\"tips.csv\")\n",
    "tips.head(10) # the first method of our dataframe object! "
   ]
  },
  {
   "cell_type": "code",
   "execution_count": 67,
   "metadata": {},
   "outputs": [
    {
     "data": {
      "text/plain": [
       "Index(['total_bill', 'tip', 'sex', 'smoker', 'day', 'time', 'size'], dtype='object')"
      ]
     },
     "execution_count": 67,
     "metadata": {},
     "output_type": "execute_result"
    }
   ],
   "source": [
    "# the other important attribute: name of rows and columns\n",
    "tips.index\n",
    "tips.columns"
   ]
  },
  {
   "cell_type": "code",
   "execution_count": 69,
   "metadata": {},
   "outputs": [
    {
     "data": {
      "text/plain": [
       "0      Female\n",
       "1        Male\n",
       "2        Male\n",
       "3        Male\n",
       "4      Female\n",
       "        ...  \n",
       "239      Male\n",
       "240    Female\n",
       "241      Male\n",
       "242      Male\n",
       "243    Female\n",
       "Name: sex, Length: 244, dtype: object"
      ]
     },
     "execution_count": 69,
     "metadata": {},
     "output_type": "execute_result"
    }
   ],
   "source": [
    "tips.size\n",
    "tips.sex"
   ]
  },
  {
   "cell_type": "markdown",
   "metadata": {
    "slideshow": {
     "slide_type": "slide"
    }
   },
   "source": [
    "## Accessing the series embedded within\n",
    "\n",
    "There are two way to access the information in the columns: \n",
    "+ One is to give the name of the column as `dataframename.columnname` \n",
    "   + This is not feasible when the name of the column coincides with an attribute or method of the dataframe, e.g. when a column is called \"size\"  \n",
    "+ Another is as dataframename[\"columnname\"]\n",
    "\n",
    "Any of these calls returns a series object with the same index as the dataframe and the values of the column\n",
    "\n",
    "We can then work with the extracted series as usual. Hence you can understand what happens below \n",
    "\n",
    "```python\n",
    "tips[\"size\"].corr(tips.tip)\n",
    "```"
   ]
  },
  {
   "cell_type": "code",
   "execution_count": 81,
   "metadata": {},
   "outputs": [
    {
     "data": {
      "text/plain": [
       "foo    1\n",
       "foo    2\n",
       "dtype: int64"
      ]
     },
     "execution_count": 81,
     "metadata": {},
     "output_type": "execute_result"
    }
   ],
   "source": [
    "tips[\"size\"].corr(tips.tip)\n",
    "\n",
    "# Not unique indexes\n",
    "s=pd.Series([1,2],index=['foo','foo'])\n",
    "\n",
    "s['foo']"
   ]
  },
  {
   "cell_type": "markdown",
   "metadata": {
    "slideshow": {
     "slide_type": "slide"
    }
   },
   "source": [
    "In a similar fashion, we can access various columns at a time; we need to provide a list of column names in this case; the result is now a dataframe with the same index as the original and columns the chosen subset. We can then work with it using any of the dataframe attributes and methods we know. \n",
    "\n",
    "You can now guess what will happen below: \n",
    "\n",
    "```python\n",
    "tips[[\"tip\",\"size\",\"sex\"]].tip.corr(tips[\"size\"])\n",
    "\n",
    "```\n",
    "(not saying that this is a sensible code! just trying to make sure we understand the structure)"
   ]
  },
  {
   "cell_type": "markdown",
   "metadata": {
    "slideshow": {
     "slide_type": "slide"
    }
   },
   "source": [
    "## Accessing subsets of rows\n",
    "\n",
    "Now we are interested in a subset of rows. We can access rows by:\n",
    "+ list of index labels \n",
    "  ```python\n",
    "  dataframename.loc[ [index1, index2, ...] ]\n",
    "  ```\n",
    "+ list of integer index location (i-loc) \n",
    "  ```python\n",
    "  dataframename.iloc[ [integer1, integer2, ...] ]\n",
    "  ```\n",
    "The output is:\n",
    "+ a series, if a single column or row is chosen\n",
    "+ a dataframe, with index label the chosen index labels and the same column names as the dataframe\n",
    "\n",
    "In the case of .iloc we can also use slices, as for example\n",
    "```python\n",
    "dataframename.iloc[3:5]\n",
    "dataframename.iloc[3:5,:]\n",
    "dataframename.iloc[3:5,-2:]\n",
    "```\n",
    "\n",
    "Note: loc/iloc are also used to access a subset of rows AND columns at the same time. See examples below!"
   ]
  },
  {
   "cell_type": "code",
   "execution_count": 70,
   "metadata": {},
   "outputs": [
    {
     "data": {
      "text/html": [
       "<div>\n",
       "<style scoped>\n",
       "    .dataframe tbody tr th:only-of-type {\n",
       "        vertical-align: middle;\n",
       "    }\n",
       "\n",
       "    .dataframe tbody tr th {\n",
       "        vertical-align: top;\n",
       "    }\n",
       "\n",
       "    .dataframe thead th {\n",
       "        text-align: right;\n",
       "    }\n",
       "</style>\n",
       "<table border=\"1\" class=\"dataframe\">\n",
       "  <thead>\n",
       "    <tr style=\"text-align: right;\">\n",
       "      <th></th>\n",
       "      <th>sex</th>\n",
       "      <th>smoker</th>\n",
       "    </tr>\n",
       "  </thead>\n",
       "  <tbody>\n",
       "    <tr>\n",
       "      <td>1</td>\n",
       "      <td>Male</td>\n",
       "      <td>No</td>\n",
       "    </tr>\n",
       "    <tr>\n",
       "      <td>3</td>\n",
       "      <td>Male</td>\n",
       "      <td>No</td>\n",
       "    </tr>\n",
       "  </tbody>\n",
       "</table>\n",
       "</div>"
      ],
      "text/plain": [
       "    sex smoker\n",
       "1  Male     No\n",
       "3  Male     No"
      ]
     },
     "execution_count": 70,
     "metadata": {},
     "output_type": "execute_result"
    }
   ],
   "source": [
    "# Accessing rows AND columns!\n",
    "# Example of 2-dimension loc\n",
    "\n",
    "tips.loc[[1,3], ['sex', 'smoker']]"
   ]
  },
  {
   "cell_type": "code",
   "execution_count": 82,
   "metadata": {},
   "outputs": [
    {
     "data": {
      "text/html": [
       "<div>\n",
       "<style scoped>\n",
       "    .dataframe tbody tr th:only-of-type {\n",
       "        vertical-align: middle;\n",
       "    }\n",
       "\n",
       "    .dataframe tbody tr th {\n",
       "        vertical-align: top;\n",
       "    }\n",
       "\n",
       "    .dataframe thead th {\n",
       "        text-align: right;\n",
       "    }\n",
       "</style>\n",
       "<table border=\"1\" class=\"dataframe\">\n",
       "  <thead>\n",
       "    <tr style=\"text-align: right;\">\n",
       "      <th></th>\n",
       "      <th>sex</th>\n",
       "      <th>smoker</th>\n",
       "      <th>day</th>\n",
       "      <th>time</th>\n",
       "      <th>size</th>\n",
       "    </tr>\n",
       "  </thead>\n",
       "  <tbody>\n",
       "    <tr>\n",
       "      <td>0</td>\n",
       "      <td>Female</td>\n",
       "      <td>No</td>\n",
       "      <td>Sun</td>\n",
       "      <td>Dinner</td>\n",
       "      <td>2</td>\n",
       "    </tr>\n",
       "    <tr>\n",
       "      <td>3</td>\n",
       "      <td>Male</td>\n",
       "      <td>No</td>\n",
       "      <td>Sun</td>\n",
       "      <td>Dinner</td>\n",
       "      <td>2</td>\n",
       "    </tr>\n",
       "  </tbody>\n",
       "</table>\n",
       "</div>"
      ],
      "text/plain": [
       "      sex smoker  day    time  size\n",
       "0  Female     No  Sun  Dinner     2\n",
       "3    Male     No  Sun  Dinner     2"
      ]
     },
     "execution_count": 82,
     "metadata": {},
     "output_type": "execute_result"
    }
   ],
   "source": [
    "# Accessing rows AND columns!\n",
    "# Example of 2-dimensional iloc\n",
    "\n",
    "tips.iloc[[1,3], 2:]\n",
    "tips.iloc[[0,3], 2:]"
   ]
  },
  {
   "cell_type": "code",
   "execution_count": 83,
   "metadata": {},
   "outputs": [
    {
     "data": {
      "text/html": [
       "<div>\n",
       "<style scoped>\n",
       "    .dataframe tbody tr th:only-of-type {\n",
       "        vertical-align: middle;\n",
       "    }\n",
       "\n",
       "    .dataframe tbody tr th {\n",
       "        vertical-align: top;\n",
       "    }\n",
       "\n",
       "    .dataframe thead th {\n",
       "        text-align: right;\n",
       "    }\n",
       "</style>\n",
       "<table border=\"1\" class=\"dataframe\">\n",
       "  <thead>\n",
       "    <tr style=\"text-align: right;\">\n",
       "      <th></th>\n",
       "      <th>sex</th>\n",
       "      <th>tip</th>\n",
       "      <th>day</th>\n",
       "    </tr>\n",
       "  </thead>\n",
       "  <tbody>\n",
       "    <tr>\n",
       "      <td>20</td>\n",
       "      <td>Male</td>\n",
       "      <td>4.08</td>\n",
       "      <td>Sat</td>\n",
       "    </tr>\n",
       "    <tr>\n",
       "      <td>21</td>\n",
       "      <td>Female</td>\n",
       "      <td>2.75</td>\n",
       "      <td>Sat</td>\n",
       "    </tr>\n",
       "    <tr>\n",
       "      <td>22</td>\n",
       "      <td>Female</td>\n",
       "      <td>2.23</td>\n",
       "      <td>Sat</td>\n",
       "    </tr>\n",
       "    <tr>\n",
       "      <td>23</td>\n",
       "      <td>Male</td>\n",
       "      <td>7.58</td>\n",
       "      <td>Sat</td>\n",
       "    </tr>\n",
       "    <tr>\n",
       "      <td>24</td>\n",
       "      <td>Male</td>\n",
       "      <td>3.18</td>\n",
       "      <td>Sat</td>\n",
       "    </tr>\n",
       "    <tr>\n",
       "      <td>25</td>\n",
       "      <td>Male</td>\n",
       "      <td>2.34</td>\n",
       "      <td>Sat</td>\n",
       "    </tr>\n",
       "    <tr>\n",
       "      <td>26</td>\n",
       "      <td>Male</td>\n",
       "      <td>2.00</td>\n",
       "      <td>Sat</td>\n",
       "    </tr>\n",
       "    <tr>\n",
       "      <td>27</td>\n",
       "      <td>Male</td>\n",
       "      <td>2.00</td>\n",
       "      <td>Sat</td>\n",
       "    </tr>\n",
       "    <tr>\n",
       "      <td>28</td>\n",
       "      <td>Male</td>\n",
       "      <td>4.30</td>\n",
       "      <td>Sat</td>\n",
       "    </tr>\n",
       "    <tr>\n",
       "      <td>29</td>\n",
       "      <td>Female</td>\n",
       "      <td>3.00</td>\n",
       "      <td>Sat</td>\n",
       "    </tr>\n",
       "    <tr>\n",
       "      <td>30</td>\n",
       "      <td>Male</td>\n",
       "      <td>1.45</td>\n",
       "      <td>Sat</td>\n",
       "    </tr>\n",
       "    <tr>\n",
       "      <td>31</td>\n",
       "      <td>Male</td>\n",
       "      <td>2.50</td>\n",
       "      <td>Sat</td>\n",
       "    </tr>\n",
       "    <tr>\n",
       "      <td>32</td>\n",
       "      <td>Female</td>\n",
       "      <td>3.00</td>\n",
       "      <td>Sat</td>\n",
       "    </tr>\n",
       "    <tr>\n",
       "      <td>33</td>\n",
       "      <td>Female</td>\n",
       "      <td>2.45</td>\n",
       "      <td>Sat</td>\n",
       "    </tr>\n",
       "    <tr>\n",
       "      <td>34</td>\n",
       "      <td>Male</td>\n",
       "      <td>3.27</td>\n",
       "      <td>Sat</td>\n",
       "    </tr>\n",
       "    <tr>\n",
       "      <td>35</td>\n",
       "      <td>Male</td>\n",
       "      <td>3.60</td>\n",
       "      <td>Sat</td>\n",
       "    </tr>\n",
       "    <tr>\n",
       "      <td>36</td>\n",
       "      <td>Male</td>\n",
       "      <td>2.00</td>\n",
       "      <td>Sat</td>\n",
       "    </tr>\n",
       "    <tr>\n",
       "      <td>37</td>\n",
       "      <td>Female</td>\n",
       "      <td>3.07</td>\n",
       "      <td>Sat</td>\n",
       "    </tr>\n",
       "    <tr>\n",
       "      <td>38</td>\n",
       "      <td>Male</td>\n",
       "      <td>2.31</td>\n",
       "      <td>Sat</td>\n",
       "    </tr>\n",
       "    <tr>\n",
       "      <td>39</td>\n",
       "      <td>Male</td>\n",
       "      <td>5.00</td>\n",
       "      <td>Sat</td>\n",
       "    </tr>\n",
       "    <tr>\n",
       "      <td>40</td>\n",
       "      <td>Male</td>\n",
       "      <td>2.24</td>\n",
       "      <td>Sat</td>\n",
       "    </tr>\n",
       "    <tr>\n",
       "      <td>41</td>\n",
       "      <td>Male</td>\n",
       "      <td>2.54</td>\n",
       "      <td>Sun</td>\n",
       "    </tr>\n",
       "    <tr>\n",
       "      <td>42</td>\n",
       "      <td>Male</td>\n",
       "      <td>3.06</td>\n",
       "      <td>Sun</td>\n",
       "    </tr>\n",
       "    <tr>\n",
       "      <td>43</td>\n",
       "      <td>Male</td>\n",
       "      <td>1.32</td>\n",
       "      <td>Sun</td>\n",
       "    </tr>\n",
       "    <tr>\n",
       "      <td>44</td>\n",
       "      <td>Male</td>\n",
       "      <td>5.60</td>\n",
       "      <td>Sun</td>\n",
       "    </tr>\n",
       "  </tbody>\n",
       "</table>\n",
       "</div>"
      ],
      "text/plain": [
       "       sex   tip  day\n",
       "20    Male  4.08  Sat\n",
       "21  Female  2.75  Sat\n",
       "22  Female  2.23  Sat\n",
       "23    Male  7.58  Sat\n",
       "24    Male  3.18  Sat\n",
       "25    Male  2.34  Sat\n",
       "26    Male  2.00  Sat\n",
       "27    Male  2.00  Sat\n",
       "28    Male  4.30  Sat\n",
       "29  Female  3.00  Sat\n",
       "30    Male  1.45  Sat\n",
       "31    Male  2.50  Sat\n",
       "32  Female  3.00  Sat\n",
       "33  Female  2.45  Sat\n",
       "34    Male  3.27  Sat\n",
       "35    Male  3.60  Sat\n",
       "36    Male  2.00  Sat\n",
       "37  Female  3.07  Sat\n",
       "38    Male  2.31  Sat\n",
       "39    Male  5.00  Sat\n",
       "40    Male  2.24  Sat\n",
       "41    Male  2.54  Sun\n",
       "42    Male  3.06  Sun\n",
       "43    Male  1.32  Sun\n",
       "44    Male  5.60  Sun"
      ]
     },
     "execution_count": 83,
     "metadata": {},
     "output_type": "execute_result"
    }
   ],
   "source": [
    "# Challenge:\n",
    "\n",
    "# Using the tips dataframe, create a new one that contains the \n",
    "# information contained in all rows between the 20th (inclusive) \n",
    "# and the 45th (exclusive) and only the columns: tip, sex, day\n",
    "\n",
    "#t=tips[[\"sex\",\"tip\",\"day\"]]\n",
    "\n",
    "#t.iloc[20:45,:]\n",
    "\n",
    "tips.loc[20:44,['sex','tip','day']]"
   ]
  },
  {
   "cell_type": "markdown",
   "metadata": {
    "slideshow": {
     "slide_type": "slide"
    }
   },
   "source": [
    "Note that certain operations are exchangeable: the 3rd element of column \"sex\" can be obtained with either of the following ways: \n",
    "```python\n",
    "tips.sex[2] #access col as series, then the 3rd element of that\n",
    "tips.loc[2,\"sex\"] #access the entry in dataframe by giving the index labels of row and col (recall here index labels coincide with numerical indices\n",
    "tips.loc[2][\"sex\"] #accessing the whole row as a series, then using the column name as index label\n",
    "```\n",
    "etc\n"
   ]
  },
  {
   "cell_type": "code",
   "execution_count": 94,
   "metadata": {},
   "outputs": [
    {
     "data": {
      "text/html": [
       "<div>\n",
       "<style scoped>\n",
       "    .dataframe tbody tr th:only-of-type {\n",
       "        vertical-align: middle;\n",
       "    }\n",
       "\n",
       "    .dataframe tbody tr th {\n",
       "        vertical-align: top;\n",
       "    }\n",
       "\n",
       "    .dataframe thead th {\n",
       "        text-align: right;\n",
       "    }\n",
       "</style>\n",
       "<table border=\"1\" class=\"dataframe\">\n",
       "  <thead>\n",
       "    <tr style=\"text-align: right;\">\n",
       "      <th></th>\n",
       "      <th>total_bill</th>\n",
       "      <th>tip</th>\n",
       "      <th>sex</th>\n",
       "      <th>smoker</th>\n",
       "      <th>day</th>\n",
       "      <th>time</th>\n",
       "      <th>size</th>\n",
       "    </tr>\n",
       "  </thead>\n",
       "  <tbody>\n",
       "    <tr>\n",
       "      <td>0</td>\n",
       "      <td>16.99</td>\n",
       "      <td>1.01</td>\n",
       "      <td>Female</td>\n",
       "      <td>No</td>\n",
       "      <td>Sun</td>\n",
       "      <td>Dinner</td>\n",
       "      <td>2</td>\n",
       "    </tr>\n",
       "    <tr>\n",
       "      <td>1</td>\n",
       "      <td>10.34</td>\n",
       "      <td>1.66</td>\n",
       "      <td>Male</td>\n",
       "      <td>No</td>\n",
       "      <td>Sun</td>\n",
       "      <td>Dinner</td>\n",
       "      <td>3</td>\n",
       "    </tr>\n",
       "    <tr>\n",
       "      <td>2</td>\n",
       "      <td>21.01</td>\n",
       "      <td>3.50</td>\n",
       "      <td>Female</td>\n",
       "      <td>No</td>\n",
       "      <td>Sun</td>\n",
       "      <td>Dinner</td>\n",
       "      <td>3</td>\n",
       "    </tr>\n",
       "    <tr>\n",
       "      <td>3</td>\n",
       "      <td>23.68</td>\n",
       "      <td>3.31</td>\n",
       "      <td>foo</td>\n",
       "      <td>No</td>\n",
       "      <td>Sun</td>\n",
       "      <td>Dinner</td>\n",
       "      <td>2</td>\n",
       "    </tr>\n",
       "    <tr>\n",
       "      <td>4</td>\n",
       "      <td>24.59</td>\n",
       "      <td>3.61</td>\n",
       "      <td>Female</td>\n",
       "      <td>No</td>\n",
       "      <td>Sun</td>\n",
       "      <td>Dinner</td>\n",
       "      <td>4</td>\n",
       "    </tr>\n",
       "    <tr>\n",
       "      <td>...</td>\n",
       "      <td>...</td>\n",
       "      <td>...</td>\n",
       "      <td>...</td>\n",
       "      <td>...</td>\n",
       "      <td>...</td>\n",
       "      <td>...</td>\n",
       "      <td>...</td>\n",
       "    </tr>\n",
       "    <tr>\n",
       "      <td>239</td>\n",
       "      <td>29.03</td>\n",
       "      <td>5.92</td>\n",
       "      <td>foo</td>\n",
       "      <td>No</td>\n",
       "      <td>Sat</td>\n",
       "      <td>Dinner</td>\n",
       "      <td>3</td>\n",
       "    </tr>\n",
       "    <tr>\n",
       "      <td>240</td>\n",
       "      <td>27.18</td>\n",
       "      <td>2.00</td>\n",
       "      <td>Female</td>\n",
       "      <td>Yes</td>\n",
       "      <td>Sat</td>\n",
       "      <td>Dinner</td>\n",
       "      <td>2</td>\n",
       "    </tr>\n",
       "    <tr>\n",
       "      <td>241</td>\n",
       "      <td>22.67</td>\n",
       "      <td>2.00</td>\n",
       "      <td>Male</td>\n",
       "      <td>Yes</td>\n",
       "      <td>Sat</td>\n",
       "      <td>Dinner</td>\n",
       "      <td>2</td>\n",
       "    </tr>\n",
       "    <tr>\n",
       "      <td>242</td>\n",
       "      <td>17.82</td>\n",
       "      <td>1.75</td>\n",
       "      <td>Male</td>\n",
       "      <td>No</td>\n",
       "      <td>Sat</td>\n",
       "      <td>Dinner</td>\n",
       "      <td>2</td>\n",
       "    </tr>\n",
       "    <tr>\n",
       "      <td>243</td>\n",
       "      <td>18.78</td>\n",
       "      <td>3.00</td>\n",
       "      <td>Female</td>\n",
       "      <td>No</td>\n",
       "      <td>Thur</td>\n",
       "      <td>Dinner</td>\n",
       "      <td>2</td>\n",
       "    </tr>\n",
       "  </tbody>\n",
       "</table>\n",
       "<p>244 rows × 7 columns</p>\n",
       "</div>"
      ],
      "text/plain": [
       "     total_bill   tip     sex smoker   day    time  size\n",
       "0         16.99  1.01  Female     No   Sun  Dinner     2\n",
       "1         10.34  1.66    Male     No   Sun  Dinner     3\n",
       "2         21.01  3.50  Female     No   Sun  Dinner     3\n",
       "3         23.68  3.31     foo     No   Sun  Dinner     2\n",
       "4         24.59  3.61  Female     No   Sun  Dinner     4\n",
       "..          ...   ...     ...    ...   ...     ...   ...\n",
       "239       29.03  5.92     foo     No   Sat  Dinner     3\n",
       "240       27.18  2.00  Female    Yes   Sat  Dinner     2\n",
       "241       22.67  2.00    Male    Yes   Sat  Dinner     2\n",
       "242       17.82  1.75    Male     No   Sat  Dinner     2\n",
       "243       18.78  3.00  Female     No  Thur  Dinner     2\n",
       "\n",
       "[244 rows x 7 columns]"
      ]
     },
     "execution_count": 94,
     "metadata": {},
     "output_type": "execute_result"
    }
   ],
   "source": [
    "tips.loc[2]\n",
    "tips.loc[2,[\"sex\",\"smoker\"]]\n",
    "\n",
    "# Set something in the dataframe\n",
    "tips.loc[2,\"sex\"]=\"Female\"\n",
    "\n",
    "tips.loc[2,[\"sex\",\"smoker\"]]\n",
    "\n",
    "tips.loc[(tips.sex=='Male')&(tips.tip>2.),'sex']=\"foo\"\n",
    "\n",
    "tips"
   ]
  },
  {
   "cell_type": "markdown",
   "metadata": {
    "slideshow": {
     "slide_type": "slide"
    }
   },
   "source": [
    "## Filtering\n",
    "\n",
    "As with series, we can use a boolean-valued series to index a dataframe provided the share the same index labels. The simplest instance of this is to use series produced as boolean masks of columns of the dataframe. The output of this *filtering* operation is a dataframe with subset of rows corresponding to the True values in the boolean mask. \n",
    "\n",
    "For example, for the tips data, what does the following produce? \n",
    "```python\n",
    "tips[tips.sex == \"Male\"] \n",
    "```\n",
    "\n",
    "Recall that the boolean operators are \n",
    "```python\n",
    "& # AND\n",
    "| # OR\n",
    "~ # NOT\n",
    "\n",
    "```"
   ]
  },
  {
   "cell_type": "markdown",
   "metadata": {
    "slideshow": {
     "slide_type": "slide"
    }
   },
   "source": [
    "## Statistics and computations\n",
    "\n",
    "dataframe comes with several attributes for computing column-wise statistics and summaries. We highlight some \n",
    "```python\n",
    ".boxplot # check out the \"by = \" option!\n",
    ".corrwith & .corr # within and across dataframes!\n",
    ".dot \n",
    ".mean/median/max/quantile/sum etc\n",
    ".sample \n",
    ".sort_values \n",
    "```"
   ]
  },
  {
   "cell_type": "code",
   "execution_count": 96,
   "metadata": {},
   "outputs": [
    {
     "data": {
      "text/html": [
       "<div>\n",
       "<style scoped>\n",
       "    .dataframe tbody tr th:only-of-type {\n",
       "        vertical-align: middle;\n",
       "    }\n",
       "\n",
       "    .dataframe tbody tr th {\n",
       "        vertical-align: top;\n",
       "    }\n",
       "\n",
       "    .dataframe thead th {\n",
       "        text-align: right;\n",
       "    }\n",
       "</style>\n",
       "<table border=\"1\" class=\"dataframe\">\n",
       "  <thead>\n",
       "    <tr style=\"text-align: right;\">\n",
       "      <th></th>\n",
       "      <th>total_bill</th>\n",
       "      <th>tip</th>\n",
       "      <th>sex</th>\n",
       "      <th>smoker</th>\n",
       "      <th>day</th>\n",
       "      <th>time</th>\n",
       "      <th>size</th>\n",
       "    </tr>\n",
       "  </thead>\n",
       "  <tbody>\n",
       "    <tr>\n",
       "      <td>3</td>\n",
       "      <td>23.68</td>\n",
       "      <td>3.31</td>\n",
       "      <td>foo</td>\n",
       "      <td>No</td>\n",
       "      <td>Sun</td>\n",
       "      <td>Dinner</td>\n",
       "      <td>2</td>\n",
       "    </tr>\n",
       "    <tr>\n",
       "      <td>183</td>\n",
       "      <td>23.17</td>\n",
       "      <td>6.50</td>\n",
       "      <td>foo</td>\n",
       "      <td>Yes</td>\n",
       "      <td>Sun</td>\n",
       "      <td>Dinner</td>\n",
       "      <td>4</td>\n",
       "    </tr>\n",
       "    <tr>\n",
       "      <td>107</td>\n",
       "      <td>25.21</td>\n",
       "      <td>4.29</td>\n",
       "      <td>foo</td>\n",
       "      <td>Yes</td>\n",
       "      <td>Sat</td>\n",
       "      <td>Dinner</td>\n",
       "      <td>2</td>\n",
       "    </tr>\n",
       "    <tr>\n",
       "      <td>26</td>\n",
       "      <td>13.37</td>\n",
       "      <td>2.00</td>\n",
       "      <td>Male</td>\n",
       "      <td>No</td>\n",
       "      <td>Sat</td>\n",
       "      <td>Dinner</td>\n",
       "      <td>2</td>\n",
       "    </tr>\n",
       "    <tr>\n",
       "      <td>225</td>\n",
       "      <td>16.27</td>\n",
       "      <td>2.50</td>\n",
       "      <td>Female</td>\n",
       "      <td>Yes</td>\n",
       "      <td>Fri</td>\n",
       "      <td>Lunch</td>\n",
       "      <td>2</td>\n",
       "    </tr>\n",
       "    <tr>\n",
       "      <td>5</td>\n",
       "      <td>25.29</td>\n",
       "      <td>4.71</td>\n",
       "      <td>foo</td>\n",
       "      <td>No</td>\n",
       "      <td>Sun</td>\n",
       "      <td>Dinner</td>\n",
       "      <td>4</td>\n",
       "    </tr>\n",
       "    <tr>\n",
       "      <td>18</td>\n",
       "      <td>16.97</td>\n",
       "      <td>3.50</td>\n",
       "      <td>Female</td>\n",
       "      <td>No</td>\n",
       "      <td>Sun</td>\n",
       "      <td>Dinner</td>\n",
       "      <td>3</td>\n",
       "    </tr>\n",
       "    <tr>\n",
       "      <td>230</td>\n",
       "      <td>24.01</td>\n",
       "      <td>2.00</td>\n",
       "      <td>Male</td>\n",
       "      <td>Yes</td>\n",
       "      <td>Sat</td>\n",
       "      <td>Dinner</td>\n",
       "      <td>4</td>\n",
       "    </tr>\n",
       "    <tr>\n",
       "      <td>211</td>\n",
       "      <td>25.89</td>\n",
       "      <td>5.16</td>\n",
       "      <td>foo</td>\n",
       "      <td>Yes</td>\n",
       "      <td>Sat</td>\n",
       "      <td>Dinner</td>\n",
       "      <td>4</td>\n",
       "    </tr>\n",
       "    <tr>\n",
       "      <td>138</td>\n",
       "      <td>16.00</td>\n",
       "      <td>2.00</td>\n",
       "      <td>Male</td>\n",
       "      <td>Yes</td>\n",
       "      <td>Thur</td>\n",
       "      <td>Lunch</td>\n",
       "      <td>2</td>\n",
       "    </tr>\n",
       "    <tr>\n",
       "      <td>57</td>\n",
       "      <td>26.41</td>\n",
       "      <td>1.50</td>\n",
       "      <td>Female</td>\n",
       "      <td>No</td>\n",
       "      <td>Sat</td>\n",
       "      <td>Dinner</td>\n",
       "      <td>2</td>\n",
       "    </tr>\n",
       "    <tr>\n",
       "      <td>34</td>\n",
       "      <td>17.78</td>\n",
       "      <td>3.27</td>\n",
       "      <td>foo</td>\n",
       "      <td>No</td>\n",
       "      <td>Sat</td>\n",
       "      <td>Dinner</td>\n",
       "      <td>2</td>\n",
       "    </tr>\n",
       "    <tr>\n",
       "      <td>179</td>\n",
       "      <td>34.63</td>\n",
       "      <td>3.55</td>\n",
       "      <td>foo</td>\n",
       "      <td>Yes</td>\n",
       "      <td>Sun</td>\n",
       "      <td>Dinner</td>\n",
       "      <td>2</td>\n",
       "    </tr>\n",
       "    <tr>\n",
       "      <td>155</td>\n",
       "      <td>29.85</td>\n",
       "      <td>5.14</td>\n",
       "      <td>Female</td>\n",
       "      <td>No</td>\n",
       "      <td>Sun</td>\n",
       "      <td>Dinner</td>\n",
       "      <td>5</td>\n",
       "    </tr>\n",
       "    <tr>\n",
       "      <td>19</td>\n",
       "      <td>20.65</td>\n",
       "      <td>3.35</td>\n",
       "      <td>foo</td>\n",
       "      <td>No</td>\n",
       "      <td>Sat</td>\n",
       "      <td>Dinner</td>\n",
       "      <td>3</td>\n",
       "    </tr>\n",
       "    <tr>\n",
       "      <td>153</td>\n",
       "      <td>24.55</td>\n",
       "      <td>2.00</td>\n",
       "      <td>Male</td>\n",
       "      <td>No</td>\n",
       "      <td>Sun</td>\n",
       "      <td>Dinner</td>\n",
       "      <td>4</td>\n",
       "    </tr>\n",
       "    <tr>\n",
       "      <td>148</td>\n",
       "      <td>9.78</td>\n",
       "      <td>1.73</td>\n",
       "      <td>Male</td>\n",
       "      <td>No</td>\n",
       "      <td>Thur</td>\n",
       "      <td>Lunch</td>\n",
       "      <td>2</td>\n",
       "    </tr>\n",
       "    <tr>\n",
       "      <td>100</td>\n",
       "      <td>11.35</td>\n",
       "      <td>2.50</td>\n",
       "      <td>Female</td>\n",
       "      <td>Yes</td>\n",
       "      <td>Fri</td>\n",
       "      <td>Dinner</td>\n",
       "      <td>2</td>\n",
       "    </tr>\n",
       "    <tr>\n",
       "      <td>235</td>\n",
       "      <td>10.07</td>\n",
       "      <td>1.25</td>\n",
       "      <td>Male</td>\n",
       "      <td>No</td>\n",
       "      <td>Sat</td>\n",
       "      <td>Dinner</td>\n",
       "      <td>2</td>\n",
       "    </tr>\n",
       "    <tr>\n",
       "      <td>0</td>\n",
       "      <td>16.99</td>\n",
       "      <td>1.01</td>\n",
       "      <td>Female</td>\n",
       "      <td>No</td>\n",
       "      <td>Sun</td>\n",
       "      <td>Dinner</td>\n",
       "      <td>2</td>\n",
       "    </tr>\n",
       "    <tr>\n",
       "      <td>20</td>\n",
       "      <td>17.92</td>\n",
       "      <td>4.08</td>\n",
       "      <td>foo</td>\n",
       "      <td>No</td>\n",
       "      <td>Sat</td>\n",
       "      <td>Dinner</td>\n",
       "      <td>2</td>\n",
       "    </tr>\n",
       "    <tr>\n",
       "      <td>216</td>\n",
       "      <td>28.15</td>\n",
       "      <td>3.00</td>\n",
       "      <td>foo</td>\n",
       "      <td>Yes</td>\n",
       "      <td>Sat</td>\n",
       "      <td>Dinner</td>\n",
       "      <td>5</td>\n",
       "    </tr>\n",
       "    <tr>\n",
       "      <td>137</td>\n",
       "      <td>14.15</td>\n",
       "      <td>2.00</td>\n",
       "      <td>Female</td>\n",
       "      <td>No</td>\n",
       "      <td>Thur</td>\n",
       "      <td>Lunch</td>\n",
       "      <td>2</td>\n",
       "    </tr>\n",
       "    <tr>\n",
       "      <td>166</td>\n",
       "      <td>20.76</td>\n",
       "      <td>2.24</td>\n",
       "      <td>foo</td>\n",
       "      <td>No</td>\n",
       "      <td>Sun</td>\n",
       "      <td>Dinner</td>\n",
       "      <td>2</td>\n",
       "    </tr>\n",
       "    <tr>\n",
       "      <td>122</td>\n",
       "      <td>14.26</td>\n",
       "      <td>2.50</td>\n",
       "      <td>foo</td>\n",
       "      <td>No</td>\n",
       "      <td>Thur</td>\n",
       "      <td>Lunch</td>\n",
       "      <td>2</td>\n",
       "    </tr>\n",
       "    <tr>\n",
       "      <td>22</td>\n",
       "      <td>15.77</td>\n",
       "      <td>2.23</td>\n",
       "      <td>Female</td>\n",
       "      <td>No</td>\n",
       "      <td>Sat</td>\n",
       "      <td>Dinner</td>\n",
       "      <td>2</td>\n",
       "    </tr>\n",
       "    <tr>\n",
       "      <td>222</td>\n",
       "      <td>8.58</td>\n",
       "      <td>1.92</td>\n",
       "      <td>Male</td>\n",
       "      <td>Yes</td>\n",
       "      <td>Fri</td>\n",
       "      <td>Lunch</td>\n",
       "      <td>1</td>\n",
       "    </tr>\n",
       "    <tr>\n",
       "      <td>32</td>\n",
       "      <td>15.06</td>\n",
       "      <td>3.00</td>\n",
       "      <td>Female</td>\n",
       "      <td>No</td>\n",
       "      <td>Sat</td>\n",
       "      <td>Dinner</td>\n",
       "      <td>2</td>\n",
       "    </tr>\n",
       "    <tr>\n",
       "      <td>37</td>\n",
       "      <td>16.93</td>\n",
       "      <td>3.07</td>\n",
       "      <td>Female</td>\n",
       "      <td>No</td>\n",
       "      <td>Sat</td>\n",
       "      <td>Dinner</td>\n",
       "      <td>3</td>\n",
       "    </tr>\n",
       "    <tr>\n",
       "      <td>215</td>\n",
       "      <td>12.90</td>\n",
       "      <td>1.10</td>\n",
       "      <td>Female</td>\n",
       "      <td>Yes</td>\n",
       "      <td>Sat</td>\n",
       "      <td>Dinner</td>\n",
       "      <td>2</td>\n",
       "    </tr>\n",
       "    <tr>\n",
       "      <td>71</td>\n",
       "      <td>17.07</td>\n",
       "      <td>3.00</td>\n",
       "      <td>Female</td>\n",
       "      <td>No</td>\n",
       "      <td>Sat</td>\n",
       "      <td>Dinner</td>\n",
       "      <td>3</td>\n",
       "    </tr>\n",
       "    <tr>\n",
       "      <td>49</td>\n",
       "      <td>18.04</td>\n",
       "      <td>3.00</td>\n",
       "      <td>foo</td>\n",
       "      <td>No</td>\n",
       "      <td>Sun</td>\n",
       "      <td>Dinner</td>\n",
       "      <td>2</td>\n",
       "    </tr>\n",
       "    <tr>\n",
       "      <td>131</td>\n",
       "      <td>20.27</td>\n",
       "      <td>2.83</td>\n",
       "      <td>Female</td>\n",
       "      <td>No</td>\n",
       "      <td>Thur</td>\n",
       "      <td>Lunch</td>\n",
       "      <td>2</td>\n",
       "    </tr>\n",
       "    <tr>\n",
       "      <td>2</td>\n",
       "      <td>21.01</td>\n",
       "      <td>3.50</td>\n",
       "      <td>Female</td>\n",
       "      <td>No</td>\n",
       "      <td>Sun</td>\n",
       "      <td>Dinner</td>\n",
       "      <td>3</td>\n",
       "    </tr>\n",
       "    <tr>\n",
       "      <td>43</td>\n",
       "      <td>9.68</td>\n",
       "      <td>1.32</td>\n",
       "      <td>Male</td>\n",
       "      <td>No</td>\n",
       "      <td>Sun</td>\n",
       "      <td>Dinner</td>\n",
       "      <td>2</td>\n",
       "    </tr>\n",
       "    <tr>\n",
       "      <td>48</td>\n",
       "      <td>28.55</td>\n",
       "      <td>2.05</td>\n",
       "      <td>foo</td>\n",
       "      <td>No</td>\n",
       "      <td>Sun</td>\n",
       "      <td>Dinner</td>\n",
       "      <td>3</td>\n",
       "    </tr>\n",
       "    <tr>\n",
       "      <td>233</td>\n",
       "      <td>10.77</td>\n",
       "      <td>1.47</td>\n",
       "      <td>Male</td>\n",
       "      <td>No</td>\n",
       "      <td>Sat</td>\n",
       "      <td>Dinner</td>\n",
       "      <td>2</td>\n",
       "    </tr>\n",
       "    <tr>\n",
       "      <td>135</td>\n",
       "      <td>8.51</td>\n",
       "      <td>1.25</td>\n",
       "      <td>Female</td>\n",
       "      <td>No</td>\n",
       "      <td>Thur</td>\n",
       "      <td>Lunch</td>\n",
       "      <td>2</td>\n",
       "    </tr>\n",
       "    <tr>\n",
       "      <td>55</td>\n",
       "      <td>19.49</td>\n",
       "      <td>3.51</td>\n",
       "      <td>foo</td>\n",
       "      <td>No</td>\n",
       "      <td>Sun</td>\n",
       "      <td>Dinner</td>\n",
       "      <td>2</td>\n",
       "    </tr>\n",
       "    <tr>\n",
       "      <td>195</td>\n",
       "      <td>7.56</td>\n",
       "      <td>1.44</td>\n",
       "      <td>Male</td>\n",
       "      <td>No</td>\n",
       "      <td>Thur</td>\n",
       "      <td>Lunch</td>\n",
       "      <td>2</td>\n",
       "    </tr>\n",
       "    <tr>\n",
       "      <td>109</td>\n",
       "      <td>14.31</td>\n",
       "      <td>4.00</td>\n",
       "      <td>Female</td>\n",
       "      <td>Yes</td>\n",
       "      <td>Sat</td>\n",
       "      <td>Dinner</td>\n",
       "      <td>2</td>\n",
       "    </tr>\n",
       "    <tr>\n",
       "      <td>239</td>\n",
       "      <td>29.03</td>\n",
       "      <td>5.92</td>\n",
       "      <td>foo</td>\n",
       "      <td>No</td>\n",
       "      <td>Sat</td>\n",
       "      <td>Dinner</td>\n",
       "      <td>3</td>\n",
       "    </tr>\n",
       "    <tr>\n",
       "      <td>116</td>\n",
       "      <td>29.93</td>\n",
       "      <td>5.07</td>\n",
       "      <td>foo</td>\n",
       "      <td>No</td>\n",
       "      <td>Sun</td>\n",
       "      <td>Dinner</td>\n",
       "      <td>4</td>\n",
       "    </tr>\n",
       "    <tr>\n",
       "      <td>29</td>\n",
       "      <td>19.65</td>\n",
       "      <td>3.00</td>\n",
       "      <td>Female</td>\n",
       "      <td>No</td>\n",
       "      <td>Sat</td>\n",
       "      <td>Dinner</td>\n",
       "      <td>2</td>\n",
       "    </tr>\n",
       "    <tr>\n",
       "      <td>93</td>\n",
       "      <td>16.32</td>\n",
       "      <td>4.30</td>\n",
       "      <td>Female</td>\n",
       "      <td>Yes</td>\n",
       "      <td>Fri</td>\n",
       "      <td>Dinner</td>\n",
       "      <td>2</td>\n",
       "    </tr>\n",
       "    <tr>\n",
       "      <td>113</td>\n",
       "      <td>23.95</td>\n",
       "      <td>2.55</td>\n",
       "      <td>foo</td>\n",
       "      <td>No</td>\n",
       "      <td>Sun</td>\n",
       "      <td>Dinner</td>\n",
       "      <td>2</td>\n",
       "    </tr>\n",
       "    <tr>\n",
       "      <td>68</td>\n",
       "      <td>20.23</td>\n",
       "      <td>2.01</td>\n",
       "      <td>foo</td>\n",
       "      <td>No</td>\n",
       "      <td>Sat</td>\n",
       "      <td>Dinner</td>\n",
       "      <td>2</td>\n",
       "    </tr>\n",
       "    <tr>\n",
       "      <td>42</td>\n",
       "      <td>13.94</td>\n",
       "      <td>3.06</td>\n",
       "      <td>foo</td>\n",
       "      <td>No</td>\n",
       "      <td>Sun</td>\n",
       "      <td>Dinner</td>\n",
       "      <td>2</td>\n",
       "    </tr>\n",
       "    <tr>\n",
       "      <td>79</td>\n",
       "      <td>17.29</td>\n",
       "      <td>2.71</td>\n",
       "      <td>foo</td>\n",
       "      <td>No</td>\n",
       "      <td>Thur</td>\n",
       "      <td>Lunch</td>\n",
       "      <td>2</td>\n",
       "    </tr>\n",
       "  </tbody>\n",
       "</table>\n",
       "</div>"
      ],
      "text/plain": [
       "     total_bill   tip     sex smoker   day    time  size\n",
       "3         23.68  3.31     foo     No   Sun  Dinner     2\n",
       "183       23.17  6.50     foo    Yes   Sun  Dinner     4\n",
       "107       25.21  4.29     foo    Yes   Sat  Dinner     2\n",
       "26        13.37  2.00    Male     No   Sat  Dinner     2\n",
       "225       16.27  2.50  Female    Yes   Fri   Lunch     2\n",
       "5         25.29  4.71     foo     No   Sun  Dinner     4\n",
       "18        16.97  3.50  Female     No   Sun  Dinner     3\n",
       "230       24.01  2.00    Male    Yes   Sat  Dinner     4\n",
       "211       25.89  5.16     foo    Yes   Sat  Dinner     4\n",
       "138       16.00  2.00    Male    Yes  Thur   Lunch     2\n",
       "57        26.41  1.50  Female     No   Sat  Dinner     2\n",
       "34        17.78  3.27     foo     No   Sat  Dinner     2\n",
       "179       34.63  3.55     foo    Yes   Sun  Dinner     2\n",
       "155       29.85  5.14  Female     No   Sun  Dinner     5\n",
       "19        20.65  3.35     foo     No   Sat  Dinner     3\n",
       "153       24.55  2.00    Male     No   Sun  Dinner     4\n",
       "148        9.78  1.73    Male     No  Thur   Lunch     2\n",
       "100       11.35  2.50  Female    Yes   Fri  Dinner     2\n",
       "235       10.07  1.25    Male     No   Sat  Dinner     2\n",
       "0         16.99  1.01  Female     No   Sun  Dinner     2\n",
       "20        17.92  4.08     foo     No   Sat  Dinner     2\n",
       "216       28.15  3.00     foo    Yes   Sat  Dinner     5\n",
       "137       14.15  2.00  Female     No  Thur   Lunch     2\n",
       "166       20.76  2.24     foo     No   Sun  Dinner     2\n",
       "122       14.26  2.50     foo     No  Thur   Lunch     2\n",
       "22        15.77  2.23  Female     No   Sat  Dinner     2\n",
       "222        8.58  1.92    Male    Yes   Fri   Lunch     1\n",
       "32        15.06  3.00  Female     No   Sat  Dinner     2\n",
       "37        16.93  3.07  Female     No   Sat  Dinner     3\n",
       "215       12.90  1.10  Female    Yes   Sat  Dinner     2\n",
       "71        17.07  3.00  Female     No   Sat  Dinner     3\n",
       "49        18.04  3.00     foo     No   Sun  Dinner     2\n",
       "131       20.27  2.83  Female     No  Thur   Lunch     2\n",
       "2         21.01  3.50  Female     No   Sun  Dinner     3\n",
       "43         9.68  1.32    Male     No   Sun  Dinner     2\n",
       "48        28.55  2.05     foo     No   Sun  Dinner     3\n",
       "233       10.77  1.47    Male     No   Sat  Dinner     2\n",
       "135        8.51  1.25  Female     No  Thur   Lunch     2\n",
       "55        19.49  3.51     foo     No   Sun  Dinner     2\n",
       "195        7.56  1.44    Male     No  Thur   Lunch     2\n",
       "109       14.31  4.00  Female    Yes   Sat  Dinner     2\n",
       "239       29.03  5.92     foo     No   Sat  Dinner     3\n",
       "116       29.93  5.07     foo     No   Sun  Dinner     4\n",
       "29        19.65  3.00  Female     No   Sat  Dinner     2\n",
       "93        16.32  4.30  Female    Yes   Fri  Dinner     2\n",
       "113       23.95  2.55     foo     No   Sun  Dinner     2\n",
       "68        20.23  2.01     foo     No   Sat  Dinner     2\n",
       "42        13.94  3.06     foo     No   Sun  Dinner     2\n",
       "79        17.29  2.71     foo     No  Thur   Lunch     2"
      ]
     },
     "execution_count": 96,
     "metadata": {},
     "output_type": "execute_result"
    }
   ],
   "source": [
    "tips.sample(frac=0.2)"
   ]
  },
  {
   "cell_type": "code",
   "execution_count": 107,
   "metadata": {},
   "outputs": [
    {
     "data": {
      "text/html": [
       "<div>\n",
       "<style scoped>\n",
       "    .dataframe tbody tr th:only-of-type {\n",
       "        vertical-align: middle;\n",
       "    }\n",
       "\n",
       "    .dataframe tbody tr th {\n",
       "        vertical-align: top;\n",
       "    }\n",
       "\n",
       "    .dataframe thead th {\n",
       "        text-align: right;\n",
       "    }\n",
       "</style>\n",
       "<table border=\"1\" class=\"dataframe\">\n",
       "  <thead>\n",
       "    <tr style=\"text-align: right;\">\n",
       "      <th></th>\n",
       "      <th>tip</th>\n",
       "      <th>size</th>\n",
       "    </tr>\n",
       "  </thead>\n",
       "  <tbody>\n",
       "    <tr>\n",
       "      <td>tip</td>\n",
       "      <td>1.000000</td>\n",
       "      <td>0.387542</td>\n",
       "    </tr>\n",
       "    <tr>\n",
       "      <td>size</td>\n",
       "      <td>0.387542</td>\n",
       "      <td>1.000000</td>\n",
       "    </tr>\n",
       "  </tbody>\n",
       "</table>\n",
       "</div>"
      ],
      "text/plain": [
       "           tip      size\n",
       "tip   1.000000  0.387542\n",
       "size  0.387542  1.000000"
      ]
     },
     "execution_count": 107,
     "metadata": {},
     "output_type": "execute_result"
    }
   ],
   "source": [
    "# Challenge:\n",
    "\n",
    "# Using the tips dataframe, calculate the correlation between\n",
    "# tip and size for only Male clients during Dinner. \n",
    "\n",
    "#tips[(tips.time==\"Dinner\") &(tips.sex==\"Male\")][[\"tip\",\"size\"]].corr()\n",
    "\n",
    "# HINT: Remember that \"size\" cannot be accessed via dot notation, as it's an \n",
    "# attribute of the series!\n",
    "\n",
    "#tips.head()\n",
    "# Split code in multiple lines and put it all in paranthesis\n",
    "(tips[(tips.time==\"Dinner\") &(tips.sex==\"Male\")]\n",
    " [[\"tip\",\"size\"]]\n",
    " .corr()\n",
    ")"
   ]
  },
  {
   "cell_type": "markdown",
   "metadata": {
    "slideshow": {
     "slide_type": "slide"
    }
   },
   "source": [
    "## GroupBy\n",
    "\n",
    "This dataframe method groups the dataframe according to the values of a column, treating them as categorical values; it returns a groupby object!\n",
    "\n",
    "Groupby objects are useful, but can feel a bit opaque. Let's play around with them a bit: "
   ]
  },
  {
   "cell_type": "code",
   "execution_count": 111,
   "metadata": {},
   "outputs": [
    {
     "data": {
      "text/plain": [
       "<pandas.core.groupby.generic.DataFrameGroupBy object at 0x7f5cb1db1278>"
      ]
     },
     "execution_count": 111,
     "metadata": {},
     "output_type": "execute_result"
    }
   ],
   "source": [
    "# Group tips dataframe by size of table\n",
    "by_size = tips.groupby(\"size\")\n",
    "\n",
    "by_size\n"
   ]
  },
  {
   "cell_type": "code",
   "execution_count": 98,
   "metadata": {},
   "outputs": [
    {
     "data": {
      "text/plain": [
       "[(1,      total_bill   tip     sex smoker   day    time  size\n",
       "  67         3.07  1.00  Female    Yes   Sat  Dinner     1\n",
       "  82        10.07  1.83  Female     No  Thur   Lunch     1\n",
       "  111        7.25  1.00  Female     No   Sat  Dinner     1\n",
       "  222        8.58  1.92    Male    Yes   Fri   Lunch     1),\n",
       " (2,      total_bill   tip     sex smoker   day    time  size\n",
       "  0         16.99  1.01  Female     No   Sun  Dinner     2\n",
       "  3         23.68  3.31     foo     No   Sun  Dinner     2\n",
       "  6          8.77  2.00    Male     No   Sun  Dinner     2\n",
       "  8         15.04  1.96    Male     No   Sun  Dinner     2\n",
       "  9         14.78  3.23     foo     No   Sun  Dinner     2\n",
       "  ..          ...   ...     ...    ...   ...     ...   ...\n",
       "  237       32.83  1.17    Male    Yes   Sat  Dinner     2\n",
       "  240       27.18  2.00  Female    Yes   Sat  Dinner     2\n",
       "  241       22.67  2.00    Male    Yes   Sat  Dinner     2\n",
       "  242       17.82  1.75    Male     No   Sat  Dinner     2\n",
       "  243       18.78  3.00  Female     No  Thur  Dinner     2\n",
       "  \n",
       "  [156 rows x 7 columns]),\n",
       " (3,      total_bill    tip     sex smoker   day    time  size\n",
       "  1         10.34   1.66    Male     No   Sun  Dinner     3\n",
       "  2         21.01   3.50  Female     No   Sun  Dinner     3\n",
       "  16        10.33   1.67  Female     No   Sun  Dinner     3\n",
       "  17        16.29   3.71     foo     No   Sun  Dinner     3\n",
       "  18        16.97   3.50  Female     No   Sun  Dinner     3\n",
       "  19        20.65   3.35     foo     No   Sat  Dinner     3\n",
       "  35        24.06   3.60     foo     No   Sat  Dinner     3\n",
       "  36        16.31   2.00    Male     No   Sat  Dinner     3\n",
       "  37        16.93   3.07  Female     No   Sat  Dinner     3\n",
       "  38        18.69   2.31     foo     No   Sat  Dinner     3\n",
       "  39        31.27   5.00     foo     No   Sat  Dinner     3\n",
       "  40        16.04   2.24     foo     No   Sat  Dinner     3\n",
       "  48        28.55   2.05     foo     No   Sun  Dinner     3\n",
       "  64        17.59   2.64     foo     No   Sat  Dinner     3\n",
       "  65        20.08   3.15     foo     No   Sat  Dinner     3\n",
       "  71        17.07   3.00  Female     No   Sat  Dinner     3\n",
       "  102       44.30   2.50  Female    Yes   Sat  Dinner     3\n",
       "  112       38.07   4.00     foo     No   Sun  Dinner     3\n",
       "  114       25.71   4.00  Female     No   Sun  Dinner     3\n",
       "  129       22.82   2.18     foo     No  Thur   Lunch     3\n",
       "  146       18.64   1.36  Female     No  Thur   Lunch     3\n",
       "  152       17.26   2.74     foo     No   Sun  Dinner     3\n",
       "  162       16.21   2.00  Female     No   Sun  Dinner     3\n",
       "  165       24.52   3.48     foo     No   Sun  Dinner     3\n",
       "  170       50.81  10.00     foo    Yes   Sat  Dinner     3\n",
       "  182       45.35   3.50     foo    Yes   Sun  Dinner     3\n",
       "  186       20.90   3.50  Female    Yes   Sun  Dinner     3\n",
       "  188       18.15   3.50  Female    Yes   Sun  Dinner     3\n",
       "  189       23.10   4.00     foo    Yes   Sun  Dinner     3\n",
       "  200       18.71   4.00     foo    Yes  Thur   Lunch     3\n",
       "  205       16.47   3.23  Female    Yes  Thur   Lunch     3\n",
       "  206       26.59   3.41     foo    Yes   Sat  Dinner     3\n",
       "  210       30.06   2.00    Male    Yes   Sat  Dinner     3\n",
       "  214       28.17   6.50  Female    Yes   Sat  Dinner     3\n",
       "  223       15.98   3.00  Female     No   Fri   Lunch     3\n",
       "  231       15.69   3.00     foo    Yes   Sat  Dinner     3\n",
       "  238       35.83   4.67  Female     No   Sat  Dinner     3\n",
       "  239       29.03   5.92     foo     No   Sat  Dinner     3),\n",
       " (4,      total_bill   tip     sex smoker   day    time  size\n",
       "  4         24.59  3.61  Female     No   Sun  Dinner     4\n",
       "  5         25.29  4.71     foo     No   Sun  Dinner     4\n",
       "  7         26.88  3.12     foo     No   Sun  Dinner     4\n",
       "  11        35.26  5.00  Female     No   Sun  Dinner     4\n",
       "  13        18.43  3.00     foo     No   Sun  Dinner     4\n",
       "  23        39.42  7.58     foo     No   Sat  Dinner     4\n",
       "  25        17.81  2.34     foo     No   Sat  Dinner     4\n",
       "  31        18.35  2.50     foo     No   Sat  Dinner     4\n",
       "  33        20.69  2.45  Female     No   Sat  Dinner     4\n",
       "  44        30.40  5.60     foo     No   Sun  Dinner     4\n",
       "  47        32.40  6.00     foo     No   Sun  Dinner     4\n",
       "  52        34.81  5.20  Female     No   Sun  Dinner     4\n",
       "  54        25.56  4.34     foo     No   Sun  Dinner     4\n",
       "  56        38.01  3.00     foo    Yes   Sat  Dinner     4\n",
       "  59        48.27  6.73     foo     No   Sat  Dinner     4\n",
       "  63        18.29  3.76     foo    Yes   Sat  Dinner     4\n",
       "  77        27.20  4.00     foo     No  Thur   Lunch     4\n",
       "  85        34.83  5.17  Female     No  Thur   Lunch     4\n",
       "  95        40.17  4.73     foo    Yes   Fri  Dinner     4\n",
       "  116       29.93  5.07     foo     No   Sun  Dinner     4\n",
       "  119       24.08  2.92  Female     No  Thur   Lunch     4\n",
       "  153       24.55  2.00    Male     No   Sun  Dinner     4\n",
       "  154       19.77  2.00    Male     No   Sun  Dinner     4\n",
       "  157       25.00  3.75  Female     No   Sun  Dinner     4\n",
       "  159       16.49  2.00    Male     No   Sun  Dinner     4\n",
       "  160       21.50  3.50     foo     No   Sun  Dinner     4\n",
       "  167       31.71  4.50     foo     No   Sun  Dinner     4\n",
       "  180       34.65  3.68     foo    Yes   Sun  Dinner     4\n",
       "  183       23.17  6.50     foo    Yes   Sun  Dinner     4\n",
       "  197       43.11  5.00  Female    Yes  Thur   Lunch     4\n",
       "  204       20.53  4.00     foo    Yes  Thur   Lunch     4\n",
       "  207       38.73  3.00     foo    Yes   Sat  Dinner     4\n",
       "  211       25.89  5.16     foo    Yes   Sat  Dinner     4\n",
       "  212       48.33  9.00     foo     No   Sat  Dinner     4\n",
       "  219       30.14  3.09  Female    Yes   Sat  Dinner     4\n",
       "  227       20.45  3.00     foo     No   Sat  Dinner     4\n",
       "  230       24.01  2.00    Male    Yes   Sat  Dinner     4),\n",
       " (5,      total_bill   tip     sex smoker   day    time  size\n",
       "  142       41.19  5.00     foo     No  Thur   Lunch     5\n",
       "  155       29.85  5.14  Female     No   Sun  Dinner     5\n",
       "  185       20.69  5.00     foo     No   Sun  Dinner     5\n",
       "  187       30.46  2.00    Male    Yes   Sun  Dinner     5\n",
       "  216       28.15  3.00     foo    Yes   Sat  Dinner     5),\n",
       " (6,      total_bill  tip     sex smoker   day    time  size\n",
       "  125       29.80  4.2  Female     No  Thur   Lunch     6\n",
       "  141       34.30  6.7     foo     No  Thur   Lunch     6\n",
       "  143       27.05  5.0  Female     No  Thur   Lunch     6\n",
       "  156       48.17  5.0     foo     No   Sun  Dinner     6)]"
      ]
     },
     "execution_count": 98,
     "metadata": {},
     "output_type": "execute_result"
    }
   ],
   "source": [
    "# If we coerce it to a list, we see something interesting: \n",
    "# It's basically a list of tuples! \n",
    "# The first element is the \"category\" variable, the second\n",
    "# is a datafame. \n",
    "\n",
    "list(by_size)"
   ]
  },
  {
   "cell_type": "code",
   "execution_count": 99,
   "metadata": {},
   "outputs": [
    {
     "name": "stdout",
     "output_type": "stream",
     "text": [
      "Female\n",
      "total_bill    18.090455\n",
      "tip            2.841023\n",
      "size           2.465909\n",
      "dtype: float64\n",
      "Male\n",
      "total_bill    14.3908\n",
      "tip            1.7512\n",
      "size           2.2600\n",
      "dtype: float64\n",
      "foo\n",
      "total_bill    23.738396\n",
      "tip            3.717075\n",
      "size           2.801887\n",
      "dtype: float64\n"
     ]
    }
   ],
   "source": [
    "# We can iterate through the groupby just like we would a list of tuples!\n",
    "\n",
    "\n",
    "for sex,data in tips.groupby(\"sex\"):\n",
    "    print(sex)\n",
    "    print(data.mean())"
   ]
  },
  {
   "cell_type": "markdown",
   "metadata": {
    "slideshow": {
     "slide_type": "slide"
    }
   },
   "source": [
    "## Why do we groupby? \n",
    "\n",
    "We group by to perform _some_ operation on each group. To _map_ over the groups, applying a function to each element! \n",
    "\n",
    "Very often this function is itself an aggregation (reduction). We want to somehow aggregate each group into a value or set of values that _describe_ the group!\n",
    "\n",
    "How do we apply functions to each element of a groupby? We use a handy method called \".apply\"!"
   ]
  },
  {
   "cell_type": "code",
   "execution_count": 100,
   "metadata": {
    "scrolled": true
   },
   "outputs": [
    {
     "data": {
      "text/plain": [
       "sex\n",
       "Female    44.30\n",
       "Male      32.83\n",
       "foo       50.81\n",
       "dtype: float64"
      ]
     },
     "execution_count": 100,
     "metadata": {},
     "output_type": "execute_result"
    }
   ],
   "source": [
    "# Get the maximum bill by gender: \n",
    "\n",
    "def max_bill(df):\n",
    "    return df.total_bill.max()\n",
    "\n",
    "tips.groupby(\"sex\").apply(max_bill)"
   ]
  },
  {
   "cell_type": "code",
   "execution_count": 105,
   "metadata": {},
   "outputs": [
    {
     "data": {
      "text/plain": [
       "9.0"
      ]
     },
     "execution_count": 105,
     "metadata": {},
     "output_type": "execute_result"
    }
   ],
   "source": [
    "tips.tip.sort_values(ascending=False).iloc[1]"
   ]
  },
  {
   "cell_type": "code",
   "execution_count": 132,
   "metadata": {},
   "outputs": [
    {
     "data": {
      "text/plain": [
       "sex\n",
       "Female    43.11\n",
       "Male      30.46\n",
       "foo       48.33\n",
       "dtype: float64"
      ]
     },
     "execution_count": 132,
     "metadata": {},
     "output_type": "execute_result"
    }
   ],
   "source": [
    "# Challenge: \n",
    "\n",
    "\n",
    "from toolz import curry\n",
    "# Get the second largest bill by gender!\n",
    "# HINT: use sort_values and iloc!\n",
    "\n",
    "def max_nbill(df,n):\n",
    "    return df.total_bill.sort_values(ascending=False).iloc[n-1]\n",
    "\n",
    "tips.groupby(\"sex\").apply(lambda df: max_nbill(df,n=2))\n",
    "\n",
    "#def partial (fn,*args):\n",
    "#    return lambda x: fn(x, *args)\n",
    "\n",
    "#tips.groupby('sex').apply(partial(max_nbill,n=3))\n",
    "\n",
    "from functools import partial\n"
   ]
  },
  {
   "cell_type": "markdown",
   "metadata": {},
   "source": [
    "## Built-in Aggregations in groupby\n",
    "\n",
    "Many aggregation functions that exist on Series and DataFrames (mean, max, min, etc.) can be called directly via the groupby object: \n",
    "\n",
    "```python\n",
    "tips.groupby(\"sex\").max()\n",
    "tips.groupby(\"sex\").mean()\n",
    "```"
   ]
  },
  {
   "cell_type": "code",
   "execution_count": 135,
   "metadata": {},
   "outputs": [
    {
     "data": {
      "text/html": [
       "<div>\n",
       "<style scoped>\n",
       "    .dataframe tbody tr th:only-of-type {\n",
       "        vertical-align: middle;\n",
       "    }\n",
       "\n",
       "    .dataframe tbody tr th {\n",
       "        vertical-align: top;\n",
       "    }\n",
       "\n",
       "    .dataframe thead th {\n",
       "        text-align: right;\n",
       "    }\n",
       "</style>\n",
       "<table border=\"1\" class=\"dataframe\">\n",
       "  <thead>\n",
       "    <tr style=\"text-align: right;\">\n",
       "      <th></th>\n",
       "      <th>total_bill</th>\n",
       "      <th>tip</th>\n",
       "      <th>sex</th>\n",
       "      <th>smoker</th>\n",
       "      <th>day</th>\n",
       "      <th>time</th>\n",
       "      <th>size</th>\n",
       "    </tr>\n",
       "    <tr>\n",
       "      <th>sex</th>\n",
       "      <th></th>\n",
       "      <th></th>\n",
       "      <th></th>\n",
       "      <th></th>\n",
       "      <th></th>\n",
       "      <th></th>\n",
       "      <th></th>\n",
       "    </tr>\n",
       "  </thead>\n",
       "  <tbody>\n",
       "    <tr>\n",
       "      <td>Female</td>\n",
       "      <td>44.30</td>\n",
       "      <td>6.5</td>\n",
       "      <td>Female</td>\n",
       "      <td>Yes</td>\n",
       "      <td>Thur</td>\n",
       "      <td>Lunch</td>\n",
       "      <td>6</td>\n",
       "    </tr>\n",
       "    <tr>\n",
       "      <td>Male</td>\n",
       "      <td>32.83</td>\n",
       "      <td>2.0</td>\n",
       "      <td>Male</td>\n",
       "      <td>Yes</td>\n",
       "      <td>Thur</td>\n",
       "      <td>Lunch</td>\n",
       "      <td>5</td>\n",
       "    </tr>\n",
       "    <tr>\n",
       "      <td>foo</td>\n",
       "      <td>50.81</td>\n",
       "      <td>10.0</td>\n",
       "      <td>foo</td>\n",
       "      <td>Yes</td>\n",
       "      <td>Thur</td>\n",
       "      <td>Lunch</td>\n",
       "      <td>6</td>\n",
       "    </tr>\n",
       "  </tbody>\n",
       "</table>\n",
       "</div>"
      ],
      "text/plain": [
       "        total_bill   tip     sex smoker   day   time  size\n",
       "sex                                                       \n",
       "Female       44.30   6.5  Female    Yes  Thur  Lunch     6\n",
       "Male         32.83   2.0    Male    Yes  Thur  Lunch     5\n",
       "foo          50.81  10.0     foo    Yes  Thur  Lunch     6"
      ]
     },
     "execution_count": 135,
     "metadata": {},
     "output_type": "execute_result"
    }
   ],
   "source": [
    "tips.groupby(\"sex\").max()\n",
    "tips.groupby(\"sex\").apply(lambda c: c.max())"
   ]
  },
  {
   "cell_type": "code",
   "execution_count": 136,
   "metadata": {},
   "outputs": [
    {
     "data": {
      "text/html": [
       "<div>\n",
       "<style scoped>\n",
       "    .dataframe tbody tr th:only-of-type {\n",
       "        vertical-align: middle;\n",
       "    }\n",
       "\n",
       "    .dataframe tbody tr th {\n",
       "        vertical-align: top;\n",
       "    }\n",
       "\n",
       "    .dataframe thead th {\n",
       "        text-align: right;\n",
       "    }\n",
       "</style>\n",
       "<table border=\"1\" class=\"dataframe\">\n",
       "  <thead>\n",
       "    <tr style=\"text-align: right;\">\n",
       "      <th>day</th>\n",
       "      <th>Fri</th>\n",
       "      <th>Sat</th>\n",
       "      <th>Sun</th>\n",
       "      <th>Thur</th>\n",
       "    </tr>\n",
       "    <tr>\n",
       "      <th>sex</th>\n",
       "      <th></th>\n",
       "      <th></th>\n",
       "      <th></th>\n",
       "      <th></th>\n",
       "    </tr>\n",
       "  </thead>\n",
       "  <tbody>\n",
       "    <tr>\n",
       "      <td>Female</td>\n",
       "      <td>2.781111</td>\n",
       "      <td>2.801786</td>\n",
       "      <td>3.374211</td>\n",
       "      <td>2.575625</td>\n",
       "    </tr>\n",
       "    <tr>\n",
       "      <td>Male</td>\n",
       "      <td>1.625000</td>\n",
       "      <td>1.681500</td>\n",
       "      <td>1.830000</td>\n",
       "      <td>1.815000</td>\n",
       "    </tr>\n",
       "    <tr>\n",
       "      <td>foo</td>\n",
       "      <td>3.405000</td>\n",
       "      <td>3.803077</td>\n",
       "      <td>3.756098</td>\n",
       "      <td>3.563000</td>\n",
       "    </tr>\n",
       "  </tbody>\n",
       "</table>\n",
       "</div>"
      ],
      "text/plain": [
       "day          Fri       Sat       Sun      Thur\n",
       "sex                                           \n",
       "Female  2.781111  2.801786  3.374211  2.575625\n",
       "Male    1.625000  1.681500  1.830000  1.815000\n",
       "foo     3.405000  3.803077  3.756098  3.563000"
      ]
     },
     "execution_count": 136,
     "metadata": {},
     "output_type": "execute_result"
    }
   ],
   "source": [
    "# Challenge: \n",
    "# What is the mean tip, per day, for male vs. female?\n",
    "\n",
    "\n",
    "def day_mean(df):\n",
    "    # Hint: you will need to group by \"day\"\n",
    "    # in this function, then get the mean tip. \n",
    "    return df.groupby(\"day\").tip.mean()\n",
    "\n",
    "\n",
    "tips.groupby(\"sex\").apply(day_mean)"
   ]
  },
  {
   "cell_type": "markdown",
   "metadata": {},
   "source": [
    "\n",
    "# Multiple Groupby!\n",
    "\n",
    "That groupby induction that we just performed, it's quite a common use-case! So there's an even easier way to do it in Pandas. \n",
    "\n",
    "We can group by more than one column! \n",
    "\n",
    "For example the task we accomplished above could also be derived as: \n",
    "\n",
    "```python\n",
    "tips.groupby([\"sex\",\"day\"]).tip.mean()\n",
    "```"
   ]
  },
  {
   "cell_type": "code",
   "execution_count": 138,
   "metadata": {},
   "outputs": [
    {
     "data": {
      "text/html": [
       "<div>\n",
       "<style scoped>\n",
       "    .dataframe tbody tr th:only-of-type {\n",
       "        vertical-align: middle;\n",
       "    }\n",
       "\n",
       "    .dataframe tbody tr th {\n",
       "        vertical-align: top;\n",
       "    }\n",
       "\n",
       "    .dataframe thead th {\n",
       "        text-align: right;\n",
       "    }\n",
       "</style>\n",
       "<table border=\"1\" class=\"dataframe\">\n",
       "  <thead>\n",
       "    <tr style=\"text-align: right;\">\n",
       "      <th></th>\n",
       "      <th>day</th>\n",
       "      <th>sex</th>\n",
       "      <th>total_bill</th>\n",
       "      <th>tip</th>\n",
       "      <th>size</th>\n",
       "    </tr>\n",
       "  </thead>\n",
       "  <tbody>\n",
       "    <tr>\n",
       "      <td>0</td>\n",
       "      <td>Fri</td>\n",
       "      <td>Female</td>\n",
       "      <td>14.145556</td>\n",
       "      <td>2.781111</td>\n",
       "      <td>2.111111</td>\n",
       "    </tr>\n",
       "    <tr>\n",
       "      <td>1</td>\n",
       "      <td>Fri</td>\n",
       "      <td>Male</td>\n",
       "      <td>11.622500</td>\n",
       "      <td>1.625000</td>\n",
       "      <td>1.750000</td>\n",
       "    </tr>\n",
       "    <tr>\n",
       "      <td>2</td>\n",
       "      <td>Fri</td>\n",
       "      <td>foo</td>\n",
       "      <td>25.346667</td>\n",
       "      <td>3.405000</td>\n",
       "      <td>2.333333</td>\n",
       "    </tr>\n",
       "    <tr>\n",
       "      <td>3</td>\n",
       "      <td>Sat</td>\n",
       "      <td>Female</td>\n",
       "      <td>19.680357</td>\n",
       "      <td>2.801786</td>\n",
       "      <td>2.250000</td>\n",
       "    </tr>\n",
       "    <tr>\n",
       "      <td>4</td>\n",
       "      <td>Sat</td>\n",
       "      <td>Male</td>\n",
       "      <td>15.302000</td>\n",
       "      <td>1.681500</td>\n",
       "      <td>2.200000</td>\n",
       "    </tr>\n",
       "    <tr>\n",
       "      <td>5</td>\n",
       "      <td>Sat</td>\n",
       "      <td>foo</td>\n",
       "      <td>23.623333</td>\n",
       "      <td>3.803077</td>\n",
       "      <td>2.871795</td>\n",
       "    </tr>\n",
       "    <tr>\n",
       "      <td>6</td>\n",
       "      <td>Sun</td>\n",
       "      <td>Female</td>\n",
       "      <td>19.932105</td>\n",
       "      <td>3.374211</td>\n",
       "      <td>2.947368</td>\n",
       "    </tr>\n",
       "    <tr>\n",
       "      <td>7</td>\n",
       "      <td>Sun</td>\n",
       "      <td>Male</td>\n",
       "      <td>15.358125</td>\n",
       "      <td>1.830000</td>\n",
       "      <td>2.625000</td>\n",
       "    </tr>\n",
       "    <tr>\n",
       "      <td>8</td>\n",
       "      <td>Sun</td>\n",
       "      <td>foo</td>\n",
       "      <td>24.456585</td>\n",
       "      <td>3.756098</td>\n",
       "      <td>2.878049</td>\n",
       "    </tr>\n",
       "    <tr>\n",
       "      <td>9</td>\n",
       "      <td>Thur</td>\n",
       "      <td>Female</td>\n",
       "      <td>16.715312</td>\n",
       "      <td>2.575625</td>\n",
       "      <td>2.468750</td>\n",
       "    </tr>\n",
       "    <tr>\n",
       "      <td>10</td>\n",
       "      <td>Thur</td>\n",
       "      <td>Male</td>\n",
       "      <td>12.128000</td>\n",
       "      <td>1.815000</td>\n",
       "      <td>2.000000</td>\n",
       "    </tr>\n",
       "    <tr>\n",
       "      <td>11</td>\n",
       "      <td>Thur</td>\n",
       "      <td>foo</td>\n",
       "      <td>22.008000</td>\n",
       "      <td>3.563000</td>\n",
       "      <td>2.650000</td>\n",
       "    </tr>\n",
       "  </tbody>\n",
       "</table>\n",
       "</div>"
      ],
      "text/plain": [
       "     day     sex  total_bill       tip      size\n",
       "0    Fri  Female   14.145556  2.781111  2.111111\n",
       "1    Fri    Male   11.622500  1.625000  1.750000\n",
       "2    Fri     foo   25.346667  3.405000  2.333333\n",
       "3    Sat  Female   19.680357  2.801786  2.250000\n",
       "4    Sat    Male   15.302000  1.681500  2.200000\n",
       "5    Sat     foo   23.623333  3.803077  2.871795\n",
       "6    Sun  Female   19.932105  3.374211  2.947368\n",
       "7    Sun    Male   15.358125  1.830000  2.625000\n",
       "8    Sun     foo   24.456585  3.756098  2.878049\n",
       "9   Thur  Female   16.715312  2.575625  2.468750\n",
       "10  Thur    Male   12.128000  1.815000  2.000000\n",
       "11  Thur     foo   22.008000  3.563000  2.650000"
      ]
     },
     "execution_count": 138,
     "metadata": {},
     "output_type": "execute_result"
    }
   ],
   "source": [
    "tips.groupby(['day','sex']).mean().reset_index()"
   ]
  },
  {
   "cell_type": "code",
   "execution_count": 137,
   "metadata": {},
   "outputs": [
    {
     "data": {
      "text/plain": [
       "[(('Female', 'Fri'),      total_bill   tip     sex smoker  day    time  size\n",
       "  92         5.75  1.00  Female    Yes  Fri  Dinner     2\n",
       "  93        16.32  4.30  Female    Yes  Fri  Dinner     2\n",
       "  94        22.75  3.25  Female     No  Fri  Dinner     2\n",
       "  100       11.35  2.50  Female    Yes  Fri  Dinner     2\n",
       "  101       15.38  3.00  Female    Yes  Fri  Dinner     2\n",
       "  221       13.42  3.48  Female    Yes  Fri   Lunch     2\n",
       "  223       15.98  3.00  Female     No  Fri   Lunch     3\n",
       "  225       16.27  2.50  Female    Yes  Fri   Lunch     2\n",
       "  226       10.09  2.00  Female    Yes  Fri   Lunch     2),\n",
       " (('Female', 'Sat'),      total_bill   tip     sex smoker  day    time  size\n",
       "  21        20.29  2.75  Female     No  Sat  Dinner     2\n",
       "  22        15.77  2.23  Female     No  Sat  Dinner     2\n",
       "  29        19.65  3.00  Female     No  Sat  Dinner     2\n",
       "  32        15.06  3.00  Female     No  Sat  Dinner     2\n",
       "  33        20.69  2.45  Female     No  Sat  Dinner     4\n",
       "  37        16.93  3.07  Female     No  Sat  Dinner     3\n",
       "  57        26.41  1.50  Female     No  Sat  Dinner     2\n",
       "  66        16.45  2.47  Female     No  Sat  Dinner     2\n",
       "  67         3.07  1.00  Female    Yes  Sat  Dinner     1\n",
       "  71        17.07  3.00  Female     No  Sat  Dinner     3\n",
       "  72        26.86  3.14  Female    Yes  Sat  Dinner     2\n",
       "  73        25.28  5.00  Female    Yes  Sat  Dinner     2\n",
       "  74        14.73  2.20  Female     No  Sat  Dinner     2\n",
       "  102       44.30  2.50  Female    Yes  Sat  Dinner     3\n",
       "  103       22.42  3.48  Female    Yes  Sat  Dinner     2\n",
       "  104       20.92  4.08  Female     No  Sat  Dinner     2\n",
       "  109       14.31  4.00  Female    Yes  Sat  Dinner     2\n",
       "  111        7.25  1.00  Female     No  Sat  Dinner     1\n",
       "  168       10.59  1.61  Female    Yes  Sat  Dinner     2\n",
       "  169       10.63  2.00  Female    Yes  Sat  Dinner     2\n",
       "  209       12.76  2.23  Female    Yes  Sat  Dinner     2\n",
       "  213       13.27  2.50  Female    Yes  Sat  Dinner     2\n",
       "  214       28.17  6.50  Female    Yes  Sat  Dinner     3\n",
       "  215       12.90  1.10  Female    Yes  Sat  Dinner     2\n",
       "  219       30.14  3.09  Female    Yes  Sat  Dinner     4\n",
       "  229       22.12  2.88  Female    Yes  Sat  Dinner     2\n",
       "  238       35.83  4.67  Female     No  Sat  Dinner     3\n",
       "  240       27.18  2.00  Female    Yes  Sat  Dinner     2),\n",
       " (('Female', 'Sun'),      total_bill   tip     sex smoker  day    time  size\n",
       "  0         16.99  1.01  Female     No  Sun  Dinner     2\n",
       "  2         21.01  3.50  Female     No  Sun  Dinner     3\n",
       "  4         24.59  3.61  Female     No  Sun  Dinner     4\n",
       "  11        35.26  5.00  Female     No  Sun  Dinner     4\n",
       "  14        14.83  3.02  Female     No  Sun  Dinner     2\n",
       "  16        10.33  1.67  Female     No  Sun  Dinner     3\n",
       "  18        16.97  3.50  Female     No  Sun  Dinner     3\n",
       "  51        10.29  2.60  Female     No  Sun  Dinner     2\n",
       "  52        34.81  5.20  Female     No  Sun  Dinner     4\n",
       "  114       25.71  4.00  Female     No  Sun  Dinner     3\n",
       "  115       17.31  3.50  Female     No  Sun  Dinner     2\n",
       "  155       29.85  5.14  Female     No  Sun  Dinner     5\n",
       "  157       25.00  3.75  Female     No  Sun  Dinner     4\n",
       "  158       13.39  2.61  Female     No  Sun  Dinner     2\n",
       "  162       16.21  2.00  Female     No  Sun  Dinner     3\n",
       "  164       17.51  3.00  Female    Yes  Sun  Dinner     2\n",
       "  178        9.60  4.00  Female    Yes  Sun  Dinner     2\n",
       "  186       20.90  3.50  Female    Yes  Sun  Dinner     3\n",
       "  188       18.15  3.50  Female    Yes  Sun  Dinner     3),\n",
       " (('Female', 'Thur'),      total_bill   tip     sex smoker   day    time  size\n",
       "  82        10.07  1.83  Female     No  Thur   Lunch     1\n",
       "  85        34.83  5.17  Female     No  Thur   Lunch     4\n",
       "  117       10.65  1.50  Female     No  Thur   Lunch     2\n",
       "  118       12.43  1.80  Female     No  Thur   Lunch     2\n",
       "  119       24.08  2.92  Female     No  Thur   Lunch     4\n",
       "  121       13.42  1.68  Female     No  Thur   Lunch     2\n",
       "  124       12.48  2.52  Female     No  Thur   Lunch     2\n",
       "  125       29.80  4.20  Female     No  Thur   Lunch     6\n",
       "  127       14.52  2.00  Female     No  Thur   Lunch     2\n",
       "  128       11.38  2.00  Female     No  Thur   Lunch     2\n",
       "  131       20.27  2.83  Female     No  Thur   Lunch     2\n",
       "  132       11.17  1.50  Female     No  Thur   Lunch     2\n",
       "  133       12.26  2.00  Female     No  Thur   Lunch     2\n",
       "  134       18.26  3.25  Female     No  Thur   Lunch     2\n",
       "  135        8.51  1.25  Female     No  Thur   Lunch     2\n",
       "  136       10.33  2.00  Female     No  Thur   Lunch     2\n",
       "  137       14.15  2.00  Female     No  Thur   Lunch     2\n",
       "  139       13.16  2.75  Female     No  Thur   Lunch     2\n",
       "  140       17.47  3.50  Female     No  Thur   Lunch     2\n",
       "  143       27.05  5.00  Female     No  Thur   Lunch     6\n",
       "  144       16.43  2.30  Female     No  Thur   Lunch     2\n",
       "  145        8.35  1.50  Female     No  Thur   Lunch     2\n",
       "  146       18.64  1.36  Female     No  Thur   Lunch     3\n",
       "  147       11.87  1.63  Female     No  Thur   Lunch     2\n",
       "  191       19.81  4.19  Female    Yes  Thur   Lunch     2\n",
       "  197       43.11  5.00  Female    Yes  Thur   Lunch     4\n",
       "  198       13.00  2.00  Female    Yes  Thur   Lunch     2\n",
       "  201       12.74  2.01  Female    Yes  Thur   Lunch     2\n",
       "  202       13.00  2.00  Female    Yes  Thur   Lunch     2\n",
       "  203       16.40  2.50  Female    Yes  Thur   Lunch     2\n",
       "  205       16.47  3.23  Female    Yes  Thur   Lunch     3\n",
       "  243       18.78  3.00  Female     No  Thur  Dinner     2),\n",
       " (('Male', 'Fri'),      total_bill   tip   sex smoker  day    time  size\n",
       "  97        12.03  1.50  Male    Yes  Fri  Dinner     2\n",
       "  99        12.46  1.50  Male     No  Fri  Dinner     2\n",
       "  222        8.58  1.92  Male    Yes  Fri   Lunch     1\n",
       "  224       13.42  1.58  Male    Yes  Fri   Lunch     2),\n",
       " (('Male', 'Sat'),      total_bill   tip   sex smoker  day    time  size\n",
       "  26        13.37  2.00  Male     No  Sat  Dinner     2\n",
       "  27        12.69  2.00  Male     No  Sat  Dinner     2\n",
       "  30         9.55  1.45  Male     No  Sat  Dinner     2\n",
       "  36        16.31  2.00  Male     No  Sat  Dinner     3\n",
       "  58        11.24  1.76  Male    Yes  Sat  Dinner     2\n",
       "  61        13.81  2.00  Male    Yes  Sat  Dinner     2\n",
       "  62        11.02  1.98  Male    Yes  Sat  Dinner     2\n",
       "  70        12.02  1.97  Male     No  Sat  Dinner     2\n",
       "  75        10.51  1.25  Male     No  Sat  Dinner     2\n",
       "  105       15.36  1.64  Male    Yes  Sat  Dinner     2\n",
       "  210       30.06  2.00  Male    Yes  Sat  Dinner     3\n",
       "  217       11.59  1.50  Male    Yes  Sat  Dinner     2\n",
       "  218        7.74  1.44  Male    Yes  Sat  Dinner     2\n",
       "  230       24.01  2.00  Male    Yes  Sat  Dinner     4\n",
       "  233       10.77  1.47  Male     No  Sat  Dinner     2\n",
       "  235       10.07  1.25  Male     No  Sat  Dinner     2\n",
       "  236       12.60  1.00  Male    Yes  Sat  Dinner     2\n",
       "  237       32.83  1.17  Male    Yes  Sat  Dinner     2\n",
       "  241       22.67  2.00  Male    Yes  Sat  Dinner     2\n",
       "  242       17.82  1.75  Male     No  Sat  Dinner     2),\n",
       " (('Male', 'Sun'),      total_bill   tip   sex smoker  day    time  size\n",
       "  1         10.34  1.66  Male     No  Sun  Dinner     3\n",
       "  6          8.77  2.00  Male     No  Sun  Dinner     2\n",
       "  8         15.04  1.96  Male     No  Sun  Dinner     2\n",
       "  10        10.27  1.71  Male     No  Sun  Dinner     2\n",
       "  12        15.42  1.57  Male     No  Sun  Dinner     2\n",
       "  43         9.68  1.32  Male     No  Sun  Dinner     2\n",
       "  53         9.94  1.56  Male     No  Sun  Dinner     2\n",
       "  151       13.13  2.00  Male     No  Sun  Dinner     2\n",
       "  153       24.55  2.00  Male     No  Sun  Dinner     4\n",
       "  154       19.77  2.00  Male     No  Sun  Dinner     4\n",
       "  159       16.49  2.00  Male     No  Sun  Dinner     4\n",
       "  163       13.81  2.00  Male     No  Sun  Dinner     2\n",
       "  176       17.89  2.00  Male    Yes  Sun  Dinner     2\n",
       "  177       14.48  2.00  Male    Yes  Sun  Dinner     2\n",
       "  187       30.46  2.00  Male    Yes  Sun  Dinner     5\n",
       "  190       15.69  1.50  Male    Yes  Sun  Dinner     2),\n",
       " (('Male', 'Thur'),      total_bill   tip   sex smoker   day   time  size\n",
       "  86        13.03  2.00  Male     No  Thur  Lunch     2\n",
       "  123       15.95  2.00  Male     No  Thur  Lunch     2\n",
       "  126        8.52  1.48  Male     No  Thur  Lunch     2\n",
       "  130       19.08  1.50  Male     No  Thur  Lunch     2\n",
       "  138       16.00  2.00  Male    Yes  Thur  Lunch     2\n",
       "  148        9.78  1.73  Male     No  Thur  Lunch     2\n",
       "  149        7.51  2.00  Male     No  Thur  Lunch     2\n",
       "  195        7.56  1.44  Male     No  Thur  Lunch     2\n",
       "  196       10.34  2.00  Male    Yes  Thur  Lunch     2\n",
       "  199       13.51  2.00  Male    Yes  Thur  Lunch     2),\n",
       " (('foo', 'Fri'),      total_bill   tip  sex smoker  day    time  size\n",
       "  90        28.97  3.00  foo    Yes  Fri  Dinner     2\n",
       "  91        22.49  3.50  foo     No  Fri  Dinner     2\n",
       "  95        40.17  4.73  foo    Yes  Fri  Dinner     4\n",
       "  96        27.28  4.00  foo    Yes  Fri  Dinner     2\n",
       "  98        21.01  3.00  foo    Yes  Fri  Dinner     2\n",
       "  220       12.16  2.20  foo    Yes  Fri   Lunch     2),\n",
       " (('foo', 'Sat'),      total_bill    tip  sex smoker  day    time  size\n",
       "  19        20.65   3.35  foo     No  Sat  Dinner     3\n",
       "  20        17.92   4.08  foo     No  Sat  Dinner     2\n",
       "  23        39.42   7.58  foo     No  Sat  Dinner     4\n",
       "  24        19.82   3.18  foo     No  Sat  Dinner     2\n",
       "  25        17.81   2.34  foo     No  Sat  Dinner     4\n",
       "  28        21.70   4.30  foo     No  Sat  Dinner     2\n",
       "  31        18.35   2.50  foo     No  Sat  Dinner     4\n",
       "  34        17.78   3.27  foo     No  Sat  Dinner     2\n",
       "  35        24.06   3.60  foo     No  Sat  Dinner     3\n",
       "  38        18.69   2.31  foo     No  Sat  Dinner     3\n",
       "  39        31.27   5.00  foo     No  Sat  Dinner     3\n",
       "  40        16.04   2.24  foo     No  Sat  Dinner     3\n",
       "  56        38.01   3.00  foo    Yes  Sat  Dinner     4\n",
       "  59        48.27   6.73  foo     No  Sat  Dinner     4\n",
       "  60        20.29   3.21  foo    Yes  Sat  Dinner     2\n",
       "  63        18.29   3.76  foo    Yes  Sat  Dinner     4\n",
       "  64        17.59   2.64  foo     No  Sat  Dinner     3\n",
       "  65        20.08   3.15  foo     No  Sat  Dinner     3\n",
       "  68        20.23   2.01  foo     No  Sat  Dinner     2\n",
       "  69        15.01   2.09  foo    Yes  Sat  Dinner     2\n",
       "  76        17.92   3.08  foo    Yes  Sat  Dinner     2\n",
       "  106       20.49   4.06  foo    Yes  Sat  Dinner     2\n",
       "  107       25.21   4.29  foo    Yes  Sat  Dinner     2\n",
       "  108       18.24   3.76  foo     No  Sat  Dinner     2\n",
       "  110       14.00   3.00  foo     No  Sat  Dinner     2\n",
       "  170       50.81  10.00  foo    Yes  Sat  Dinner     3\n",
       "  171       15.81   3.16  foo    Yes  Sat  Dinner     2\n",
       "  206       26.59   3.41  foo    Yes  Sat  Dinner     3\n",
       "  207       38.73   3.00  foo    Yes  Sat  Dinner     4\n",
       "  208       24.27   2.03  foo    Yes  Sat  Dinner     2\n",
       "  211       25.89   5.16  foo    Yes  Sat  Dinner     4\n",
       "  212       48.33   9.00  foo     No  Sat  Dinner     4\n",
       "  216       28.15   3.00  foo    Yes  Sat  Dinner     5\n",
       "  227       20.45   3.00  foo     No  Sat  Dinner     4\n",
       "  228       13.28   2.72  foo     No  Sat  Dinner     2\n",
       "  231       15.69   3.00  foo    Yes  Sat  Dinner     3\n",
       "  232       11.61   3.39  foo     No  Sat  Dinner     2\n",
       "  234       15.53   3.00  foo    Yes  Sat  Dinner     2\n",
       "  239       29.03   5.92  foo     No  Sat  Dinner     3),\n",
       " (('foo', 'Sun'),      total_bill   tip  sex smoker  day    time  size\n",
       "  3         23.68  3.31  foo     No  Sun  Dinner     2\n",
       "  5         25.29  4.71  foo     No  Sun  Dinner     4\n",
       "  7         26.88  3.12  foo     No  Sun  Dinner     4\n",
       "  9         14.78  3.23  foo     No  Sun  Dinner     2\n",
       "  13        18.43  3.00  foo     No  Sun  Dinner     4\n",
       "  15        21.58  3.92  foo     No  Sun  Dinner     2\n",
       "  17        16.29  3.71  foo     No  Sun  Dinner     3\n",
       "  41        17.46  2.54  foo     No  Sun  Dinner     2\n",
       "  42        13.94  3.06  foo     No  Sun  Dinner     2\n",
       "  44        30.40  5.60  foo     No  Sun  Dinner     4\n",
       "  45        18.29  3.00  foo     No  Sun  Dinner     2\n",
       "  46        22.23  5.00  foo     No  Sun  Dinner     2\n",
       "  47        32.40  6.00  foo     No  Sun  Dinner     4\n",
       "  48        28.55  2.05  foo     No  Sun  Dinner     3\n",
       "  49        18.04  3.00  foo     No  Sun  Dinner     2\n",
       "  50        12.54  2.50  foo     No  Sun  Dinner     2\n",
       "  54        25.56  4.34  foo     No  Sun  Dinner     4\n",
       "  55        19.49  3.51  foo     No  Sun  Dinner     2\n",
       "  112       38.07  4.00  foo     No  Sun  Dinner     3\n",
       "  113       23.95  2.55  foo     No  Sun  Dinner     2\n",
       "  116       29.93  5.07  foo     No  Sun  Dinner     4\n",
       "  150       14.07  2.50  foo     No  Sun  Dinner     2\n",
       "  152       17.26  2.74  foo     No  Sun  Dinner     3\n",
       "  156       48.17  5.00  foo     No  Sun  Dinner     6\n",
       "  160       21.50  3.50  foo     No  Sun  Dinner     4\n",
       "  161       12.66  2.50  foo     No  Sun  Dinner     2\n",
       "  165       24.52  3.48  foo     No  Sun  Dinner     3\n",
       "  166       20.76  2.24  foo     No  Sun  Dinner     2\n",
       "  167       31.71  4.50  foo     No  Sun  Dinner     4\n",
       "  172        7.25  5.15  foo    Yes  Sun  Dinner     2\n",
       "  173       31.85  3.18  foo    Yes  Sun  Dinner     2\n",
       "  174       16.82  4.00  foo    Yes  Sun  Dinner     2\n",
       "  175       32.90  3.11  foo    Yes  Sun  Dinner     2\n",
       "  179       34.63  3.55  foo    Yes  Sun  Dinner     2\n",
       "  180       34.65  3.68  foo    Yes  Sun  Dinner     4\n",
       "  181       23.33  5.65  foo    Yes  Sun  Dinner     2\n",
       "  182       45.35  3.50  foo    Yes  Sun  Dinner     3\n",
       "  183       23.17  6.50  foo    Yes  Sun  Dinner     4\n",
       "  184       40.55  3.00  foo    Yes  Sun  Dinner     2\n",
       "  185       20.69  5.00  foo     No  Sun  Dinner     5\n",
       "  189       23.10  4.00  foo    Yes  Sun  Dinner     3),\n",
       " (('foo', 'Thur'),      total_bill   tip  sex smoker   day   time  size\n",
       "  77        27.20  4.00  foo     No  Thur  Lunch     4\n",
       "  78        22.76  3.00  foo     No  Thur  Lunch     2\n",
       "  79        17.29  2.71  foo     No  Thur  Lunch     2\n",
       "  80        19.44  3.00  foo    Yes  Thur  Lunch     2\n",
       "  81        16.66  3.40  foo     No  Thur  Lunch     2\n",
       "  83        32.68  5.00  foo    Yes  Thur  Lunch     2\n",
       "  84        15.98  2.03  foo     No  Thur  Lunch     2\n",
       "  87        18.28  4.00  foo     No  Thur  Lunch     2\n",
       "  88        24.71  5.85  foo     No  Thur  Lunch     2\n",
       "  89        21.16  3.00  foo     No  Thur  Lunch     2\n",
       "  120       11.69  2.31  foo     No  Thur  Lunch     2\n",
       "  122       14.26  2.50  foo     No  Thur  Lunch     2\n",
       "  129       22.82  2.18  foo     No  Thur  Lunch     3\n",
       "  141       34.30  6.70  foo     No  Thur  Lunch     6\n",
       "  142       41.19  5.00  foo     No  Thur  Lunch     5\n",
       "  192       28.44  2.56  foo    Yes  Thur  Lunch     2\n",
       "  193       15.48  2.02  foo    Yes  Thur  Lunch     2\n",
       "  194       16.58  4.00  foo    Yes  Thur  Lunch     2\n",
       "  200       18.71  4.00  foo    Yes  Thur  Lunch     3\n",
       "  204       20.53  4.00  foo    Yes  Thur  Lunch     4)]"
      ]
     },
     "execution_count": 137,
     "metadata": {},
     "output_type": "execute_result"
    }
   ],
   "source": [
    "# Take a look at the structure of the multiple groupby!\n",
    "\n",
    "list(tips.groupby([\"sex\", \"day\"]))"
   ]
  },
  {
   "cell_type": "markdown",
   "metadata": {
    "slideshow": {
     "slide_type": "slide"
    }
   },
   "source": [
    "## Combining dataframes\n",
    "\n",
    "There are many ways to combine various dataframes into a new one, extending in many ways what we already saw for operations on series. The main (among various) ways of doing this are: \n",
    "\n",
    "+ Concatenate: paste row-column-wise and taking action on NaNs\n",
    "    + This works more on the rectangular structure of the data \n",
    "+ Merge: combine dataframes using a common piece of information, e.g. a common column\n",
    "    + This works more as a database operation\n"
   ]
  },
  {
   "cell_type": "markdown",
   "metadata": {
    "slideshow": {
     "slide_type": "slide"
    }
   },
   "source": [
    "### Concatenate\n",
    "\n",
    "```python\n",
    "pd.concat([df1,df2,...] , axis = 0 , join = \"outer\", *keywds) \n",
    "```\n",
    "\n",
    "+ axis: 0 for pasting below, 1 for pasting on the side (order in list matters either way) \n",
    "\n",
    "What do you think will happen in the following case? \n",
    "\n",
    "```python\n",
    "df1 = pd.DataFrame({\"A\": pd.Series([1,2,3]), \"B\": pd.Series([4,5,6])})\n",
    "df2 = pd.DataFrame({\"A\": pd.Series([4]), \"C\": pd.Series([7])})\n",
    "df = pd.concat([df1,df2])\n",
    "print(df.loc[0])\n",
    "```\n",
    "\n",
    "The argument *join* can control the decisions to be taken in concatenating dataframes with key or index incompatibility. \n",
    "\n",
    "+ join: \"outer\" union, \"inner\" intersection \n",
    "\n",
    "What do you think will happen if we replace the concatenation step by: \n",
    "\n",
    "```python\n",
    "df = pd.concat([df1,df2], join = \"inner\")\n",
    "print(df.loc[0])\n",
    "```\n",
    "\n",
    "And what about this code? \n",
    "\n",
    "```python\n",
    "df1 = pd.DataFrame({\"A\": pd.Series([1,2,3]), \"B\": pd.Series([4,5,6])})\n",
    "df2 = pd.DataFrame({\"A\": pd.Series([4]), \"C\": pd.Series([7])})\n",
    "df = pd.concat([df1,df2],axis = 1,join = \"inner\")\n",
    "print(df[\"A\"])\n",
    "```\n",
    "\n",
    "\n"
   ]
  },
  {
   "cell_type": "code",
   "execution_count": 149,
   "metadata": {},
   "outputs": [
    {
     "name": "stdout",
     "output_type": "stream",
     "text": [
      "A    1.0\n",
      "B    4.0\n",
      "C    NaN\n",
      "Name: 0, dtype: float64\n"
     ]
    },
    {
     "name": "stderr",
     "output_type": "stream",
     "text": [
      "/opt/conda/lib/python3.7/site-packages/ipykernel_launcher.py:3: FutureWarning: Sorting because non-concatenation axis is not aligned. A future version\n",
      "of pandas will change to not sort by default.\n",
      "\n",
      "To accept the future behavior, pass 'sort=False'.\n",
      "\n",
      "To retain the current behavior and silence the warning, pass 'sort=True'.\n",
      "\n",
      "  This is separate from the ipykernel package so we can avoid doing imports until\n"
     ]
    },
    {
     "data": {
      "text/html": [
       "<div>\n",
       "<style scoped>\n",
       "    .dataframe tbody tr th:only-of-type {\n",
       "        vertical-align: middle;\n",
       "    }\n",
       "\n",
       "    .dataframe tbody tr th {\n",
       "        vertical-align: top;\n",
       "    }\n",
       "\n",
       "    .dataframe thead th {\n",
       "        text-align: right;\n",
       "    }\n",
       "</style>\n",
       "<table border=\"1\" class=\"dataframe\">\n",
       "  <thead>\n",
       "    <tr style=\"text-align: right;\">\n",
       "      <th></th>\n",
       "      <th>A</th>\n",
       "      <th>B</th>\n",
       "    </tr>\n",
       "  </thead>\n",
       "  <tbody>\n",
       "    <tr>\n",
       "      <td>0</td>\n",
       "      <td>1</td>\n",
       "      <td>4</td>\n",
       "    </tr>\n",
       "    <tr>\n",
       "      <td>1</td>\n",
       "      <td>2</td>\n",
       "      <td>5</td>\n",
       "    </tr>\n",
       "    <tr>\n",
       "      <td>2</td>\n",
       "      <td>3</td>\n",
       "      <td>6</td>\n",
       "    </tr>\n",
       "  </tbody>\n",
       "</table>\n",
       "</div>"
      ],
      "text/plain": [
       "   A  B\n",
       "0  1  4\n",
       "1  2  5\n",
       "2  3  6"
      ]
     },
     "metadata": {},
     "output_type": "display_data"
    },
    {
     "data": {
      "text/html": [
       "<div>\n",
       "<style scoped>\n",
       "    .dataframe tbody tr th:only-of-type {\n",
       "        vertical-align: middle;\n",
       "    }\n",
       "\n",
       "    .dataframe tbody tr th {\n",
       "        vertical-align: top;\n",
       "    }\n",
       "\n",
       "    .dataframe thead th {\n",
       "        text-align: right;\n",
       "    }\n",
       "</style>\n",
       "<table border=\"1\" class=\"dataframe\">\n",
       "  <thead>\n",
       "    <tr style=\"text-align: right;\">\n",
       "      <th></th>\n",
       "      <th>A</th>\n",
       "      <th>C</th>\n",
       "    </tr>\n",
       "  </thead>\n",
       "  <tbody>\n",
       "    <tr>\n",
       "      <td>0</td>\n",
       "      <td>4</td>\n",
       "      <td>7</td>\n",
       "    </tr>\n",
       "  </tbody>\n",
       "</table>\n",
       "</div>"
      ],
      "text/plain": [
       "   A  C\n",
       "0  4  7"
      ]
     },
     "metadata": {},
     "output_type": "display_data"
    },
    {
     "data": {
      "text/html": [
       "<div>\n",
       "<style scoped>\n",
       "    .dataframe tbody tr th:only-of-type {\n",
       "        vertical-align: middle;\n",
       "    }\n",
       "\n",
       "    .dataframe tbody tr th {\n",
       "        vertical-align: top;\n",
       "    }\n",
       "\n",
       "    .dataframe thead th {\n",
       "        text-align: right;\n",
       "    }\n",
       "</style>\n",
       "<table border=\"1\" class=\"dataframe\">\n",
       "  <thead>\n",
       "    <tr style=\"text-align: right;\">\n",
       "      <th></th>\n",
       "      <th>A</th>\n",
       "      <th>B</th>\n",
       "      <th>C</th>\n",
       "    </tr>\n",
       "  </thead>\n",
       "  <tbody>\n",
       "    <tr>\n",
       "      <td>0</td>\n",
       "      <td>1</td>\n",
       "      <td>4.0</td>\n",
       "      <td>NaN</td>\n",
       "    </tr>\n",
       "    <tr>\n",
       "      <td>1</td>\n",
       "      <td>2</td>\n",
       "      <td>5.0</td>\n",
       "      <td>NaN</td>\n",
       "    </tr>\n",
       "    <tr>\n",
       "      <td>2</td>\n",
       "      <td>3</td>\n",
       "      <td>6.0</td>\n",
       "      <td>NaN</td>\n",
       "    </tr>\n",
       "    <tr>\n",
       "      <td>3</td>\n",
       "      <td>4</td>\n",
       "      <td>NaN</td>\n",
       "      <td>7.0</td>\n",
       "    </tr>\n",
       "  </tbody>\n",
       "</table>\n",
       "</div>"
      ],
      "text/plain": [
       "   A    B    C\n",
       "0  1  4.0  NaN\n",
       "1  2  5.0  NaN\n",
       "2  3  6.0  NaN\n",
       "3  4  NaN  7.0"
      ]
     },
     "metadata": {},
     "output_type": "display_data"
    }
   ],
   "source": [
    "df1 = pd.DataFrame({\"A\": pd.Series([1,2,3]), \"B\": pd.Series([4,5,6])})\n",
    "df2 = pd.DataFrame({\"A\": pd.Series([4]), \"C\": pd.Series([7])})\n",
    "df = pd.concat([df1,df2]).reset_index(drop=True)\n",
    "df = pd.concat([df1,df2],ignore_index=True,axis=0,sort=False)\n",
    "\n",
    "\n",
    "print(df.loc[0])\n",
    "\n",
    "display(df1,df2,df)"
   ]
  },
  {
   "cell_type": "markdown",
   "metadata": {
    "slideshow": {
     "slide_type": "slide"
    }
   },
   "source": [
    "### Merge\n",
    "\n",
    "The concept here is to connect two DataFrames on some common piece of information, e.g. a common column. The structure of the command is: \n",
    "\n",
    "```python\n",
    "pd.merge(leftdf, rightdf, how = \"inner\", on = , *keywds)  \n",
    "```\n",
    "\n",
    "+ \"on\" defines on what piece of information the DataFrames will merge, this can be a column name or a list thereof\n",
    "+ \"how\" is more versatile than \"join\" in pd.concat. There are four options:\n",
    "    + \"inner\": intersection of keys\n",
    "    + \"outer\": union of keys\n",
    "    + \"left\": use keys from left only\n",
    "    + \"right\": use keys from right only\n",
    "\n",
    "\n",
    "We revisit the previous construct and try now to merge instead. What do you think will happen below: (and what about the index labels now, compared to pd.concat??) \n",
    "\n",
    "```python\n",
    "df1 = pd.DataFrame({\"A\": pd.Series([1,2,3]), \"B\": pd.Series([4,5,6])})\n",
    "df2 = pd.DataFrame({\"A\": pd.Series([4]), \"C\": pd.Series([7])})\n",
    "df = pd.merge(df1,df2,on = \"A\", how = \"outer\")\n",
    "print(df)\n",
    "```\n",
    "and what will happen if \"how\" changes to each of the other options?"
   ]
  },
  {
   "cell_type": "code",
   "execution_count": 148,
   "metadata": {},
   "outputs": [
    {
     "name": "stdout",
     "output_type": "stream",
     "text": [
      "   A    B    C\n",
      "0  1  4.0  NaN\n",
      "1  2  5.0  NaN\n",
      "2  3  6.0  NaN\n",
      "3  4  NaN  7.0\n"
     ]
    }
   ],
   "source": [
    "df1 = pd.DataFrame({\"A\": pd.Series([1,2,3]), \"B\": pd.Series([4,5,6])})\n",
    "df2 = pd.DataFrame({\"A\": pd.Series([4]), \"C\": pd.Series([7])})\n",
    "df = pd.merge(df1,df2,on = \"A\", how = \"outer\")\n",
    "print(df)"
   ]
  },
  {
   "cell_type": "markdown",
   "metadata": {},
   "source": [
    "## Working with non-rectangular data\n",
    "\n",
    "We mentioned in the beginning that Pandas is a library for working with rectangular data. \n",
    "\n",
    "What if your data is not rectangular? What does non-rectangular data look like? Very often our data might come in dictionaries. Imagine data about a \"tweet\". It might look like this: \n",
    "\n",
    "\n",
    "```python\n",
    "{\n",
    "    \"screenname\": \"nandanrao\",\n",
    "    \"id_str\": \"928374987\",\n",
    "    \"text\": \"Woah, pandas is so much fun #worldrocked #jawdrop #win\",\n",
    "    \"hashtags\": [\"worldrocked\", \"jawdrop\", \"win\"]\n",
    "}\n",
    "```\n",
    "\n",
    "How would you fit this into a rectangular data format? Do the \"hashtags\" cause a problem? "
   ]
  },
  {
   "cell_type": "code",
   "execution_count": 200,
   "metadata": {},
   "outputs": [
    {
     "data": {
      "text/html": [
       "<div>\n",
       "<style scoped>\n",
       "    .dataframe tbody tr th:only-of-type {\n",
       "        vertical-align: middle;\n",
       "    }\n",
       "\n",
       "    .dataframe tbody tr th {\n",
       "        vertical-align: top;\n",
       "    }\n",
       "\n",
       "    .dataframe thead th {\n",
       "        text-align: right;\n",
       "    }\n",
       "</style>\n",
       "<table border=\"1\" class=\"dataframe\">\n",
       "  <thead>\n",
       "    <tr style=\"text-align: right;\">\n",
       "      <th></th>\n",
       "      <th>screenname</th>\n",
       "      <th>id_str</th>\n",
       "      <th>text</th>\n",
       "      <th>hashtags</th>\n",
       "    </tr>\n",
       "  </thead>\n",
       "  <tbody>\n",
       "    <tr>\n",
       "      <td>0</td>\n",
       "      <td>nandanrao</td>\n",
       "      <td>928374987</td>\n",
       "      <td>Woah, pandas is so much fun #worldrocked #jawd...</td>\n",
       "      <td>[worldrocked, jawdrop, ml]</td>\n",
       "    </tr>\n",
       "    <tr>\n",
       "      <td>1</td>\n",
       "      <td>om</td>\n",
       "      <td>98214039</td>\n",
       "      <td>I eat linear models for breakfast #datascience...</td>\n",
       "      <td>[datascience, ml, crossfit]</td>\n",
       "    </tr>\n",
       "  </tbody>\n",
       "</table>\n",
       "</div>"
      ],
      "text/plain": [
       "  screenname     id_str                                               text  \\\n",
       "0  nandanrao  928374987  Woah, pandas is so much fun #worldrocked #jawd...   \n",
       "1         om   98214039  I eat linear models for breakfast #datascience...   \n",
       "\n",
       "                      hashtags  \n",
       "0   [worldrocked, jawdrop, ml]  \n",
       "1  [datascience, ml, crossfit]  "
      ]
     },
     "execution_count": 200,
     "metadata": {},
     "output_type": "execute_result"
    }
   ],
   "source": [
    "raw_tweets = [{ \"screenname\": \"nandanrao\",\n",
    "          \"id_str\": \"928374987\",\n",
    "          \"text\": \"Woah, pandas is so much fun #worldrocked #jawdrop #ml\",\n",
    "          \"hashtags\": [\"worldrocked\", \"jawdrop\", \"ml\"]},\n",
    "          {\"screenname\": \"om\",\n",
    "           \"id_str\": \"98214039\",\n",
    "           \"text\": \"I eat linear models for breakfast #datascience #ml #crossfit\",\n",
    "           \"hashtags\": [\"datascience\", \"ml\", \"crossfit\"]}]\n",
    "\n",
    "tweets = pd.DataFrame(raw_tweets)\n",
    "\n",
    "# What is the \"hashtag\" column made of? \n",
    "tweets"
   ]
  },
  {
   "cell_type": "markdown",
   "metadata": {},
   "source": [
    "## Merge keeps the data flat\n",
    "\n",
    "The correct way to use data such as this in pandas, data with nested lists, is to copy each tweet to multiple rows, one row for each hashtag. \n",
    "\n",
    "We can use \"merge\" to do this for us automatically if we put the data into two separate dataframes, one for the hashtags and one for the rest of the tweets. This is called \"normalized form\" and is often how you will find data if you get it from a SQL database: "
   ]
  },
  {
   "cell_type": "code",
   "execution_count": 201,
   "metadata": {},
   "outputs": [
    {
     "data": {
      "text/html": [
       "<div>\n",
       "<style scoped>\n",
       "    .dataframe tbody tr th:only-of-type {\n",
       "        vertical-align: middle;\n",
       "    }\n",
       "\n",
       "    .dataframe tbody tr th {\n",
       "        vertical-align: top;\n",
       "    }\n",
       "\n",
       "    .dataframe thead th {\n",
       "        text-align: right;\n",
       "    }\n",
       "</style>\n",
       "<table border=\"1\" class=\"dataframe\">\n",
       "  <thead>\n",
       "    <tr style=\"text-align: right;\">\n",
       "      <th></th>\n",
       "      <th>screenname</th>\n",
       "      <th>id_str</th>\n",
       "      <th>text</th>\n",
       "    </tr>\n",
       "  </thead>\n",
       "  <tbody>\n",
       "    <tr>\n",
       "      <td>0</td>\n",
       "      <td>nandanrao</td>\n",
       "      <td>928374987</td>\n",
       "      <td>Woah, pandas is so much fun #worldrocked #jawd...</td>\n",
       "    </tr>\n",
       "    <tr>\n",
       "      <td>1</td>\n",
       "      <td>om</td>\n",
       "      <td>98214039</td>\n",
       "      <td>I eat linear models for breakfast #datascience...</td>\n",
       "    </tr>\n",
       "  </tbody>\n",
       "</table>\n",
       "</div>"
      ],
      "text/plain": [
       "  screenname     id_str                                               text\n",
       "0  nandanrao  928374987  Woah, pandas is so much fun #worldrocked #jawd...\n",
       "1         om   98214039  I eat linear models for breakfast #datascience..."
      ]
     },
     "execution_count": 201,
     "metadata": {},
     "output_type": "execute_result"
    }
   ],
   "source": [
    "tweets = pd.DataFrame(raw_tweets, columns = [\"screenname\", \"id_str\", \"text\"])\n",
    "tweets"
   ]
  },
  {
   "cell_type": "code",
   "execution_count": 202,
   "metadata": {},
   "outputs": [
    {
     "data": {
      "text/html": [
       "<div>\n",
       "<style scoped>\n",
       "    .dataframe tbody tr th:only-of-type {\n",
       "        vertical-align: middle;\n",
       "    }\n",
       "\n",
       "    .dataframe tbody tr th {\n",
       "        vertical-align: top;\n",
       "    }\n",
       "\n",
       "    .dataframe thead th {\n",
       "        text-align: right;\n",
       "    }\n",
       "</style>\n",
       "<table border=\"1\" class=\"dataframe\">\n",
       "  <thead>\n",
       "    <tr style=\"text-align: right;\">\n",
       "      <th></th>\n",
       "      <th>id_str</th>\n",
       "      <th>hashtag</th>\n",
       "    </tr>\n",
       "  </thead>\n",
       "  <tbody>\n",
       "    <tr>\n",
       "      <td>0</td>\n",
       "      <td>928374987</td>\n",
       "      <td>worldrocked</td>\n",
       "    </tr>\n",
       "    <tr>\n",
       "      <td>1</td>\n",
       "      <td>928374987</td>\n",
       "      <td>jawdrop</td>\n",
       "    </tr>\n",
       "    <tr>\n",
       "      <td>2</td>\n",
       "      <td>928374987</td>\n",
       "      <td>ml</td>\n",
       "    </tr>\n",
       "    <tr>\n",
       "      <td>3</td>\n",
       "      <td>98214039</td>\n",
       "      <td>datascience</td>\n",
       "    </tr>\n",
       "    <tr>\n",
       "      <td>4</td>\n",
       "      <td>98214039</td>\n",
       "      <td>ml</td>\n",
       "    </tr>\n",
       "    <tr>\n",
       "      <td>5</td>\n",
       "      <td>98214039</td>\n",
       "      <td>crossfit</td>\n",
       "    </tr>\n",
       "  </tbody>\n",
       "</table>\n",
       "</div>"
      ],
      "text/plain": [
       "      id_str      hashtag\n",
       "0  928374987  worldrocked\n",
       "1  928374987      jawdrop\n",
       "2  928374987           ml\n",
       "3   98214039  datascience\n",
       "4   98214039           ml\n",
       "5   98214039     crossfit"
      ]
     },
     "execution_count": 202,
     "metadata": {},
     "output_type": "execute_result"
    }
   ],
   "source": [
    "# REALLY COOL IDEA!!\n",
    "\n",
    "tags_and_ids = [(t['id_str'], tag) \n",
    "                for t in raw_tweets \n",
    "                for tag in t['hashtags']]\n",
    "\n",
    "hashtags = pd.DataFrame(tags_and_ids, columns = ['id_str', 'hashtag'])\n",
    "\n",
    "hashtags"
   ]
  },
  {
   "cell_type": "code",
   "execution_count": 203,
   "metadata": {
    "scrolled": true
   },
   "outputs": [
    {
     "data": {
      "text/html": [
       "<div>\n",
       "<style scoped>\n",
       "    .dataframe tbody tr th:only-of-type {\n",
       "        vertical-align: middle;\n",
       "    }\n",
       "\n",
       "    .dataframe tbody tr th {\n",
       "        vertical-align: top;\n",
       "    }\n",
       "\n",
       "    .dataframe thead th {\n",
       "        text-align: right;\n",
       "    }\n",
       "</style>\n",
       "<table border=\"1\" class=\"dataframe\">\n",
       "  <thead>\n",
       "    <tr style=\"text-align: right;\">\n",
       "      <th></th>\n",
       "      <th>screenname</th>\n",
       "      <th>id_str</th>\n",
       "      <th>text</th>\n",
       "      <th>hashtag</th>\n",
       "    </tr>\n",
       "  </thead>\n",
       "  <tbody>\n",
       "    <tr>\n",
       "      <td>0</td>\n",
       "      <td>nandanrao</td>\n",
       "      <td>928374987</td>\n",
       "      <td>Woah, pandas is so much fun #worldrocked #jawd...</td>\n",
       "      <td>worldrocked</td>\n",
       "    </tr>\n",
       "    <tr>\n",
       "      <td>1</td>\n",
       "      <td>nandanrao</td>\n",
       "      <td>928374987</td>\n",
       "      <td>Woah, pandas is so much fun #worldrocked #jawd...</td>\n",
       "      <td>jawdrop</td>\n",
       "    </tr>\n",
       "    <tr>\n",
       "      <td>2</td>\n",
       "      <td>nandanrao</td>\n",
       "      <td>928374987</td>\n",
       "      <td>Woah, pandas is so much fun #worldrocked #jawd...</td>\n",
       "      <td>ml</td>\n",
       "    </tr>\n",
       "    <tr>\n",
       "      <td>3</td>\n",
       "      <td>om</td>\n",
       "      <td>98214039</td>\n",
       "      <td>I eat linear models for breakfast #datascience...</td>\n",
       "      <td>datascience</td>\n",
       "    </tr>\n",
       "    <tr>\n",
       "      <td>4</td>\n",
       "      <td>om</td>\n",
       "      <td>98214039</td>\n",
       "      <td>I eat linear models for breakfast #datascience...</td>\n",
       "      <td>ml</td>\n",
       "    </tr>\n",
       "    <tr>\n",
       "      <td>5</td>\n",
       "      <td>om</td>\n",
       "      <td>98214039</td>\n",
       "      <td>I eat linear models for breakfast #datascience...</td>\n",
       "      <td>crossfit</td>\n",
       "    </tr>\n",
       "  </tbody>\n",
       "</table>\n",
       "</div>"
      ],
      "text/plain": [
       "  screenname     id_str                                               text  \\\n",
       "0  nandanrao  928374987  Woah, pandas is so much fun #worldrocked #jawd...   \n",
       "1  nandanrao  928374987  Woah, pandas is so much fun #worldrocked #jawd...   \n",
       "2  nandanrao  928374987  Woah, pandas is so much fun #worldrocked #jawd...   \n",
       "3         om   98214039  I eat linear models for breakfast #datascience...   \n",
       "4         om   98214039  I eat linear models for breakfast #datascience...   \n",
       "5         om   98214039  I eat linear models for breakfast #datascience...   \n",
       "\n",
       "       hashtag  \n",
       "0  worldrocked  \n",
       "1      jawdrop  \n",
       "2           ml  \n",
       "3  datascience  \n",
       "4           ml  \n",
       "5     crossfit  "
      ]
     },
     "execution_count": 203,
     "metadata": {},
     "output_type": "execute_result"
    }
   ],
   "source": [
    "df = tweets.merge(hashtags, how='left')\n",
    "\n",
    "df"
   ]
  },
  {
   "cell_type": "code",
   "execution_count": 205,
   "metadata": {},
   "outputs": [
    {
     "data": {
      "text/plain": [
       "ml             2\n",
       "datascience    1\n",
       "crossfit       1\n",
       "jawdrop        1\n",
       "worldrocked    1\n",
       "Name: hashtag, dtype: int64"
      ]
     },
     "execution_count": 205,
     "metadata": {},
     "output_type": "execute_result"
    }
   ],
   "source": [
    "df.hashtag.value_counts()"
   ]
  },
  {
   "cell_type": "markdown",
   "metadata": {},
   "source": [
    "## Programming project: Customer of the month\n",
    "\n",
    "\n",
    "- We have a list of prices for certain products given in the file \"supermarket_prices.csv\"\n",
    "- We have a list of transactions from certain customers in a period of a month given in \"supermarket_transactions.csv\"\n",
    "\n",
    "Calculate\n",
    "- How many items each client has purchased\n",
    "- How many items of each type each client has purchased\n",
    "- Calculate the total amount spent by each client\n",
    "- The company that provides the supermarket with bananas wishes to give a prize to the client that has spent the largest proportion of their spending on bananas. Who should win the prize? \n",
    "- A marketing company that works with the supermarket is interested to understand better the characteristics of the three people that have spent most of their spending on bananas. For each one of them report the other product that they have spent most of their remaining income on\n",
    "\n",
    "*Needless to say that eyeballing is OK for making sure your code makes sense, but will not result in full credits for the project. We want a fully automated code. To carry out the project successfully you need to use most the attributes and methods described earlier. The last one is a little tricky*"
   ]
  },
  {
   "cell_type": "code",
   "execution_count": 156,
   "metadata": {},
   "outputs": [
    {
     "data": {
      "text/html": [
       "<div>\n",
       "<style scoped>\n",
       "    .dataframe tbody tr th:only-of-type {\n",
       "        vertical-align: middle;\n",
       "    }\n",
       "\n",
       "    .dataframe tbody tr th {\n",
       "        vertical-align: top;\n",
       "    }\n",
       "\n",
       "    .dataframe thead th {\n",
       "        text-align: right;\n",
       "    }\n",
       "</style>\n",
       "<table border=\"1\" class=\"dataframe\">\n",
       "  <thead>\n",
       "    <tr style=\"text-align: right;\">\n",
       "      <th></th>\n",
       "      <th>Product</th>\n",
       "      <th>Price</th>\n",
       "    </tr>\n",
       "  </thead>\n",
       "  <tbody>\n",
       "    <tr>\n",
       "      <td>0</td>\n",
       "      <td>tomato</td>\n",
       "      <td>2.1</td>\n",
       "    </tr>\n",
       "    <tr>\n",
       "      <td>1</td>\n",
       "      <td>potato</td>\n",
       "      <td>3.4</td>\n",
       "    </tr>\n",
       "    <tr>\n",
       "      <td>2</td>\n",
       "      <td>apple</td>\n",
       "      <td>1.2</td>\n",
       "    </tr>\n",
       "    <tr>\n",
       "      <td>3</td>\n",
       "      <td>orange</td>\n",
       "      <td>4.3</td>\n",
       "    </tr>\n",
       "    <tr>\n",
       "      <td>4</td>\n",
       "      <td>banana</td>\n",
       "      <td>5.2</td>\n",
       "    </tr>\n",
       "  </tbody>\n",
       "</table>\n",
       "</div>"
      ],
      "text/plain": [
       "  Product  Price\n",
       "0  tomato    2.1\n",
       "1  potato    3.4\n",
       "2   apple    1.2\n",
       "3  orange    4.3\n",
       "4  banana    5.2"
      ]
     },
     "execution_count": 156,
     "metadata": {},
     "output_type": "execute_result"
    }
   ],
   "source": [
    "prices=pd.read_csv(\"supermarket_prices.csv\")\n",
    "prices.head()"
   ]
  },
  {
   "cell_type": "code",
   "execution_count": 157,
   "metadata": {},
   "outputs": [
    {
     "data": {
      "text/html": [
       "<div>\n",
       "<style scoped>\n",
       "    .dataframe tbody tr th:only-of-type {\n",
       "        vertical-align: middle;\n",
       "    }\n",
       "\n",
       "    .dataframe tbody tr th {\n",
       "        vertical-align: top;\n",
       "    }\n",
       "\n",
       "    .dataframe thead th {\n",
       "        text-align: right;\n",
       "    }\n",
       "</style>\n",
       "<table border=\"1\" class=\"dataframe\">\n",
       "  <thead>\n",
       "    <tr style=\"text-align: right;\">\n",
       "      <th></th>\n",
       "      <th>Buyer</th>\n",
       "      <th>Product</th>\n",
       "      <th>Quantity</th>\n",
       "    </tr>\n",
       "  </thead>\n",
       "  <tbody>\n",
       "    <tr>\n",
       "      <td>0</td>\n",
       "      <td>Jackson</td>\n",
       "      <td>apple</td>\n",
       "      <td>4</td>\n",
       "    </tr>\n",
       "    <tr>\n",
       "      <td>1</td>\n",
       "      <td>Jackson</td>\n",
       "      <td>apple</td>\n",
       "      <td>9</td>\n",
       "    </tr>\n",
       "    <tr>\n",
       "      <td>2</td>\n",
       "      <td>John</td>\n",
       "      <td>orange</td>\n",
       "      <td>9</td>\n",
       "    </tr>\n",
       "    <tr>\n",
       "      <td>3</td>\n",
       "      <td>John</td>\n",
       "      <td>potato</td>\n",
       "      <td>10</td>\n",
       "    </tr>\n",
       "    <tr>\n",
       "      <td>4</td>\n",
       "      <td>Tom</td>\n",
       "      <td>tomato</td>\n",
       "      <td>4</td>\n",
       "    </tr>\n",
       "  </tbody>\n",
       "</table>\n",
       "</div>"
      ],
      "text/plain": [
       "     Buyer Product  Quantity\n",
       "0  Jackson   apple         4\n",
       "1  Jackson   apple         9\n",
       "2     John  orange         9\n",
       "3     John  potato        10\n",
       "4      Tom  tomato         4"
      ]
     },
     "execution_count": 157,
     "metadata": {},
     "output_type": "execute_result"
    }
   ],
   "source": [
    "transactions=pd.read_csv(\"supermarket_transactions.csv\")\n",
    "transactions.head()"
   ]
  },
  {
   "cell_type": "code",
   "execution_count": 158,
   "metadata": {},
   "outputs": [
    {
     "data": {
      "text/html": [
       "<div>\n",
       "<style scoped>\n",
       "    .dataframe tbody tr th:only-of-type {\n",
       "        vertical-align: middle;\n",
       "    }\n",
       "\n",
       "    .dataframe tbody tr th {\n",
       "        vertical-align: top;\n",
       "    }\n",
       "\n",
       "    .dataframe thead th {\n",
       "        text-align: right;\n",
       "    }\n",
       "</style>\n",
       "<table border=\"1\" class=\"dataframe\">\n",
       "  <thead>\n",
       "    <tr style=\"text-align: right;\">\n",
       "      <th></th>\n",
       "      <th>Buyer</th>\n",
       "      <th>Product</th>\n",
       "      <th>Quantity</th>\n",
       "      <th>Price</th>\n",
       "    </tr>\n",
       "  </thead>\n",
       "  <tbody>\n",
       "    <tr>\n",
       "      <td>0</td>\n",
       "      <td>Jackson</td>\n",
       "      <td>apple</td>\n",
       "      <td>4</td>\n",
       "      <td>1.2</td>\n",
       "    </tr>\n",
       "    <tr>\n",
       "      <td>1</td>\n",
       "      <td>Jackson</td>\n",
       "      <td>apple</td>\n",
       "      <td>9</td>\n",
       "      <td>1.2</td>\n",
       "    </tr>\n",
       "    <tr>\n",
       "      <td>2</td>\n",
       "      <td>John</td>\n",
       "      <td>orange</td>\n",
       "      <td>9</td>\n",
       "      <td>4.3</td>\n",
       "    </tr>\n",
       "    <tr>\n",
       "      <td>3</td>\n",
       "      <td>John</td>\n",
       "      <td>potato</td>\n",
       "      <td>10</td>\n",
       "      <td>3.4</td>\n",
       "    </tr>\n",
       "    <tr>\n",
       "      <td>4</td>\n",
       "      <td>Tom</td>\n",
       "      <td>tomato</td>\n",
       "      <td>4</td>\n",
       "      <td>2.1</td>\n",
       "    </tr>\n",
       "  </tbody>\n",
       "</table>\n",
       "</div>"
      ],
      "text/plain": [
       "     Buyer Product  Quantity  Price\n",
       "0  Jackson   apple         4    1.2\n",
       "1  Jackson   apple         9    1.2\n",
       "2     John  orange         9    4.3\n",
       "3     John  potato        10    3.4\n",
       "4      Tom  tomato         4    2.1"
      ]
     },
     "execution_count": 158,
     "metadata": {},
     "output_type": "execute_result"
    }
   ],
   "source": [
    "df=transactions.join(prices.set_index('Product'), on='Product')\n",
    "df.head()"
   ]
  },
  {
   "cell_type": "code",
   "execution_count": 162,
   "metadata": {},
   "outputs": [
    {
     "data": {
      "text/plain": [
       "Buyer\n",
       "Emma        81\n",
       "Jackson     70\n",
       "John       122\n",
       "Liam        81\n",
       "Lucas       62\n",
       "Sandra      78\n",
       "Sophia      61\n",
       "Tom         49\n",
       "Name: Quantity, dtype: int64"
      ]
     },
     "metadata": {},
     "output_type": "display_data"
    }
   ],
   "source": [
    "\n",
    "\n",
    "# How many items\n",
    "display(df.groupby(\"Buyer\").Quantity.sum())\n",
    "#display(df.columns)\n",
    "\n"
   ]
  },
  {
   "cell_type": "code",
   "execution_count": 163,
   "metadata": {},
   "outputs": [
    {
     "data": {
      "text/plain": [
       "Buyer    Product\n",
       "Emma     apple      25\n",
       "         banana     26\n",
       "         potato     14\n",
       "         tomato     16\n",
       "Jackson  apple      18\n",
       "         orange     28\n",
       "         potato      8\n",
       "         tomato     16\n",
       "John     apple       7\n",
       "         banana     28\n",
       "         orange     46\n",
       "         potato     18\n",
       "         tomato     23\n",
       "Liam     apple      21\n",
       "         banana     16\n",
       "         orange     16\n",
       "         potato     21\n",
       "         tomato      7\n",
       "Lucas    apple      14\n",
       "         banana      3\n",
       "         orange     17\n",
       "         potato      9\n",
       "         tomato     19\n",
       "Sandra   banana      2\n",
       "         orange     37\n",
       "         potato     38\n",
       "         tomato      1\n",
       "Sophia   apple      14\n",
       "         banana     13\n",
       "         orange      7\n",
       "         potato     14\n",
       "         tomato     13\n",
       "Tom      apple      18\n",
       "         banana      6\n",
       "         potato     16\n",
       "         tomato      9\n",
       "Name: Quantity, dtype: int64"
      ]
     },
     "metadata": {},
     "output_type": "display_data"
    }
   ],
   "source": [
    "# How many items\n",
    "display(df.groupby([\"Buyer\",\"Product\"]).Quantity.sum())\n",
    "#display(df.columns)"
   ]
  },
  {
   "cell_type": "code",
   "execution_count": 164,
   "metadata": {},
   "outputs": [],
   "source": [
    "df[\"bill\"]=df[\"Quantity\"]*df[\"Price\"]"
   ]
  },
  {
   "cell_type": "code",
   "execution_count": 165,
   "metadata": {},
   "outputs": [
    {
     "data": {
      "text/plain": [
       "Index(['Buyer', 'Product', 'Quantity', 'Price', 'bill'], dtype='object')"
      ]
     },
     "execution_count": 165,
     "metadata": {},
     "output_type": "execute_result"
    }
   ],
   "source": [
    "df.columns"
   ]
  },
  {
   "cell_type": "code",
   "execution_count": 166,
   "metadata": {},
   "outputs": [
    {
     "data": {
      "text/html": [
       "<div>\n",
       "<style scoped>\n",
       "    .dataframe tbody tr th:only-of-type {\n",
       "        vertical-align: middle;\n",
       "    }\n",
       "\n",
       "    .dataframe tbody tr th {\n",
       "        vertical-align: top;\n",
       "    }\n",
       "\n",
       "    .dataframe thead th {\n",
       "        text-align: right;\n",
       "    }\n",
       "</style>\n",
       "<table border=\"1\" class=\"dataframe\">\n",
       "  <thead>\n",
       "    <tr style=\"text-align: right;\">\n",
       "      <th></th>\n",
       "      <th>Buyer</th>\n",
       "      <th>Product</th>\n",
       "      <th>Quantity</th>\n",
       "      <th>Price</th>\n",
       "      <th>bill</th>\n",
       "    </tr>\n",
       "  </thead>\n",
       "  <tbody>\n",
       "    <tr>\n",
       "      <td>0</td>\n",
       "      <td>Jackson</td>\n",
       "      <td>apple</td>\n",
       "      <td>4</td>\n",
       "      <td>1.2</td>\n",
       "      <td>4.8</td>\n",
       "    </tr>\n",
       "    <tr>\n",
       "      <td>1</td>\n",
       "      <td>Jackson</td>\n",
       "      <td>apple</td>\n",
       "      <td>9</td>\n",
       "      <td>1.2</td>\n",
       "      <td>10.8</td>\n",
       "    </tr>\n",
       "    <tr>\n",
       "      <td>2</td>\n",
       "      <td>John</td>\n",
       "      <td>orange</td>\n",
       "      <td>9</td>\n",
       "      <td>4.3</td>\n",
       "      <td>38.7</td>\n",
       "    </tr>\n",
       "    <tr>\n",
       "      <td>3</td>\n",
       "      <td>John</td>\n",
       "      <td>potato</td>\n",
       "      <td>10</td>\n",
       "      <td>3.4</td>\n",
       "      <td>34.0</td>\n",
       "    </tr>\n",
       "    <tr>\n",
       "      <td>4</td>\n",
       "      <td>Tom</td>\n",
       "      <td>tomato</td>\n",
       "      <td>4</td>\n",
       "      <td>2.1</td>\n",
       "      <td>8.4</td>\n",
       "    </tr>\n",
       "  </tbody>\n",
       "</table>\n",
       "</div>"
      ],
      "text/plain": [
       "     Buyer Product  Quantity  Price  bill\n",
       "0  Jackson   apple         4    1.2   4.8\n",
       "1  Jackson   apple         9    1.2  10.8\n",
       "2     John  orange         9    4.3  38.7\n",
       "3     John  potato        10    3.4  34.0\n",
       "4      Tom  tomato         4    2.1   8.4"
      ]
     },
     "execution_count": 166,
     "metadata": {},
     "output_type": "execute_result"
    }
   ],
   "source": [
    "df.head()"
   ]
  },
  {
   "cell_type": "code",
   "execution_count": 181,
   "metadata": {},
   "outputs": [
    {
     "data": {
      "text/plain": [
       "Buyer\n",
       "Emma       246.4\n",
       "Jackson    202.8\n",
       "John       461.3\n",
       "Liam       263.3\n",
       "Lucas      176.0\n",
       "Sandra     300.8\n",
       "Sophia     189.4\n",
       "Tom        126.1\n",
       "Name: bill, dtype: float64"
      ]
     },
     "metadata": {},
     "output_type": "display_data"
    }
   ],
   "source": [
    "total_spent=df.groupby([\"Buyer\"]).bill.sum()\n",
    "display(total_spent)\n",
    "\n"
   ]
  },
  {
   "cell_type": "code",
   "execution_count": 185,
   "metadata": {},
   "outputs": [
    {
     "data": {
      "text/plain": [
       "Buyer\n",
       "Emma      135.2\n",
       "John      145.6\n",
       "Liam       83.2\n",
       "Lucas      15.6\n",
       "Sandra     10.4\n",
       "Sophia     67.6\n",
       "Tom        31.2\n",
       "Name: bill, dtype: float64"
      ]
     },
     "metadata": {},
     "output_type": "display_data"
    }
   ],
   "source": [
    "banana_spent=df[df.Product==\"banana\"].groupby([\"Buyer\"]).bill.sum()\n",
    "display(banana_spent)"
   ]
  },
  {
   "cell_type": "code",
   "execution_count": 188,
   "metadata": {},
   "outputs": [
    {
     "data": {
      "text/plain": [
       "Index(['bill'], dtype='object')"
      ]
     },
     "metadata": {},
     "output_type": "display_data"
    },
    {
     "data": {
      "text/plain": [
       "Index(['Emma', 'Jackson', 'John', 'Liam', 'Lucas', 'Sandra', 'Sophia', 'Tom'], dtype='object', name='Buyer')"
      ]
     },
     "metadata": {},
     "output_type": "display_data"
    },
    {
     "data": {
      "text/plain": [
       "Index(['Emma', 'John', 'Liam', 'Lucas', 'Sandra', 'Sophia', 'Tom'], dtype='object', name='Buyer')"
      ]
     },
     "metadata": {},
     "output_type": "display_data"
    },
    {
     "data": {
      "text/html": [
       "<div>\n",
       "<style scoped>\n",
       "    .dataframe tbody tr th:only-of-type {\n",
       "        vertical-align: middle;\n",
       "    }\n",
       "\n",
       "    .dataframe tbody tr th {\n",
       "        vertical-align: top;\n",
       "    }\n",
       "\n",
       "    .dataframe thead th {\n",
       "        text-align: right;\n",
       "    }\n",
       "</style>\n",
       "<table border=\"1\" class=\"dataframe\">\n",
       "  <thead>\n",
       "    <tr style=\"text-align: right;\">\n",
       "      <th></th>\n",
       "      <th>bill_x</th>\n",
       "      <th>bill_y</th>\n",
       "    </tr>\n",
       "    <tr>\n",
       "      <th>Buyer</th>\n",
       "      <th></th>\n",
       "      <th></th>\n",
       "    </tr>\n",
       "  </thead>\n",
       "  <tbody>\n",
       "    <tr>\n",
       "      <td>Emma</td>\n",
       "      <td>246.4</td>\n",
       "      <td>135.2</td>\n",
       "    </tr>\n",
       "    <tr>\n",
       "      <td>Jackson</td>\n",
       "      <td>202.8</td>\n",
       "      <td>NaN</td>\n",
       "    </tr>\n",
       "    <tr>\n",
       "      <td>John</td>\n",
       "      <td>461.3</td>\n",
       "      <td>145.6</td>\n",
       "    </tr>\n",
       "    <tr>\n",
       "      <td>Liam</td>\n",
       "      <td>263.3</td>\n",
       "      <td>83.2</td>\n",
       "    </tr>\n",
       "    <tr>\n",
       "      <td>Lucas</td>\n",
       "      <td>176.0</td>\n",
       "      <td>15.6</td>\n",
       "    </tr>\n",
       "    <tr>\n",
       "      <td>Sandra</td>\n",
       "      <td>300.8</td>\n",
       "      <td>10.4</td>\n",
       "    </tr>\n",
       "    <tr>\n",
       "      <td>Sophia</td>\n",
       "      <td>189.4</td>\n",
       "      <td>67.6</td>\n",
       "    </tr>\n",
       "    <tr>\n",
       "      <td>Tom</td>\n",
       "      <td>126.1</td>\n",
       "      <td>31.2</td>\n",
       "    </tr>\n",
       "  </tbody>\n",
       "</table>\n",
       "</div>"
      ],
      "text/plain": [
       "         bill_x  bill_y\n",
       "Buyer                  \n",
       "Emma      246.4   135.2\n",
       "Jackson   202.8     NaN\n",
       "John      461.3   145.6\n",
       "Liam      263.3    83.2\n",
       "Lucas     176.0    15.6\n",
       "Sandra    300.8    10.4\n",
       "Sophia    189.4    67.6\n",
       "Tom       126.1    31.2"
      ]
     },
     "metadata": {},
     "output_type": "display_data"
    }
   ],
   "source": [
    "total_spent=pd.DataFrame(total_spent)\n",
    "banana_spent=pd.DataFrame(banana_spent)\n",
    "\n",
    "display(total_spent.columns)\n",
    "display(total_spent.index)\n",
    "display(banana_spent.index)\n",
    "\n",
    "\n",
    "\n",
    "spent_table=total_spent.merge(banana_spent,how='outer',left_index=True, right_index=True)\n",
    "display(spent_table)"
   ]
  },
  {
   "cell_type": "code",
   "execution_count": 190,
   "metadata": {},
   "outputs": [
    {
     "data": {
      "text/html": [
       "<div>\n",
       "<style scoped>\n",
       "    .dataframe tbody tr th:only-of-type {\n",
       "        vertical-align: middle;\n",
       "    }\n",
       "\n",
       "    .dataframe tbody tr th {\n",
       "        vertical-align: top;\n",
       "    }\n",
       "\n",
       "    .dataframe thead th {\n",
       "        text-align: right;\n",
       "    }\n",
       "</style>\n",
       "<table border=\"1\" class=\"dataframe\">\n",
       "  <thead>\n",
       "    <tr style=\"text-align: right;\">\n",
       "      <th></th>\n",
       "      <th>Total_spent</th>\n",
       "      <th>Banana_spent</th>\n",
       "    </tr>\n",
       "    <tr>\n",
       "      <th>Buyer</th>\n",
       "      <th></th>\n",
       "      <th></th>\n",
       "    </tr>\n",
       "  </thead>\n",
       "  <tbody>\n",
       "    <tr>\n",
       "      <td>Emma</td>\n",
       "      <td>246.4</td>\n",
       "      <td>135.2</td>\n",
       "    </tr>\n",
       "    <tr>\n",
       "      <td>Jackson</td>\n",
       "      <td>202.8</td>\n",
       "      <td>NaN</td>\n",
       "    </tr>\n",
       "    <tr>\n",
       "      <td>John</td>\n",
       "      <td>461.3</td>\n",
       "      <td>145.6</td>\n",
       "    </tr>\n",
       "    <tr>\n",
       "      <td>Liam</td>\n",
       "      <td>263.3</td>\n",
       "      <td>83.2</td>\n",
       "    </tr>\n",
       "    <tr>\n",
       "      <td>Lucas</td>\n",
       "      <td>176.0</td>\n",
       "      <td>15.6</td>\n",
       "    </tr>\n",
       "    <tr>\n",
       "      <td>Sandra</td>\n",
       "      <td>300.8</td>\n",
       "      <td>10.4</td>\n",
       "    </tr>\n",
       "    <tr>\n",
       "      <td>Sophia</td>\n",
       "      <td>189.4</td>\n",
       "      <td>67.6</td>\n",
       "    </tr>\n",
       "    <tr>\n",
       "      <td>Tom</td>\n",
       "      <td>126.1</td>\n",
       "      <td>31.2</td>\n",
       "    </tr>\n",
       "  </tbody>\n",
       "</table>\n",
       "</div>"
      ],
      "text/plain": [
       "         Total_spent  Banana_spent\n",
       "Buyer                             \n",
       "Emma           246.4         135.2\n",
       "Jackson        202.8           NaN\n",
       "John           461.3         145.6\n",
       "Liam           263.3          83.2\n",
       "Lucas          176.0          15.6\n",
       "Sandra         300.8          10.4\n",
       "Sophia         189.4          67.6\n",
       "Tom            126.1          31.2"
      ]
     },
     "metadata": {},
     "output_type": "display_data"
    }
   ],
   "source": [
    "spent_table.columns=[\"Total_spent\",\"Banana_spent\"]\n",
    "\n",
    "display(spent_table)"
   ]
  },
  {
   "cell_type": "code",
   "execution_count": 191,
   "metadata": {},
   "outputs": [
    {
     "data": {
      "text/html": [
       "<div>\n",
       "<style scoped>\n",
       "    .dataframe tbody tr th:only-of-type {\n",
       "        vertical-align: middle;\n",
       "    }\n",
       "\n",
       "    .dataframe tbody tr th {\n",
       "        vertical-align: top;\n",
       "    }\n",
       "\n",
       "    .dataframe thead th {\n",
       "        text-align: right;\n",
       "    }\n",
       "</style>\n",
       "<table border=\"1\" class=\"dataframe\">\n",
       "  <thead>\n",
       "    <tr style=\"text-align: right;\">\n",
       "      <th></th>\n",
       "      <th>Total_spent</th>\n",
       "      <th>Banana_spent</th>\n",
       "      <th>Banana_share</th>\n",
       "    </tr>\n",
       "    <tr>\n",
       "      <th>Buyer</th>\n",
       "      <th></th>\n",
       "      <th></th>\n",
       "      <th></th>\n",
       "    </tr>\n",
       "  </thead>\n",
       "  <tbody>\n",
       "    <tr>\n",
       "      <td>Emma</td>\n",
       "      <td>246.4</td>\n",
       "      <td>135.2</td>\n",
       "      <td>0.548701</td>\n",
       "    </tr>\n",
       "    <tr>\n",
       "      <td>Jackson</td>\n",
       "      <td>202.8</td>\n",
       "      <td>NaN</td>\n",
       "      <td>NaN</td>\n",
       "    </tr>\n",
       "    <tr>\n",
       "      <td>John</td>\n",
       "      <td>461.3</td>\n",
       "      <td>145.6</td>\n",
       "      <td>0.315630</td>\n",
       "    </tr>\n",
       "    <tr>\n",
       "      <td>Liam</td>\n",
       "      <td>263.3</td>\n",
       "      <td>83.2</td>\n",
       "      <td>0.315989</td>\n",
       "    </tr>\n",
       "    <tr>\n",
       "      <td>Lucas</td>\n",
       "      <td>176.0</td>\n",
       "      <td>15.6</td>\n",
       "      <td>0.088636</td>\n",
       "    </tr>\n",
       "    <tr>\n",
       "      <td>Sandra</td>\n",
       "      <td>300.8</td>\n",
       "      <td>10.4</td>\n",
       "      <td>0.034574</td>\n",
       "    </tr>\n",
       "    <tr>\n",
       "      <td>Sophia</td>\n",
       "      <td>189.4</td>\n",
       "      <td>67.6</td>\n",
       "      <td>0.356917</td>\n",
       "    </tr>\n",
       "    <tr>\n",
       "      <td>Tom</td>\n",
       "      <td>126.1</td>\n",
       "      <td>31.2</td>\n",
       "      <td>0.247423</td>\n",
       "    </tr>\n",
       "  </tbody>\n",
       "</table>\n",
       "</div>"
      ],
      "text/plain": [
       "         Total_spent  Banana_spent  Banana_share\n",
       "Buyer                                           \n",
       "Emma           246.4         135.2      0.548701\n",
       "Jackson        202.8           NaN           NaN\n",
       "John           461.3         145.6      0.315630\n",
       "Liam           263.3          83.2      0.315989\n",
       "Lucas          176.0          15.6      0.088636\n",
       "Sandra         300.8          10.4      0.034574\n",
       "Sophia         189.4          67.6      0.356917\n",
       "Tom            126.1          31.2      0.247423"
      ]
     },
     "metadata": {},
     "output_type": "display_data"
    }
   ],
   "source": [
    "spent_table[\"Banana_share\"]=spent_table[\"Banana_spent\"]/spent_table[\"Total_spent\"]\n",
    "\n",
    "display(spent_table)"
   ]
  },
  {
   "cell_type": "code",
   "execution_count": 193,
   "metadata": {},
   "outputs": [
    {
     "data": {
      "text/plain": [
       "Buyer\n",
       "Liam      0.315989\n",
       "Sophia    0.356917\n",
       "Emma      0.548701\n",
       "Name: Banana_share, dtype: float64"
      ]
     },
     "metadata": {},
     "output_type": "display_data"
    }
   ],
   "source": [
    "banana_kings=spent_table.Banana_share.sort_values().iloc[-4:-1]\n",
    "display(banana_kings)"
   ]
  },
  {
   "cell_type": "code",
   "execution_count": 199,
   "metadata": {},
   "outputs": [
    {
     "data": {
      "text/plain": [
       "Buyer   Product\n",
       "Emma    apple       30.0\n",
       "        banana     135.2\n",
       "        potato      47.6\n",
       "        tomato      33.6\n",
       "Liam    apple       25.2\n",
       "        banana      83.2\n",
       "        orange      68.8\n",
       "        potato      71.4\n",
       "        tomato      14.7\n",
       "Sophia  apple       16.8\n",
       "        banana      67.6\n",
       "        orange      30.1\n",
       "        potato      47.6\n",
       "        tomato      27.3\n",
       "Name: bill, dtype: float64"
      ]
     },
     "metadata": {},
     "output_type": "display_data"
    }
   ],
   "source": [
    "#display(df[df[\"Buyer\"].isin(banana_kings.index)])\n",
    "\n",
    "\n",
    "display(df[df[\"Buyer\"].isin(banana_kings.index)].groupby([\"Buyer\",\"Product\"]).bill.sum())\n",
    "\n"
   ]
  },
  {
   "cell_type": "code",
   "execution_count": null,
   "metadata": {},
   "outputs": [],
   "source": []
  }
 ],
 "metadata": {
  "celltoolbar": "Slideshow",
  "kernelspec": {
   "display_name": "Python 3",
   "language": "python",
   "name": "python3"
  },
  "language_info": {
   "codemirror_mode": {
    "name": "ipython",
    "version": 3
   },
   "file_extension": ".py",
   "mimetype": "text/x-python",
   "name": "python",
   "nbconvert_exporter": "python",
   "pygments_lexer": "ipython3",
   "version": "3.7.3"
  }
 },
 "nbformat": 4,
 "nbformat_minor": 2
}
